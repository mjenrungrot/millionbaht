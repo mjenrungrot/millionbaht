{
 "cells": [
  {
   "cell_type": "code",
   "execution_count": 1,
   "metadata": {},
   "outputs": [],
   "source": [
    "from gtts import gTTS\n",
    "import torchaudio\n",
    "import torch\n",
    "import math\n",
    "\n",
    "from millionbaht.handler import _transform_strip, _transform_volume"
   ]
  },
  {
   "cell_type": "code",
   "execution_count": 2,
   "metadata": {},
   "outputs": [],
   "source": [
    "xx = gTTS(\"สวัสดีครับ\")"
   ]
  },
  {
   "cell_type": "code",
   "execution_count": 3,
   "metadata": {},
   "outputs": [],
   "source": [
    "xx.save(\"hello.wav\")"
   ]
  },
  {
   "cell_type": "code",
   "execution_count": 4,
   "metadata": {},
   "outputs": [],
   "source": [
    "x, sr = torchaudio.load(\"hello.wav\")"
   ]
  },
  {
   "cell_type": "code",
   "execution_count": 5,
   "metadata": {},
   "outputs": [],
   "source": [
    "y, sry = torchaudio.load(\"../dl/songs/gPxlYAqqlbk.mp4\")"
   ]
  },
  {
   "cell_type": "code",
   "execution_count": 6,
   "metadata": {},
   "outputs": [
    {
     "name": "stderr",
     "output_type": "stream",
     "text": [
      "[2024-02-01 00:21:46,788] [INFO    ] millionbaht.handler: _transform_volume Input: torch.Size([2, 19337216])\n",
      "[2024-02-01 00:21:47,531] [INFO    ] millionbaht.handler: _transform_volume Output: torch.Size([2, 19337216])\n"
     ]
    }
   ],
   "source": [
    "y, sry = _transform_volume(y, sry)"
   ]
  },
  {
   "cell_type": "code",
   "execution_count": 7,
   "metadata": {},
   "outputs": [
    {
     "name": "stderr",
     "output_type": "stream",
     "text": [
      "[2024-02-01 00:21:47,540] [INFO    ] millionbaht.handler: _transform_strip Input: torch.Size([2, 19337216])\n",
      "[2024-02-01 00:21:47,584] [INFO    ] millionbaht.handler: _transform_strip Output: torch.Size([2, 19337216])\n"
     ]
    }
   ],
   "source": [
    "yy, sry = _transform_strip(y, sry)"
   ]
  },
  {
   "cell_type": "code",
   "execution_count": 30,
   "metadata": {},
   "outputs": [
    {
     "data": {
      "text/plain": [
       "19342260"
      ]
     },
     "execution_count": 30,
     "metadata": {},
     "output_type": "execute_result"
    }
   ],
   "source": [
    "math.ceil(N / db_frames) * db_frames"
   ]
  },
  {
   "cell_type": "code",
   "execution_count": 40,
   "metadata": {},
   "outputs": [],
   "source": [
    "N = y.shape[-1]\n",
    "db_frames = round(0.2 * sry)\n",
    "yy = y.reshape(-1, N).mean(dim=-2)\n",
    "# yy = torch.nn.functional.pad(yy, (0, math.ceil(N / db_frames) * db_frames - N))\n",
    "# yy = yy.reshape(-1, db_frames)\n",
    "yy = yy.unfold(-1, db_frames, db_frames // 2)"
   ]
  },
  {
   "cell_type": "code",
   "execution_count": 41,
   "metadata": {},
   "outputs": [
    {
     "data": {
      "text/plain": [
       "tensor([-52.4771, -19.7382, -15.5709,  ..., -37.9007, -43.4563, -44.7401])"
      ]
     },
     "execution_count": 41,
     "metadata": {},
     "output_type": "execute_result"
    }
   ],
   "source": [
    "((yy.max(dim=-1).values - yy.min(dim=-1).values)V / math.sqrt(8)).log10() * 20"
   ]
  },
  {
   "cell_type": "code",
   "execution_count": 10,
   "metadata": {},
   "outputs": [
    {
     "data": {
      "text/plain": [
       "(tensor([0., 0.]), tensor([0., 0.]))"
      ]
     },
     "execution_count": 10,
     "metadata": {},
     "output_type": "execute_result"
    }
   ],
   "source": [
    "yy[..., 0], y[..., 0]"
   ]
  },
  {
   "cell_type": "code",
   "execution_count": 16,
   "metadata": {},
   "outputs": [
    {
     "data": {
      "text/plain": [
       "tensor(-19.5536)"
      ]
     },
     "execution_count": 16,
     "metadata": {},
     "output_type": "execute_result"
    }
   ],
   "source": [
    "torchaudio.functional.loudness(x, sr)"
   ]
  },
  {
   "cell_type": "code",
   "execution_count": 19,
   "metadata": {},
   "outputs": [
    {
     "data": {
      "text/plain": [
       "tensor(-8.6007)"
      ]
     },
     "execution_count": 19,
     "metadata": {},
     "output_type": "execute_result"
    }
   ],
   "source": [
    "torchaudio.functional.loudness(y, sry)"
   ]
  },
  {
   "cell_type": "code",
   "execution_count": 24,
   "metadata": {},
   "outputs": [],
   "source": [
    "kernel = torch.ones((1, 2, 1000))\n",
    "yyy = torch.nn.functional.conv1d(y, kernel, padding=\"same\")"
   ]
  },
  {
   "cell_type": "code",
   "execution_count": 25,
   "metadata": {},
   "outputs": [
    {
     "data": {
      "text/plain": [
       "tensor([[-2.3515e-06, -3.6842e-07,  2.6570e-06,  ...,  6.8440e-04,\n",
       "          6.2686e-04,  5.9338e-04]])"
      ]
     },
     "execution_count": 25,
     "metadata": {},
     "output_type": "execute_result"
    }
   ],
   "source": [
    "yyy"
   ]
  }
 ],
 "metadata": {
  "kernelspec": {
   "display_name": "mlb",
   "language": "python",
   "name": "python3"
  },
  "language_info": {
   "codemirror_mode": {
    "name": "ipython",
    "version": 3
   },
   "file_extension": ".py",
   "mimetype": "text/x-python",
   "name": "python",
   "nbconvert_exporter": "python",
   "pygments_lexer": "ipython3",
   "version": "3.11.7"
  }
 },
 "nbformat": 4,
 "nbformat_minor": 2
}
