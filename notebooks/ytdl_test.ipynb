{
 "cells": [
  {
   "cell_type": "code",
   "execution_count": 2,
   "metadata": {},
   "outputs": [],
   "source": [
    "import yt_dlp\n",
    "# from rich import print\n",
    "\n",
    "from millionbaht.constants import Constants"
   ]
  },
  {
   "cell_type": "code",
   "execution_count": 3,
   "metadata": {},
   "outputs": [],
   "source": [
    "def get_ydl() -> yt_dlp.YoutubeDL:\n",
    "    return yt_dlp.YoutubeDL(\n",
    "        {\n",
    "            \"format\": Constants.YTDL_FORMAT,\n",
    "            \"source_address\": \"0.0.0.0\",\n",
    "            \"default_search\": \"ytsearch\",\n",
    "            \"outtmpl\": \"%(id)s.%(ext)s\",\n",
    "            \"noplaylist\": True,\n",
    "            \"allow_playlist_files\": False,\n",
    "            # 'progress_hooks': [lambda info, ctx=ctx: video_progress_hook(ctx, info)],\n",
    "            # 'match_filter': lambda info, incomplete, will_need_search=will_need_search, ctx=ctx: start_hook(ctx, info, incomplete, will_need_search),\n",
    "            \"paths\": {\"home\": str(Constants.SONGDIR)},\n",
    "        }\n",
    "    )\n"
   ]
  },
  {
   "cell_type": "code",
   "execution_count": 4,
   "metadata": {},
   "outputs": [],
   "source": [
    "ydl = get_ydl()"
   ]
  },
  {
   "cell_type": "code",
   "execution_count": 5,
   "metadata": {},
   "outputs": [
    {
     "name": "stdout",
     "output_type": "stream",
     "text": [
      "[generic] Extracting URL: instinct songtopia lighthouse\n",
      "[youtube:search] Extracting URL: ytsearch:instinct songtopia lighthouse\n",
      "[download] Downloading playlist: instinct songtopia lighthouse\n",
      "[youtube:search] query \"instinct songtopia lighthouse\": Downloading web client config\n",
      "[youtube:search] Extracting URL: ytsearch:instinct songtopia lighthouse\n",
      "[download] Downloading playlist: instinct songtopia lighthouse\n",
      "[youtube:search] query \"instinct songtopia lighthouse\": Downloading web client config\n",
      "[youtube:search] query \"instinct songtopia lighthouse\" page 1: Downloading API JSON\n",
      "[youtube:search] Playlist instinct songtopia lighthouse: Downloading 1 items of 1\n",
      "[download] Downloading item 1 of 1\n",
      "[youtube] Extracting URL: https://www.youtube.com/watch?v=gPxlYAqqlbk\n",
      "[youtube] gPxlYAqqlbk: Downloading webpage\n",
      "[youtube] gPxlYAqqlbk: Downloading ios player API JSON\n",
      "[youtube] gPxlYAqqlbk: Downloading android player API JSON\n",
      "[youtube] gPxlYAqqlbk: Downloading m3u8 information\n",
      "[info] gPxlYAqqlbk: Downloading 1 format(s): 233\n",
      "[hlsnative] Downloading m3u8 manifest\n",
      "[hlsnative] Total fragments: 88\n",
      "[download] Destination: /mnt/d/Repos/millionbaht/dl/songs/gPxlYAqqlbk.mp4\n",
      "[download] 100% of    2.58MiB in 00:00:01 at 2.09MiB/s                   \n",
      "[download] Finished downloading playlist: instinct songtopia lighthouse\n"
     ]
    }
   ],
   "source": [
    "info = ydl.extract_info(\"gPxlYAqqlbk\")"
   ]
  },
  {
   "cell_type": "code",
   "execution_count": 6,
   "metadata": {},
   "outputs": [
    {
     "data": {
      "text/plain": [
       "{'id': 'gPxlYAqqlbk',\n",
       " 'title': 'โปรดส่งใครมารักฉันที - INSTINCT | Songtopia Livehouse',\n",
       " 'formats': [{'format_id': 'sb3',\n",
       "   'format_note': 'storyboard',\n",
       "   'ext': 'mhtml',\n",
       "   'protocol': 'mhtml',\n",
       "   'acodec': 'none',\n",
       "   'vcodec': 'none',\n",
       "   'url': 'https://i.ytimg.com/sb/gPxlYAqqlbk/storyboard3_L0/default.jpg?sqp=-oaymwENSDfyq4qpAwVwAcABBqLzl_8DBgiioP2nBg==&sigh=rs$AOn4CLBd636mDCtPppguIZyoPNVo1Lu6bA',\n",
       "   'width': 48,\n",
       "   'height': 27,\n",
       "   'fps': 0.22779043280182232,\n",
       "   'rows': 10,\n",
       "   'columns': 10,\n",
       "   'fragments': [{'url': 'https://i.ytimg.com/sb/gPxlYAqqlbk/storyboard3_L0/default.jpg?sqp=-oaymwENSDfyq4qpAwVwAcABBqLzl_8DBgiioP2nBg==&sigh=rs$AOn4CLBd636mDCtPppguIZyoPNVo1Lu6bA',\n",
       "     'duration': 439.0}],\n",
       "   'resolution': '48x27',\n",
       "   'aspect_ratio': 1.78,\n",
       "   'http_headers': {'User-Agent': 'Mozilla/5.0 (Windows NT 10.0; Win64; x64) AppleWebKit/537.36 (KHTML, like Gecko) Chrome/96.0.4664.45 Safari/537.36', 'Accept': 'text/html,application/xhtml+xml,application/xml;q=0.9,*/*;q=0.8', 'Accept-Language': 'en-us,en;q=0.5', 'Sec-Fetch-Mode': 'navigate'},\n",
       "   'audio_ext': 'none',\n",
       "   'video_ext': 'none',\n",
       "   'vbr': 0,\n",
       "   'abr': 0,\n",
       "   'tbr': None,\n",
       "   'format': 'sb3 - 48x27 (storyboard)'},\n",
       "  {'format_id': 'sb2',\n",
       "   'format_note': 'storyboard',\n",
       "   'ext': 'mhtml',\n",
       "   'protocol': 'mhtml',\n",
       "   'acodec': 'none',\n",
       "   'vcodec': 'none',\n",
       "   'url': 'https://i.ytimg.com/sb/gPxlYAqqlbk/storyboard3_L1/M$M.jpg?sqp=-oaymwENSDfyq4qpAwVwAcABBqLzl_8DBgiioP2nBg==&sigh=rs$AOn4CLB_fD3AJznnUFfBqUgZjoQn25gKpQ',\n",
       "   'width': 80,\n",
       "   'height': 45,\n",
       "   'fps': 0.20273348519362186,\n",
       "   'rows': 10,\n",
       "   'columns': 10,\n",
       "   'fragments': [{'url': 'https://i.ytimg.com/sb/gPxlYAqqlbk/storyboard3_L1/M0.jpg?sqp=-oaymwENSDfyq4qpAwVwAcABBqLzl_8DBgiioP2nBg==&sigh=rs$AOn4CLB_fD3AJznnUFfBqUgZjoQn25gKpQ',\n",
       "     'duration': 439.0}],\n",
       "   'resolution': '80x45',\n",
       "   'aspect_ratio': 1.78,\n",
       "   'http_headers': {'User-Agent': 'Mozilla/5.0 (Windows NT 10.0; Win64; x64) AppleWebKit/537.36 (KHTML, like Gecko) Chrome/96.0.4664.45 Safari/537.36', 'Accept': 'text/html,application/xhtml+xml,application/xml;q=0.9,*/*;q=0.8', 'Accept-Language': 'en-us,en;q=0.5', 'Sec-Fetch-Mode': 'navigate'},\n",
       "   'audio_ext': 'none',\n",
       "   'video_ext': 'none',\n",
       "   'vbr': 0,\n",
       "   'abr': 0,\n",
       "   'tbr': None,\n",
       "   'format': 'sb2 - 80x45 (storyboard)'},\n",
       "  {'format_id': 'sb1',\n",
       "   'format_note': 'storyboard',\n",
       "   'ext': 'mhtml',\n",
       "   'protocol': 'mhtml',\n",
       "   'acodec': 'none',\n",
       "   'vcodec': 'none',\n",
       "   'url': 'https://i.ytimg.com/sb/gPxlYAqqlbk/storyboard3_L2/M$M.jpg?sqp=-oaymwENSDfyq4qpAwVwAcABBqLzl_8DBgiioP2nBg==&sigh=rs$AOn4CLCTSxOVnJqRL7AFUl2GmH_pWRfU9Q',\n",
       "   'width': 160,\n",
       "   'height': 90,\n",
       "   'fps': 0.20273348519362186,\n",
       "   'rows': 5,\n",
       "   'columns': 5,\n",
       "   'fragments': [{'url': 'https://i.ytimg.com/sb/gPxlYAqqlbk/storyboard3_L2/M0.jpg?sqp=-oaymwENSDfyq4qpAwVwAcABBqLzl_8DBgiioP2nBg==&sigh=rs$AOn4CLCTSxOVnJqRL7AFUl2GmH_pWRfU9Q',\n",
       "     'duration': 123.31460674157303},\n",
       "    {'url': 'https://i.ytimg.com/sb/gPxlYAqqlbk/storyboard3_L2/M1.jpg?sqp=-oaymwENSDfyq4qpAwVwAcABBqLzl_8DBgiioP2nBg==&sigh=rs$AOn4CLCTSxOVnJqRL7AFUl2GmH_pWRfU9Q',\n",
       "     'duration': 123.31460674157303},\n",
       "    {'url': 'https://i.ytimg.com/sb/gPxlYAqqlbk/storyboard3_L2/M2.jpg?sqp=-oaymwENSDfyq4qpAwVwAcABBqLzl_8DBgiioP2nBg==&sigh=rs$AOn4CLCTSxOVnJqRL7AFUl2GmH_pWRfU9Q',\n",
       "     'duration': 123.31460674157303},\n",
       "    {'url': 'https://i.ytimg.com/sb/gPxlYAqqlbk/storyboard3_L2/M3.jpg?sqp=-oaymwENSDfyq4qpAwVwAcABBqLzl_8DBgiioP2nBg==&sigh=rs$AOn4CLCTSxOVnJqRL7AFUl2GmH_pWRfU9Q',\n",
       "     'duration': 69.0561797752809}],\n",
       "   'resolution': '160x90',\n",
       "   'aspect_ratio': 1.78,\n",
       "   'http_headers': {'User-Agent': 'Mozilla/5.0 (Windows NT 10.0; Win64; x64) AppleWebKit/537.36 (KHTML, like Gecko) Chrome/96.0.4664.45 Safari/537.36', 'Accept': 'text/html,application/xhtml+xml,application/xml;q=0.9,*/*;q=0.8', 'Accept-Language': 'en-us,en;q=0.5', 'Sec-Fetch-Mode': 'navigate'},\n",
       "   'audio_ext': 'none',\n",
       "   'video_ext': 'none',\n",
       "   'vbr': 0,\n",
       "   'abr': 0,\n",
       "   'tbr': None,\n",
       "   'format': 'sb1 - 160x90 (storyboard)'},\n",
       "  {'format_id': 'sb0',\n",
       "   'format_note': 'storyboard',\n",
       "   'ext': 'mhtml',\n",
       "   'protocol': 'mhtml',\n",
       "   'acodec': 'none',\n",
       "   'vcodec': 'none',\n",
       "   'url': 'https://i.ytimg.com/sb/gPxlYAqqlbk/storyboard3_L3/M$M.jpg?sqp=-oaymwENSDfyq4qpAwVwAcABBqLzl_8DBgiioP2nBg==&sigh=rs$AOn4CLABkV35YLsLwF5RrBctsAm7mCODfg',\n",
       "   'width': 320,\n",
       "   'height': 180,\n",
       "   'fps': 0.20273348519362186,\n",
       "   'rows': 3,\n",
       "   'columns': 3,\n",
       "   'fragments': [{'url': 'https://i.ytimg.com/sb/gPxlYAqqlbk/storyboard3_L3/M0.jpg?sqp=-oaymwENSDfyq4qpAwVwAcABBqLzl_8DBgiioP2nBg==&sigh=rs$AOn4CLABkV35YLsLwF5RrBctsAm7mCODfg',\n",
       "     'duration': 44.39325842696629},\n",
       "    {'url': 'https://i.ytimg.com/sb/gPxlYAqqlbk/storyboard3_L3/M1.jpg?sqp=-oaymwENSDfyq4qpAwVwAcABBqLzl_8DBgiioP2nBg==&sigh=rs$AOn4CLABkV35YLsLwF5RrBctsAm7mCODfg',\n",
       "     'duration': 44.39325842696629},\n",
       "    {'url': 'https://i.ytimg.com/sb/gPxlYAqqlbk/storyboard3_L3/M2.jpg?sqp=-oaymwENSDfyq4qpAwVwAcABBqLzl_8DBgiioP2nBg==&sigh=rs$AOn4CLABkV35YLsLwF5RrBctsAm7mCODfg',\n",
       "     'duration': 44.39325842696629},\n",
       "    {'url': 'https://i.ytimg.com/sb/gPxlYAqqlbk/storyboard3_L3/M3.jpg?sqp=-oaymwENSDfyq4qpAwVwAcABBqLzl_8DBgiioP2nBg==&sigh=rs$AOn4CLABkV35YLsLwF5RrBctsAm7mCODfg',\n",
       "     'duration': 44.39325842696629},\n",
       "    {'url': 'https://i.ytimg.com/sb/gPxlYAqqlbk/storyboard3_L3/M4.jpg?sqp=-oaymwENSDfyq4qpAwVwAcABBqLzl_8DBgiioP2nBg==&sigh=rs$AOn4CLABkV35YLsLwF5RrBctsAm7mCODfg',\n",
       "     'duration': 44.39325842696629},\n",
       "    {'url': 'https://i.ytimg.com/sb/gPxlYAqqlbk/storyboard3_L3/M5.jpg?sqp=-oaymwENSDfyq4qpAwVwAcABBqLzl_8DBgiioP2nBg==&sigh=rs$AOn4CLABkV35YLsLwF5RrBctsAm7mCODfg',\n",
       "     'duration': 44.39325842696629},\n",
       "    {'url': 'https://i.ytimg.com/sb/gPxlYAqqlbk/storyboard3_L3/M6.jpg?sqp=-oaymwENSDfyq4qpAwVwAcABBqLzl_8DBgiioP2nBg==&sigh=rs$AOn4CLABkV35YLsLwF5RrBctsAm7mCODfg',\n",
       "     'duration': 44.39325842696629},\n",
       "    {'url': 'https://i.ytimg.com/sb/gPxlYAqqlbk/storyboard3_L3/M7.jpg?sqp=-oaymwENSDfyq4qpAwVwAcABBqLzl_8DBgiioP2nBg==&sigh=rs$AOn4CLABkV35YLsLwF5RrBctsAm7mCODfg',\n",
       "     'duration': 44.39325842696629},\n",
       "    {'url': 'https://i.ytimg.com/sb/gPxlYAqqlbk/storyboard3_L3/M8.jpg?sqp=-oaymwENSDfyq4qpAwVwAcABBqLzl_8DBgiioP2nBg==&sigh=rs$AOn4CLABkV35YLsLwF5RrBctsAm7mCODfg',\n",
       "     'duration': 44.39325842696629},\n",
       "    {'url': 'https://i.ytimg.com/sb/gPxlYAqqlbk/storyboard3_L3/M9.jpg?sqp=-oaymwENSDfyq4qpAwVwAcABBqLzl_8DBgiioP2nBg==&sigh=rs$AOn4CLABkV35YLsLwF5RrBctsAm7mCODfg',\n",
       "     'duration': 39.4606741573034}],\n",
       "   'resolution': '320x180',\n",
       "   'aspect_ratio': 1.78,\n",
       "   'http_headers': {'User-Agent': 'Mozilla/5.0 (Windows NT 10.0; Win64; x64) AppleWebKit/537.36 (KHTML, like Gecko) Chrome/96.0.4664.45 Safari/537.36', 'Accept': 'text/html,application/xhtml+xml,application/xml;q=0.9,*/*;q=0.8', 'Accept-Language': 'en-us,en;q=0.5', 'Sec-Fetch-Mode': 'navigate'},\n",
       "   'audio_ext': 'none',\n",
       "   'video_ext': 'none',\n",
       "   'vbr': 0,\n",
       "   'abr': 0,\n",
       "   'tbr': None,\n",
       "   'format': 'sb0 - 320x180 (storyboard)'},\n",
       "  {'format_id': '233',\n",
       "   'format_note': 'Default',\n",
       "   'format_index': None,\n",
       "   'url': 'https://manifest.googlevideo.com/api/manifest/hls_playlist/expire/1706789042/ei/UjS7ZdnoB_WdsfIPj8-7oAg/ip/205.175.118.189/id/80fc65600aaa95b9/itag/233/source/youtube/requiressl/yes/ratebypass/yes/pfa/1/goi/133/sgoap/clen%3D2675306%3Bdur%3D438.624%3Bgir%3Dyes%3Bitag%3D139%3Blmt%3D1628254670927553/rqh/1/hls_chunk_host/rr5---sn-nx57ynsl.googlevideo.com/xpc/EgVo2aDSNQ%3D%3D/mh/E6/mm/31,26/mn/sn-nx57ynsl,sn-vgqsrne6/ms/au,onr/mv/m/mvi/5/pl/19/initcwndbps/2825000/vprv/1/playlist_type/DVR/dover/13/txp/5532434/mt/1706767007/fvip/4/short_key/1/keepalive/yes/fexp/24007246/sparams/expire,ei,ip,id,itag,source,requiressl,ratebypass,pfa,goi,sgoap,rqh,xpc,vprv,playlist_type/sig/AJfQdSswRAIgE0xogrk02SwPwWBoMYG65OqLcxwHiCB71h8gJyrjiWgCIEnIepOvYuBdgjpnscZ2-5j9EXBkN_EQQtwN-X3zsc0P/lsparams/hls_chunk_host,mh,mm,mn,ms,mv,mvi,pl,initcwndbps/lsig/AAO5W4owRAIgFW8JqkG1zK9zf0_i3MxgRYuXbt-iITVwMj8snkxabw0CIHMGNyWNusuuU8bsowD-ii36jfCYkU1WNo6Lvrrnxjvl/playlist/index.m3u8',\n",
       "   'manifest_url': 'https://manifest.googlevideo.com/api/manifest/hls_variant/expire/1706789042/ei/UjS7ZdnoB_WdsfIPj8-7oAg/ip/205.175.118.189/id/80fc65600aaa95b9/source/youtube/requiressl/yes/xpc/EgVo2aDSNQ%3D%3D/playback_host/rr5---sn-nx57ynsl.googlevideo.com/mh/E6/mm/31%2C26/mn/sn-nx57ynsl%2Csn-vgqsrne6/ms/au%2Conr/mv/m/mvi/5/pl/19/hfr/1/demuxed/1/tts_caps/1/maudio/1/initcwndbps/2825000/vprv/1/go/1/mt/1706767007/fvip/4/nvgoi/1/short_key/1/ncsapi/1/keepalive/yes/fexp/24007246/dover/13/itag/0/playlist_type/DVR/sparams/expire%2Cei%2Cip%2Cid%2Csource%2Crequiressl%2Cxpc%2Chfr%2Cdemuxed%2Ctts_caps%2Cmaudio%2Cvprv%2Cgo%2Citag%2Cplaylist_type/sig/AJfQdSswRQIhANzup8O7HszB3Mn8lev5X74-P6lDT9vRHUOzjwjQsIYgAiAZ0jujhKvhMU0qTi6PlhRydJ6WnQGA4IRTY54Xn0UsPg%3D%3D/lsparams/playback_host%2Cmh%2Cmm%2Cmn%2Cms%2Cmv%2Cmvi%2Cpl%2Cinitcwndbps/lsig/AAO5W4owRQIhAKZ2KLM438Do5maMTfKGCr7mYWSN_NGtCRhjGzqNQIw9AiBnASaJVSV5h6q6NBh0Fztx3snowpvCteJFq8xiiF-vAw%3D%3D/file/index.m3u8',\n",
       "   'language': None,\n",
       "   'ext': 'mp4',\n",
       "   'protocol': 'm3u8_native',\n",
       "   'preference': None,\n",
       "   'quality': -1,\n",
       "   'has_drm': False,\n",
       "   'vcodec': 'none',\n",
       "   'source_preference': -1,\n",
       "   'resolution': 'audio only',\n",
       "   'aspect_ratio': None,\n",
       "   'http_headers': {'User-Agent': 'Mozilla/5.0 (Windows NT 10.0; Win64; x64) AppleWebKit/537.36 (KHTML, like Gecko) Chrome/96.0.4664.45 Safari/537.36', 'Accept': 'text/html,application/xhtml+xml,application/xml;q=0.9,*/*;q=0.8', 'Accept-Language': 'en-us,en;q=0.5', 'Sec-Fetch-Mode': 'navigate'},\n",
       "   'audio_ext': 'mp4',\n",
       "   'video_ext': 'none',\n",
       "   'vbr': 0,\n",
       "   'abr': None,\n",
       "   'tbr': None,\n",
       "   'format': '233 - audio only (Default)'},\n",
       "  {'format_id': '234',\n",
       "   'format_note': 'Default',\n",
       "   'format_index': None,\n",
       "   'url': 'https://manifest.googlevideo.com/api/manifest/hls_playlist/expire/1706789042/ei/UjS7ZdnoB_WdsfIPj8-7oAg/ip/205.175.118.189/id/80fc65600aaa95b9/itag/234/source/youtube/requiressl/yes/ratebypass/yes/pfa/1/goi/133/sgoap/clen%3D7097825%3Bdur%3D438.532%3Bgir%3Dyes%3Bitag%3D140%3Blmt%3D1628254671240583/rqh/1/hls_chunk_host/rr5---sn-nx57ynsl.googlevideo.com/xpc/EgVo2aDSNQ%3D%3D/mh/E6/mm/31,26/mn/sn-nx57ynsl,sn-vgqsrne6/ms/au,onr/mv/m/mvi/5/pl/19/initcwndbps/2825000/vprv/1/playlist_type/DVR/dover/13/txp/5532434/mt/1706767007/fvip/4/short_key/1/keepalive/yes/fexp/24007246/sparams/expire,ei,ip,id,itag,source,requiressl,ratebypass,pfa,goi,sgoap,rqh,xpc,vprv,playlist_type/sig/AJfQdSswRgIhAIMcwjUQ7pUjjE2313ownTFwbT289lL4a_1K0-sO-98xAiEApzX077aUhpdCgcb-dH36Okj42oF3MtLiszmmWicK5Jg%3D/lsparams/hls_chunk_host,mh,mm,mn,ms,mv,mvi,pl,initcwndbps/lsig/AAO5W4owRQIgHAP4Xk95Owkaqi-cFhwVj2aEEkNIkMTUTBJTgp8sXPUCIQChf6MMz7OfnHXNO23IT4gPX41jmjAYVubtn28-sP32HQ%3D%3D/playlist/index.m3u8',\n",
       "   'manifest_url': 'https://manifest.googlevideo.com/api/manifest/hls_variant/expire/1706789042/ei/UjS7ZdnoB_WdsfIPj8-7oAg/ip/205.175.118.189/id/80fc65600aaa95b9/source/youtube/requiressl/yes/xpc/EgVo2aDSNQ%3D%3D/playback_host/rr5---sn-nx57ynsl.googlevideo.com/mh/E6/mm/31%2C26/mn/sn-nx57ynsl%2Csn-vgqsrne6/ms/au%2Conr/mv/m/mvi/5/pl/19/hfr/1/demuxed/1/tts_caps/1/maudio/1/initcwndbps/2825000/vprv/1/go/1/mt/1706767007/fvip/4/nvgoi/1/short_key/1/ncsapi/1/keepalive/yes/fexp/24007246/dover/13/itag/0/playlist_type/DVR/sparams/expire%2Cei%2Cip%2Cid%2Csource%2Crequiressl%2Cxpc%2Chfr%2Cdemuxed%2Ctts_caps%2Cmaudio%2Cvprv%2Cgo%2Citag%2Cplaylist_type/sig/AJfQdSswRQIhANzup8O7HszB3Mn8lev5X74-P6lDT9vRHUOzjwjQsIYgAiAZ0jujhKvhMU0qTi6PlhRydJ6WnQGA4IRTY54Xn0UsPg%3D%3D/lsparams/playback_host%2Cmh%2Cmm%2Cmn%2Cms%2Cmv%2Cmvi%2Cpl%2Cinitcwndbps/lsig/AAO5W4owRQIhAKZ2KLM438Do5maMTfKGCr7mYWSN_NGtCRhjGzqNQIw9AiBnASaJVSV5h6q6NBh0Fztx3snowpvCteJFq8xiiF-vAw%3D%3D/file/index.m3u8',\n",
       "   'language': None,\n",
       "   'ext': 'mp4',\n",
       "   'protocol': 'm3u8_native',\n",
       "   'preference': None,\n",
       "   'quality': -1,\n",
       "   'has_drm': False,\n",
       "   'vcodec': 'none',\n",
       "   'source_preference': -1,\n",
       "   'resolution': 'audio only',\n",
       "   'aspect_ratio': None,\n",
       "   'http_headers': {'User-Agent': 'Mozilla/5.0 (Windows NT 10.0; Win64; x64) AppleWebKit/537.36 (KHTML, like Gecko) Chrome/96.0.4664.45 Safari/537.36', 'Accept': 'text/html,application/xhtml+xml,application/xml;q=0.9,*/*;q=0.8', 'Accept-Language': 'en-us,en;q=0.5', 'Sec-Fetch-Mode': 'navigate'},\n",
       "   'audio_ext': 'mp4',\n",
       "   'video_ext': 'none',\n",
       "   'vbr': 0,\n",
       "   'abr': None,\n",
       "   'tbr': None,\n",
       "   'format': '234 - audio only (Default)'},\n",
       "  {'asr': 22050,\n",
       "   'filesize': 1688705,\n",
       "   'format_id': '599',\n",
       "   'format_note': 'ultralow',\n",
       "   'source_preference': -1,\n",
       "   'fps': None,\n",
       "   'audio_channels': 2,\n",
       "   'height': None,\n",
       "   'quality': 1.0,\n",
       "   'has_drm': False,\n",
       "   'tbr': 30.8,\n",
       "   'url': 'https://rr5---sn-nx57ynsl.googlevideo.com/videoplayback?expire=1706789042&ei=UjS7ZYjwEKmXsfIP7PSJ2Ac&ip=205.175.118.189&id=o-AN7Ctp52XVzAemi7rJmiNJkXL9AbGWtPA6GH4FZUMokB&itag=599&source=youtube&requiressl=yes&xpc=EgVo2aDSNQ%3D%3D&mh=E6&mm=31%2C29&mn=sn-nx57ynsl%2Csn-nx5s7nel&ms=au%2Crdu&mv=m&mvi=5&pl=19&pcm2=no&initcwndbps=3362500&vprv=1&svpuc=1&mime=audio%2Fmp4&gir=yes&clen=1688705&dur=438.624&lmt=1628254600459941&mt=1706767007&fvip=4&keepalive=yes&fexp=24007246&c=ANDROID&txp=5532434&sparams=expire%2Cei%2Cip%2Cid%2Citag%2Csource%2Crequiressl%2Cxpc%2Cpcm2%2Cvprv%2Csvpuc%2Cmime%2Cgir%2Cclen%2Cdur%2Clmt&sig=AJfQdSswRQIgUnuFBz9LaRJf0mNpKrx9Za_y3VloRce57hvUr0iAaBICIQDLQ6EyuuK1sP8dWExGMYd0J8XpuNyqMo1BLy9N0wr7kA%3D%3D&lsparams=mh%2Cmm%2Cmn%2Cms%2Cmv%2Cmvi%2Cpl%2Cinitcwndbps&lsig=AAO5W4owRQIhAP6sh_KE78ceSSgc9CMFh4WQtZbw1soCt1JOtGxITSxxAiAI8002Bcd-zSX12Cy40ncm6zzgwBpDfb3VTZrmoKHBcw%3D%3D',\n",
       "   'width': None,\n",
       "   'language': None,\n",
       "   'language_preference': -1,\n",
       "   'preference': None,\n",
       "   'ext': 'm4a',\n",
       "   'vcodec': 'none',\n",
       "   'acodec': 'mp4a.40.5',\n",
       "   'dynamic_range': None,\n",
       "   'container': 'm4a_dash',\n",
       "   'downloader_options': {'http_chunk_size': 10485760},\n",
       "   'protocol': 'https',\n",
       "   'resolution': 'audio only',\n",
       "   'aspect_ratio': None,\n",
       "   'http_headers': {'User-Agent': 'Mozilla/5.0 (Windows NT 10.0; Win64; x64) AppleWebKit/537.36 (KHTML, like Gecko) Chrome/96.0.4664.45 Safari/537.36', 'Accept': 'text/html,application/xhtml+xml,application/xml;q=0.9,*/*;q=0.8', 'Accept-Language': 'en-us,en;q=0.5', 'Sec-Fetch-Mode': 'navigate'},\n",
       "   'audio_ext': 'm4a',\n",
       "   'video_ext': 'none',\n",
       "   'vbr': 0,\n",
       "   'abr': 30.8,\n",
       "   'format': '599 - audio only (ultralow)'},\n",
       "  {'asr': 48000,\n",
       "   'filesize': 1787440,\n",
       "   'format_id': '600',\n",
       "   'format_note': 'ultralow',\n",
       "   'source_preference': -1,\n",
       "   'fps': None,\n",
       "   'audio_channels': 2,\n",
       "   'height': None,\n",
       "   'quality': 1.0,\n",
       "   'has_drm': False,\n",
       "   'tbr': 32.61,\n",
       "   'url': 'https://rr5---sn-nx57ynsl.googlevideo.com/videoplayback?expire=1706789042&ei=UjS7ZYjwEKmXsfIP7PSJ2Ac&ip=205.175.118.189&id=o-AN7Ctp52XVzAemi7rJmiNJkXL9AbGWtPA6GH4FZUMokB&itag=600&source=youtube&requiressl=yes&xpc=EgVo2aDSNQ%3D%3D&mh=E6&mm=31%2C29&mn=sn-nx57ynsl%2Csn-nx5s7nel&ms=au%2Crdu&mv=m&mvi=5&pl=19&pcm2=no&initcwndbps=3362500&vprv=1&svpuc=1&mime=audio%2Fwebm&gir=yes&clen=1787440&dur=438.501&lmt=1628245635475137&mt=1706767007&fvip=4&keepalive=yes&fexp=24007246&c=ANDROID&txp=5511222&sparams=expire%2Cei%2Cip%2Cid%2Citag%2Csource%2Crequiressl%2Cxpc%2Cpcm2%2Cvprv%2Csvpuc%2Cmime%2Cgir%2Cclen%2Cdur%2Clmt&sig=AJfQdSswRgIhAKBu8HLuCltzRKqnePb2N371n36KCxCcqrFSyqVGmk25AiEA8XN0LHKGe8WpSwggt58qGQe0qJhfY3mZTtXGxcw_vy4%3D&lsparams=mh%2Cmm%2Cmn%2Cms%2Cmv%2Cmvi%2Cpl%2Cinitcwndbps&lsig=AAO5W4owRQIhAP6sh_KE78ceSSgc9CMFh4WQtZbw1soCt1JOtGxITSxxAiAI8002Bcd-zSX12Cy40ncm6zzgwBpDfb3VTZrmoKHBcw%3D%3D',\n",
       "   'width': None,\n",
       "   'language': None,\n",
       "   'language_preference': -1,\n",
       "   'preference': None,\n",
       "   'ext': 'webm',\n",
       "   'vcodec': 'none',\n",
       "   'acodec': 'opus',\n",
       "   'dynamic_range': None,\n",
       "   'container': 'webm_dash',\n",
       "   'downloader_options': {'http_chunk_size': 10485760},\n",
       "   'protocol': 'https',\n",
       "   'resolution': 'audio only',\n",
       "   'aspect_ratio': None,\n",
       "   'http_headers': {'User-Agent': 'Mozilla/5.0 (Windows NT 10.0; Win64; x64) AppleWebKit/537.36 (KHTML, like Gecko) Chrome/96.0.4664.45 Safari/537.36', 'Accept': 'text/html,application/xhtml+xml,application/xml;q=0.9,*/*;q=0.8', 'Accept-Language': 'en-us,en;q=0.5', 'Sec-Fetch-Mode': 'navigate'},\n",
       "   'audio_ext': 'webm',\n",
       "   'video_ext': 'none',\n",
       "   'vbr': 0,\n",
       "   'abr': 32.61,\n",
       "   'format': '600 - audio only (ultralow)'},\n",
       "  {'asr': 22050,\n",
       "   'filesize': 2675306,\n",
       "   'format_id': '139',\n",
       "   'format_note': 'low',\n",
       "   'source_preference': -1,\n",
       "   'fps': None,\n",
       "   'audio_channels': 2,\n",
       "   'height': None,\n",
       "   'quality': 2.0,\n",
       "   'has_drm': False,\n",
       "   'tbr': 48.794,\n",
       "   'url': 'https://rr5---sn-nx57ynsl.googlevideo.com/videoplayback?expire=1706789042&ei=UjS7ZdnoB_WdsfIPj8-7oAg&ip=205.175.118.189&id=o-AFeZfbcHaAwC8oGTGsTNM5lga6u0eXmr3OGSDnnlqXeV&itag=139&source=youtube&requiressl=yes&xpc=EgVo2aDSNQ%3D%3D&mh=E6&mm=31%2C26&mn=sn-nx57ynsl%2Csn-vgqsrne6&ms=au%2Conr&mv=m&mvi=5&pl=19&initcwndbps=2825000&vprv=1&svpuc=1&mime=audio%2Fmp4&gir=yes&clen=2675306&dur=438.624&lmt=1628254670927553&mt=1706767007&fvip=4&keepalive=yes&fexp=24007246&c=IOS&txp=5532434&sparams=expire%2Cei%2Cip%2Cid%2Citag%2Csource%2Crequiressl%2Cxpc%2Cvprv%2Csvpuc%2Cmime%2Cgir%2Cclen%2Cdur%2Clmt&sig=AJfQdSswRAIgNKFjS48VI8GkG4Mn34BEr8D9OTjQm59a-58FDEynRHsCIG-Ocv8fffxiwGwLbSaWMrUMMbEoZCc5HaLopeiYNOGK&lsparams=mh%2Cmm%2Cmn%2Cms%2Cmv%2Cmvi%2Cpl%2Cinitcwndbps&lsig=AAO5W4owRQIhALuTK5dHfXwYAD0s7r3HD7VvIeJsXS1hcDAa3vYpzoKuAiAmW9LSIlWT8mEoMpRGlDlv_hpXPmyR7yDg5THFbDSZ4A%3D%3D',\n",
       "   'width': None,\n",
       "   'language': None,\n",
       "   'language_preference': -1,\n",
       "   'preference': None,\n",
       "   'ext': 'm4a',\n",
       "   'vcodec': 'none',\n",
       "   'acodec': 'mp4a.40.5',\n",
       "   'dynamic_range': None,\n",
       "   'container': 'm4a_dash',\n",
       "   'downloader_options': {'http_chunk_size': 10485760},\n",
       "   'protocol': 'https',\n",
       "   'resolution': 'audio only',\n",
       "   'aspect_ratio': None,\n",
       "   'http_headers': {'User-Agent': 'Mozilla/5.0 (Windows NT 10.0; Win64; x64) AppleWebKit/537.36 (KHTML, like Gecko) Chrome/96.0.4664.45 Safari/537.36', 'Accept': 'text/html,application/xhtml+xml,application/xml;q=0.9,*/*;q=0.8', 'Accept-Language': 'en-us,en;q=0.5', 'Sec-Fetch-Mode': 'navigate'},\n",
       "   'audio_ext': 'm4a',\n",
       "   'video_ext': 'none',\n",
       "   'vbr': 0,\n",
       "   'abr': 48.794,\n",
       "   'format': '139 - audio only (low)'},\n",
       "  {'asr': 48000,\n",
       "   'filesize': 2637642,\n",
       "   'format_id': '249',\n",
       "   'format_note': 'low',\n",
       "   'source_preference': -1,\n",
       "   'fps': None,\n",
       "   'audio_channels': 2,\n",
       "   'height': None,\n",
       "   'quality': 2.0,\n",
       "   'has_drm': False,\n",
       "   'tbr': 48.121,\n",
       "   'url': 'https://rr5---sn-nx57ynsl.googlevideo.com/videoplayback?expire=1706789042&ei=UjS7ZYjwEKmXsfIP7PSJ2Ac&ip=205.175.118.189&id=o-AN7Ctp52XVzAemi7rJmiNJkXL9AbGWtPA6GH4FZUMokB&itag=249&source=youtube&requiressl=yes&xpc=EgVo2aDSNQ%3D%3D&mh=E6&mm=31%2C29&mn=sn-nx57ynsl%2Csn-nx5s7nel&ms=au%2Crdu&mv=m&mvi=5&pl=19&pcm2=no&initcwndbps=3362500&vprv=1&svpuc=1&mime=audio%2Fwebm&gir=yes&clen=2637642&dur=438.501&lmt=1628245636072229&mt=1706767007&fvip=4&keepalive=yes&fexp=24007246&c=ANDROID&txp=5511222&sparams=expire%2Cei%2Cip%2Cid%2Citag%2Csource%2Crequiressl%2Cxpc%2Cpcm2%2Cvprv%2Csvpuc%2Cmime%2Cgir%2Cclen%2Cdur%2Clmt&sig=AJfQdSswRAIgEBol1rksahbAmKeVj-cuxd7lC30LkPc9tRBRmNh0YxYCIGzkhNCbC4RIR4pqwShdWbDGJoa_OK61463WWVJnF8KQ&lsparams=mh%2Cmm%2Cmn%2Cms%2Cmv%2Cmvi%2Cpl%2Cinitcwndbps&lsig=AAO5W4owRQIhAP6sh_KE78ceSSgc9CMFh4WQtZbw1soCt1JOtGxITSxxAiAI8002Bcd-zSX12Cy40ncm6zzgwBpDfb3VTZrmoKHBcw%3D%3D',\n",
       "   'width': None,\n",
       "   'language': None,\n",
       "   'language_preference': -1,\n",
       "   'preference': None,\n",
       "   'ext': 'webm',\n",
       "   'vcodec': 'none',\n",
       "   'acodec': 'opus',\n",
       "   'dynamic_range': None,\n",
       "   'container': 'webm_dash',\n",
       "   'downloader_options': {'http_chunk_size': 10485760},\n",
       "   'protocol': 'https',\n",
       "   'resolution': 'audio only',\n",
       "   'aspect_ratio': None,\n",
       "   'http_headers': {'User-Agent': 'Mozilla/5.0 (Windows NT 10.0; Win64; x64) AppleWebKit/537.36 (KHTML, like Gecko) Chrome/96.0.4664.45 Safari/537.36', 'Accept': 'text/html,application/xhtml+xml,application/xml;q=0.9,*/*;q=0.8', 'Accept-Language': 'en-us,en;q=0.5', 'Sec-Fetch-Mode': 'navigate'},\n",
       "   'audio_ext': 'webm',\n",
       "   'video_ext': 'none',\n",
       "   'vbr': 0,\n",
       "   'abr': 48.121,\n",
       "   'format': '249 - audio only (low)'},\n",
       "  {'asr': 48000,\n",
       "   'filesize': 3479927,\n",
       "   'format_id': '250',\n",
       "   'format_note': 'low',\n",
       "   'source_preference': -1,\n",
       "   'fps': None,\n",
       "   'audio_channels': 2,\n",
       "   'height': None,\n",
       "   'quality': 2.0,\n",
       "   'has_drm': False,\n",
       "   'tbr': 63.487,\n",
       "   'url': 'https://rr5---sn-nx57ynsl.googlevideo.com/videoplayback?expire=1706789042&ei=UjS7ZYjwEKmXsfIP7PSJ2Ac&ip=205.175.118.189&id=o-AN7Ctp52XVzAemi7rJmiNJkXL9AbGWtPA6GH4FZUMokB&itag=250&source=youtube&requiressl=yes&xpc=EgVo2aDSNQ%3D%3D&mh=E6&mm=31%2C29&mn=sn-nx57ynsl%2Csn-nx5s7nel&ms=au%2Crdu&mv=m&mvi=5&pl=19&pcm2=no&initcwndbps=3362500&vprv=1&svpuc=1&mime=audio%2Fwebm&gir=yes&clen=3479927&dur=438.501&lmt=1628245636572503&mt=1706767007&fvip=4&keepalive=yes&fexp=24007246&c=ANDROID&txp=5511222&sparams=expire%2Cei%2Cip%2Cid%2Citag%2Csource%2Crequiressl%2Cxpc%2Cpcm2%2Cvprv%2Csvpuc%2Cmime%2Cgir%2Cclen%2Cdur%2Clmt&sig=AJfQdSswRQIhANi_UIcIqdfmrXl8rNBlIROamY5A0PRhMNrwY6A_WRQOAiBcU5UKWxPCA6RW1THghJsaeaSbD0b4r7iOc4SQiW4PbA%3D%3D&lsparams=mh%2Cmm%2Cmn%2Cms%2Cmv%2Cmvi%2Cpl%2Cinitcwndbps&lsig=AAO5W4owRQIhAP6sh_KE78ceSSgc9CMFh4WQtZbw1soCt1JOtGxITSxxAiAI8002Bcd-zSX12Cy40ncm6zzgwBpDfb3VTZrmoKHBcw%3D%3D',\n",
       "   'width': None,\n",
       "   'language': None,\n",
       "   'language_preference': -1,\n",
       "   'preference': None,\n",
       "   'ext': 'webm',\n",
       "   'vcodec': 'none',\n",
       "   'acodec': 'opus',\n",
       "   'dynamic_range': None,\n",
       "   'container': 'webm_dash',\n",
       "   'downloader_options': {'http_chunk_size': 10485760},\n",
       "   'protocol': 'https',\n",
       "   'resolution': 'audio only',\n",
       "   'aspect_ratio': None,\n",
       "   'http_headers': {'User-Agent': 'Mozilla/5.0 (Windows NT 10.0; Win64; x64) AppleWebKit/537.36 (KHTML, like Gecko) Chrome/96.0.4664.45 Safari/537.36', 'Accept': 'text/html,application/xhtml+xml,application/xml;q=0.9,*/*;q=0.8', 'Accept-Language': 'en-us,en;q=0.5', 'Sec-Fetch-Mode': 'navigate'},\n",
       "   'audio_ext': 'webm',\n",
       "   'video_ext': 'none',\n",
       "   'vbr': 0,\n",
       "   'abr': 63.487,\n",
       "   'format': '250 - audio only (low)'},\n",
       "  {'asr': 44100,\n",
       "   'filesize': 7097825,\n",
       "   'format_id': '140',\n",
       "   'format_note': 'medium',\n",
       "   'source_preference': -1,\n",
       "   'fps': None,\n",
       "   'audio_channels': 2,\n",
       "   'height': None,\n",
       "   'quality': 3.0,\n",
       "   'has_drm': False,\n",
       "   'tbr': 129.483,\n",
       "   'url': 'https://rr5---sn-nx57ynsl.googlevideo.com/videoplayback?expire=1706789042&ei=UjS7ZdnoB_WdsfIPj8-7oAg&ip=205.175.118.189&id=o-AFeZfbcHaAwC8oGTGsTNM5lga6u0eXmr3OGSDnnlqXeV&itag=140&source=youtube&requiressl=yes&xpc=EgVo2aDSNQ%3D%3D&mh=E6&mm=31%2C26&mn=sn-nx57ynsl%2Csn-vgqsrne6&ms=au%2Conr&mv=m&mvi=5&pl=19&initcwndbps=2825000&vprv=1&svpuc=1&mime=audio%2Fmp4&gir=yes&clen=7097825&dur=438.532&lmt=1628254671240583&mt=1706767007&fvip=4&keepalive=yes&fexp=24007246&c=IOS&txp=5532434&sparams=expire%2Cei%2Cip%2Cid%2Citag%2Csource%2Crequiressl%2Cxpc%2Cvprv%2Csvpuc%2Cmime%2Cgir%2Cclen%2Cdur%2Clmt&sig=AJfQdSswRQIgMRvbFaHzK-K8xP0wHb6ftt1-2YoTZQwucje8uInnwMICIQDMyO98S4DceSnTC6lQ0H89Fk-rpQ6lNSJuqRDYpGw-ZQ%3D%3D&lsparams=mh%2Cmm%2Cmn%2Cms%2Cmv%2Cmvi%2Cpl%2Cinitcwndbps&lsig=AAO5W4owRQIhALuTK5dHfXwYAD0s7r3HD7VvIeJsXS1hcDAa3vYpzoKuAiAmW9LSIlWT8mEoMpRGlDlv_hpXPmyR7yDg5THFbDSZ4A%3D%3D',\n",
       "   'width': None,\n",
       "   'language': None,\n",
       "   'language_preference': -1,\n",
       "   'preference': None,\n",
       "   'ext': 'm4a',\n",
       "   'vcodec': 'none',\n",
       "   'acodec': 'mp4a.40.2',\n",
       "   'dynamic_range': None,\n",
       "   'container': 'm4a_dash',\n",
       "   'downloader_options': {'http_chunk_size': 10485760},\n",
       "   'protocol': 'https',\n",
       "   'resolution': 'audio only',\n",
       "   'aspect_ratio': None,\n",
       "   'http_headers': {'User-Agent': 'Mozilla/5.0 (Windows NT 10.0; Win64; x64) AppleWebKit/537.36 (KHTML, like Gecko) Chrome/96.0.4664.45 Safari/537.36', 'Accept': 'text/html,application/xhtml+xml,application/xml;q=0.9,*/*;q=0.8', 'Accept-Language': 'en-us,en;q=0.5', 'Sec-Fetch-Mode': 'navigate'},\n",
       "   'audio_ext': 'm4a',\n",
       "   'video_ext': 'none',\n",
       "   'vbr': 0,\n",
       "   'abr': 129.483,\n",
       "   'format': '140 - audio only (medium)'},\n",
       "  {'asr': 48000,\n",
       "   'filesize': 6864416,\n",
       "   'format_id': '251',\n",
       "   'format_note': 'medium',\n",
       "   'source_preference': -1,\n",
       "   'fps': None,\n",
       "   'audio_channels': 2,\n",
       "   'height': None,\n",
       "   'quality': 3.0,\n",
       "   'has_drm': False,\n",
       "   'tbr': 125.234,\n",
       "   'url': 'https://rr5---sn-nx57ynsl.googlevideo.com/videoplayback?expire=1706789042&ei=UjS7ZYjwEKmXsfIP7PSJ2Ac&ip=205.175.118.189&id=o-AN7Ctp52XVzAemi7rJmiNJkXL9AbGWtPA6GH4FZUMokB&itag=251&source=youtube&requiressl=yes&xpc=EgVo2aDSNQ%3D%3D&mh=E6&mm=31%2C29&mn=sn-nx57ynsl%2Csn-nx5s7nel&ms=au%2Crdu&mv=m&mvi=5&pl=19&pcm2=no&initcwndbps=3362500&vprv=1&svpuc=1&mime=audio%2Fwebm&gir=yes&clen=6864416&dur=438.501&lmt=1628245640274588&mt=1706767007&fvip=4&keepalive=yes&fexp=24007246&c=ANDROID&txp=5511222&sparams=expire%2Cei%2Cip%2Cid%2Citag%2Csource%2Crequiressl%2Cxpc%2Cpcm2%2Cvprv%2Csvpuc%2Cmime%2Cgir%2Cclen%2Cdur%2Clmt&sig=AJfQdSswRgIhAL2GjPNHJihpScGXvufpp2Rp6KxKq1xZKLSr4gXyF_MNAiEAiGbqEU1s6wYAycoysbvTzKt2NgLPA5atLJv8Snxu42M%3D&lsparams=mh%2Cmm%2Cmn%2Cms%2Cmv%2Cmvi%2Cpl%2Cinitcwndbps&lsig=AAO5W4owRQIhAP6sh_KE78ceSSgc9CMFh4WQtZbw1soCt1JOtGxITSxxAiAI8002Bcd-zSX12Cy40ncm6zzgwBpDfb3VTZrmoKHBcw%3D%3D',\n",
       "   'width': None,\n",
       "   'language': None,\n",
       "   'language_preference': -1,\n",
       "   'preference': None,\n",
       "   'ext': 'webm',\n",
       "   'vcodec': 'none',\n",
       "   'acodec': 'opus',\n",
       "   'dynamic_range': None,\n",
       "   'container': 'webm_dash',\n",
       "   'downloader_options': {'http_chunk_size': 10485760},\n",
       "   'protocol': 'https',\n",
       "   'resolution': 'audio only',\n",
       "   'aspect_ratio': None,\n",
       "   'http_headers': {'User-Agent': 'Mozilla/5.0 (Windows NT 10.0; Win64; x64) AppleWebKit/537.36 (KHTML, like Gecko) Chrome/96.0.4664.45 Safari/537.36', 'Accept': 'text/html,application/xhtml+xml,application/xml;q=0.9,*/*;q=0.8', 'Accept-Language': 'en-us,en;q=0.5', 'Sec-Fetch-Mode': 'navigate'},\n",
       "   'audio_ext': 'webm',\n",
       "   'video_ext': 'none',\n",
       "   'vbr': 0,\n",
       "   'abr': 125.234,\n",
       "   'format': '251 - audio only (medium)'},\n",
       "  {'asr': None,\n",
       "   'filesize': 1755415,\n",
       "   'format_id': '597',\n",
       "   'format_note': '144p',\n",
       "   'source_preference': -1,\n",
       "   'fps': 13,\n",
       "   'audio_channels': None,\n",
       "   'height': 144,\n",
       "   'quality': 0.0,\n",
       "   'has_drm': False,\n",
       "   'tbr': 32.027,\n",
       "   'url': 'https://rr5---sn-nx57ynsl.googlevideo.com/videoplayback?expire=1706789042&ei=UjS7ZYjwEKmXsfIP7PSJ2Ac&ip=205.175.118.189&id=o-AN7Ctp52XVzAemi7rJmiNJkXL9AbGWtPA6GH4FZUMokB&itag=597&source=youtube&requiressl=yes&xpc=EgVo2aDSNQ%3D%3D&mh=E6&mm=31%2C29&mn=sn-nx57ynsl%2Csn-nx5s7nel&ms=au%2Crdu&mv=m&mvi=5&pl=19&pcm2=no&initcwndbps=3362500&vprv=1&svpuc=1&mime=video%2Fmp4&gir=yes&clen=1755415&dur=438.480&lmt=1628256279872755&mt=1706767007&fvip=4&keepalive=yes&fexp=24007246&c=ANDROID&txp=5532434&sparams=expire%2Cei%2Cip%2Cid%2Citag%2Csource%2Crequiressl%2Cxpc%2Cpcm2%2Cvprv%2Csvpuc%2Cmime%2Cgir%2Cclen%2Cdur%2Clmt&sig=AJfQdSswRgIhAMG6NMtqoDfn6bJOeeLHh5BsNmG_6u46r9-09TNyvQBvAiEAxnG0js5lZzDxJVP5Lz9ALUrmpHBqjm-g22s-aPgDpHk%3D&lsparams=mh%2Cmm%2Cmn%2Cms%2Cmv%2Cmvi%2Cpl%2Cinitcwndbps&lsig=AAO5W4owRQIhAP6sh_KE78ceSSgc9CMFh4WQtZbw1soCt1JOtGxITSxxAiAI8002Bcd-zSX12Cy40ncm6zzgwBpDfb3VTZrmoKHBcw%3D%3D',\n",
       "   'width': 256,\n",
       "   'language': None,\n",
       "   'language_preference': -1,\n",
       "   'preference': None,\n",
       "   'ext': 'mp4',\n",
       "   'vcodec': 'avc1.4d400b',\n",
       "   'acodec': 'none',\n",
       "   'dynamic_range': 'SDR',\n",
       "   'container': 'mp4_dash',\n",
       "   'downloader_options': {'http_chunk_size': 10485760},\n",
       "   'protocol': 'https',\n",
       "   'resolution': '256x144',\n",
       "   'aspect_ratio': 1.78,\n",
       "   'http_headers': {'User-Agent': 'Mozilla/5.0 (Windows NT 10.0; Win64; x64) AppleWebKit/537.36 (KHTML, like Gecko) Chrome/96.0.4664.45 Safari/537.36', 'Accept': 'text/html,application/xhtml+xml,application/xml;q=0.9,*/*;q=0.8', 'Accept-Language': 'en-us,en;q=0.5', 'Sec-Fetch-Mode': 'navigate'},\n",
       "   'video_ext': 'mp4',\n",
       "   'audio_ext': 'none',\n",
       "   'abr': 0,\n",
       "   'vbr': 32.027,\n",
       "   'format': '597 - 256x144 (144p)'},\n",
       "  {'format_id': '602',\n",
       "   'format_index': None,\n",
       "   'url': 'https://manifest.googlevideo.com/api/manifest/hls_playlist/expire/1706789042/ei/UjS7ZdnoB_WdsfIPj8-7oAg/ip/205.175.118.189/id/80fc65600aaa95b9/itag/602/source/youtube/requiressl/yes/ratebypass/yes/pfa/1/wft/1/sgovp/clen%3D1616322%3Bdur%3D438.480%3Bgir%3Dyes%3Bitag%3D598%3Blmt%3D1667009921712131/rqh/1/hls_chunk_host/rr5---sn-nx57ynsl.googlevideo.com/xpc/EgVo2aDSNQ%3D%3D/mh/E6/mm/31,26/mn/sn-nx57ynsl,sn-vgqsrne6/ms/au,onr/mv/m/mvi/5/pl/19/initcwndbps/2825000/vprv/1/playlist_type/DVR/dover/13/txp/5532434/mt/1706767007/fvip/4/short_key/1/keepalive/yes/fexp/24007246/sparams/expire,ei,ip,id,itag,source,requiressl,ratebypass,pfa,wft,sgovp,rqh,xpc,vprv,playlist_type/sig/AJfQdSswRgIhAO6rZ2C-mL9Wo2LNymjxO1l3p3sjkxD6IcRx_QnWil8kAiEAk2sPKTwmYiQw2X_4_OSCdEjgrwtQqkl3gWGlMxUqbcI%3D/lsparams/hls_chunk_host,mh,mm,mn,ms,mv,mvi,pl,initcwndbps/lsig/AAO5W4owRgIhAOQDxVJknLU1l6qvrFuv0KBT8fpQXZ8dnOs2Hjet8hZDAiEAp5nYeoJeFi87iM8XwkpRTB9Vwdry9x3L2TD-ppi06Hw%3D/playlist/index.m3u8',\n",
       "   'manifest_url': 'https://manifest.googlevideo.com/api/manifest/hls_variant/expire/1706789042/ei/UjS7ZdnoB_WdsfIPj8-7oAg/ip/205.175.118.189/id/80fc65600aaa95b9/source/youtube/requiressl/yes/xpc/EgVo2aDSNQ%3D%3D/playback_host/rr5---sn-nx57ynsl.googlevideo.com/mh/E6/mm/31%2C26/mn/sn-nx57ynsl%2Csn-vgqsrne6/ms/au%2Conr/mv/m/mvi/5/pl/19/hfr/1/demuxed/1/tts_caps/1/maudio/1/initcwndbps/2825000/vprv/1/go/1/mt/1706767007/fvip/4/nvgoi/1/short_key/1/ncsapi/1/keepalive/yes/fexp/24007246/dover/13/itag/0/playlist_type/DVR/sparams/expire%2Cei%2Cip%2Cid%2Csource%2Crequiressl%2Cxpc%2Chfr%2Cdemuxed%2Ctts_caps%2Cmaudio%2Cvprv%2Cgo%2Citag%2Cplaylist_type/sig/AJfQdSswRQIhANzup8O7HszB3Mn8lev5X74-P6lDT9vRHUOzjwjQsIYgAiAZ0jujhKvhMU0qTi6PlhRydJ6WnQGA4IRTY54Xn0UsPg%3D%3D/lsparams/playback_host%2Cmh%2Cmm%2Cmn%2Cms%2Cmv%2Cmvi%2Cpl%2Cinitcwndbps/lsig/AAO5W4owRQIhAKZ2KLM438Do5maMTfKGCr7mYWSN_NGtCRhjGzqNQIw9AiBnASaJVSV5h6q6NBh0Fztx3snowpvCteJFq8xiiF-vAw%3D%3D/file/index.m3u8',\n",
       "   'tbr': 93.977,\n",
       "   'ext': 'mp4',\n",
       "   'fps': 13.0,\n",
       "   'protocol': 'm3u8_native',\n",
       "   'preference': None,\n",
       "   'quality': 0,\n",
       "   'has_drm': False,\n",
       "   'width': 256,\n",
       "   'height': 144,\n",
       "   'vcodec': 'vp09.00.10.08',\n",
       "   'acodec': 'none',\n",
       "   'dynamic_range': 'SDR',\n",
       "   'source_preference': -1,\n",
       "   'resolution': '256x144',\n",
       "   'aspect_ratio': 1.78,\n",
       "   'http_headers': {'User-Agent': 'Mozilla/5.0 (Windows NT 10.0; Win64; x64) AppleWebKit/537.36 (KHTML, like Gecko) Chrome/96.0.4664.45 Safari/537.36', 'Accept': 'text/html,application/xhtml+xml,application/xml;q=0.9,*/*;q=0.8', 'Accept-Language': 'en-us,en;q=0.5', 'Sec-Fetch-Mode': 'navigate'},\n",
       "   'video_ext': 'mp4',\n",
       "   'audio_ext': 'none',\n",
       "   'abr': 0,\n",
       "   'vbr': 93.977,\n",
       "   'format': '602 - 256x144'},\n",
       "  {'asr': None,\n",
       "   'filesize': 1616322,\n",
       "   'format_id': '598',\n",
       "   'format_note': '144p',\n",
       "   'source_preference': -1,\n",
       "   'fps': 13,\n",
       "   'audio_channels': None,\n",
       "   'height': 144,\n",
       "   'quality': 0.0,\n",
       "   'has_drm': False,\n",
       "   'tbr': 29.489,\n",
       "   'url': 'https://rr5---sn-nx57ynsl.googlevideo.com/videoplayback?expire=1706789042&ei=UjS7ZYjwEKmXsfIP7PSJ2Ac&ip=205.175.118.189&id=o-AN7Ctp52XVzAemi7rJmiNJkXL9AbGWtPA6GH4FZUMokB&itag=598&source=youtube&requiressl=yes&xpc=EgVo2aDSNQ%3D%3D&mh=E6&mm=31%2C29&mn=sn-nx57ynsl%2Csn-nx5s7nel&ms=au%2Crdu&mv=m&mvi=5&pl=19&pcm2=no&initcwndbps=3362500&vprv=1&svpuc=1&mime=video%2Fwebm&gir=yes&clen=1616322&dur=438.480&lmt=1667009921712131&mt=1706767007&fvip=4&keepalive=yes&fexp=24007246&c=ANDROID&txp=5532434&sparams=expire%2Cei%2Cip%2Cid%2Citag%2Csource%2Crequiressl%2Cxpc%2Cpcm2%2Cvprv%2Csvpuc%2Cmime%2Cgir%2Cclen%2Cdur%2Clmt&sig=AJfQdSswRAIgFHU0T7cyGwo5UZ4wb_3IpVNctngyCKX3qCdgGHPni-cCIDPSRrvXR2GJvSrHzD0keHUgQ-Ax_fSfNPZbhEM3uOzY&lsparams=mh%2Cmm%2Cmn%2Cms%2Cmv%2Cmvi%2Cpl%2Cinitcwndbps&lsig=AAO5W4owRQIhAP6sh_KE78ceSSgc9CMFh4WQtZbw1soCt1JOtGxITSxxAiAI8002Bcd-zSX12Cy40ncm6zzgwBpDfb3VTZrmoKHBcw%3D%3D',\n",
       "   'width': 256,\n",
       "   'language': None,\n",
       "   'language_preference': -1,\n",
       "   'preference': None,\n",
       "   'ext': 'webm',\n",
       "   'vcodec': 'vp9',\n",
       "   'acodec': 'none',\n",
       "   'dynamic_range': 'SDR',\n",
       "   'container': 'webm_dash',\n",
       "   'downloader_options': {'http_chunk_size': 10485760},\n",
       "   'protocol': 'https',\n",
       "   'resolution': '256x144',\n",
       "   'aspect_ratio': 1.78,\n",
       "   'http_headers': {'User-Agent': 'Mozilla/5.0 (Windows NT 10.0; Win64; x64) AppleWebKit/537.36 (KHTML, like Gecko) Chrome/96.0.4664.45 Safari/537.36', 'Accept': 'text/html,application/xhtml+xml,application/xml;q=0.9,*/*;q=0.8', 'Accept-Language': 'en-us,en;q=0.5', 'Sec-Fetch-Mode': 'navigate'},\n",
       "   'video_ext': 'webm',\n",
       "   'audio_ext': 'none',\n",
       "   'abr': 0,\n",
       "   'vbr': 29.489,\n",
       "   'format': '598 - 256x144 (144p)'},\n",
       "  {'asr': None,\n",
       "   'filesize': 3838692,\n",
       "   'format_id': '394',\n",
       "   'format_note': '144p',\n",
       "   'source_preference': -1,\n",
       "   'fps': 25,\n",
       "   'audio_channels': None,\n",
       "   'height': 144,\n",
       "   'quality': 0.0,\n",
       "   'has_drm': False,\n",
       "   'tbr': 70.036,\n",
       "   'url': 'https://rr5---sn-nx57ynsl.googlevideo.com/videoplayback?expire=1706789042&ei=UjS7ZYjwEKmXsfIP7PSJ2Ac&ip=205.175.118.189&id=o-AN7Ctp52XVzAemi7rJmiNJkXL9AbGWtPA6GH4FZUMokB&itag=394&source=youtube&requiressl=yes&xpc=EgVo2aDSNQ%3D%3D&mh=E6&mm=31%2C29&mn=sn-nx57ynsl%2Csn-nx5s7nel&ms=au%2Crdu&mv=m&mvi=5&pl=19&pcm2=no&initcwndbps=3362500&vprv=1&svpuc=1&mime=video%2Fmp4&gir=yes&clen=3838692&dur=438.480&lmt=1628264760216604&mt=1706767007&fvip=4&keepalive=yes&fexp=24007246&c=ANDROID&txp=5531432&sparams=expire%2Cei%2Cip%2Cid%2Citag%2Csource%2Crequiressl%2Cxpc%2Cpcm2%2Cvprv%2Csvpuc%2Cmime%2Cgir%2Cclen%2Cdur%2Clmt&sig=AJfQdSswRAIgS4E8ns81tUDAVOggPM8tHBgjkE-36gq4ivEDLU4TfSgCIBbVh9Ijp2bls7-Hm9VFZGfMkNf3J6xa15zMjH0r-SYp&lsparams=mh%2Cmm%2Cmn%2Cms%2Cmv%2Cmvi%2Cpl%2Cinitcwndbps&lsig=AAO5W4owRQIhAP6sh_KE78ceSSgc9CMFh4WQtZbw1soCt1JOtGxITSxxAiAI8002Bcd-zSX12Cy40ncm6zzgwBpDfb3VTZrmoKHBcw%3D%3D',\n",
       "   'width': 256,\n",
       "   'language': None,\n",
       "   'language_preference': -1,\n",
       "   'preference': None,\n",
       "   'ext': 'mp4',\n",
       "   'vcodec': 'av01.0.00M.08',\n",
       "   'acodec': 'none',\n",
       "   'dynamic_range': 'SDR',\n",
       "   'container': 'mp4_dash',\n",
       "   'downloader_options': {'http_chunk_size': 10485760},\n",
       "   'protocol': 'https',\n",
       "   'resolution': '256x144',\n",
       "   'aspect_ratio': 1.78,\n",
       "   'http_headers': {'User-Agent': 'Mozilla/5.0 (Windows NT 10.0; Win64; x64) AppleWebKit/537.36 (KHTML, like Gecko) Chrome/96.0.4664.45 Safari/537.36', 'Accept': 'text/html,application/xhtml+xml,application/xml;q=0.9,*/*;q=0.8', 'Accept-Language': 'en-us,en;q=0.5', 'Sec-Fetch-Mode': 'navigate'},\n",
       "   'video_ext': 'mp4',\n",
       "   'audio_ext': 'none',\n",
       "   'abr': 0,\n",
       "   'vbr': 70.036,\n",
       "   'format': '394 - 256x144 (144p)'},\n",
       "  {'format_id': '269',\n",
       "   'format_index': None,\n",
       "   'url': 'https://manifest.googlevideo.com/api/manifest/hls_playlist/expire/1706789042/ei/UjS7ZdnoB_WdsfIPj8-7oAg/ip/205.175.118.189/id/80fc65600aaa95b9/itag/269/source/youtube/requiressl/yes/ratebypass/yes/pfa/1/sgovp/clen%3D5151839%3Bdur%3D438.480%3Bgir%3Dyes%3Bitag%3D160%3Blmt%3D1628259117921138/rqh/1/hls_chunk_host/rr5---sn-nx57ynsl.googlevideo.com/xpc/EgVo2aDSNQ%3D%3D/mh/E6/mm/31,26/mn/sn-nx57ynsl,sn-vgqsrne6/ms/au,onr/mv/m/mvi/5/pl/19/initcwndbps/2825000/vprv/1/playlist_type/DVR/dover/13/txp/5535434/mt/1706767007/fvip/4/short_key/1/keepalive/yes/fexp/24007246/sparams/expire,ei,ip,id,itag,source,requiressl,ratebypass,pfa,sgovp,rqh,xpc,vprv,playlist_type/sig/AJfQdSswRQIgMaoIa0_pH9Y0v-UzjtjuuTitXPeZVjUyGabRxGZmwcACIQCvkZBzzO1xOuYzU0a8bwb33Y0SXWMaLPL8QUqnaQhspA%3D%3D/lsparams/hls_chunk_host,mh,mm,mn,ms,mv,mvi,pl,initcwndbps/lsig/AAO5W4owRQIgAvvMNvHA9Y0puZU0bcSpJoTvBqDEjZudHe14TIaVkZACIQC3u3rig-re4t6icEVyBOieC1rCtpBzebgZ4jVBRfhsmg%3D%3D/playlist/index.m3u8',\n",
       "   'manifest_url': 'https://manifest.googlevideo.com/api/manifest/hls_variant/expire/1706789042/ei/UjS7ZdnoB_WdsfIPj8-7oAg/ip/205.175.118.189/id/80fc65600aaa95b9/source/youtube/requiressl/yes/xpc/EgVo2aDSNQ%3D%3D/playback_host/rr5---sn-nx57ynsl.googlevideo.com/mh/E6/mm/31%2C26/mn/sn-nx57ynsl%2Csn-vgqsrne6/ms/au%2Conr/mv/m/mvi/5/pl/19/hfr/1/demuxed/1/tts_caps/1/maudio/1/initcwndbps/2825000/vprv/1/go/1/mt/1706767007/fvip/4/nvgoi/1/short_key/1/ncsapi/1/keepalive/yes/fexp/24007246/dover/13/itag/0/playlist_type/DVR/sparams/expire%2Cei%2Cip%2Cid%2Csource%2Crequiressl%2Cxpc%2Chfr%2Cdemuxed%2Ctts_caps%2Cmaudio%2Cvprv%2Cgo%2Citag%2Cplaylist_type/sig/AJfQdSswRQIhANzup8O7HszB3Mn8lev5X74-P6lDT9vRHUOzjwjQsIYgAiAZ0jujhKvhMU0qTi6PlhRydJ6WnQGA4IRTY54Xn0UsPg%3D%3D/lsparams/playback_host%2Cmh%2Cmm%2Cmn%2Cms%2Cmv%2Cmvi%2Cpl%2Cinitcwndbps/lsig/AAO5W4owRQIhAKZ2KLM438Do5maMTfKGCr7mYWSN_NGtCRhjGzqNQIw9AiBnASaJVSV5h6q6NBh0Fztx3snowpvCteJFq8xiiF-vAw%3D%3D/file/index.m3u8',\n",
       "   'tbr': 164.537,\n",
       "   'ext': 'mp4',\n",
       "   'fps': 25.0,\n",
       "   'protocol': 'm3u8_native',\n",
       "   'preference': None,\n",
       "   'quality': 0,\n",
       "   'has_drm': False,\n",
       "   'width': 256,\n",
       "   'height': 144,\n",
       "   'vcodec': 'avc1.4D400C',\n",
       "   'acodec': 'none',\n",
       "   'dynamic_range': 'SDR',\n",
       "   'source_preference': -1,\n",
       "   'resolution': '256x144',\n",
       "   'aspect_ratio': 1.78,\n",
       "   'http_headers': {'User-Agent': 'Mozilla/5.0 (Windows NT 10.0; Win64; x64) AppleWebKit/537.36 (KHTML, like Gecko) Chrome/96.0.4664.45 Safari/537.36', 'Accept': 'text/html,application/xhtml+xml,application/xml;q=0.9,*/*;q=0.8', 'Accept-Language': 'en-us,en;q=0.5', 'Sec-Fetch-Mode': 'navigate'},\n",
       "   'video_ext': 'mp4',\n",
       "   'audio_ext': 'none',\n",
       "   'abr': 0,\n",
       "   'vbr': 164.537,\n",
       "   'format': '269 - 256x144'},\n",
       "  {'asr': None,\n",
       "   'filesize': 5151839,\n",
       "   'format_id': '160',\n",
       "   'format_note': '144p',\n",
       "   'source_preference': -1,\n",
       "   'fps': 25,\n",
       "   'audio_channels': None,\n",
       "   'height': 144,\n",
       "   'quality': 0.0,\n",
       "   'has_drm': False,\n",
       "   'tbr': 93.994,\n",
       "   'url': 'https://rr5---sn-nx57ynsl.googlevideo.com/videoplayback?expire=1706789042&ei=UjS7ZdnoB_WdsfIPj8-7oAg&ip=205.175.118.189&id=o-AFeZfbcHaAwC8oGTGsTNM5lga6u0eXmr3OGSDnnlqXeV&itag=160&source=youtube&requiressl=yes&xpc=EgVo2aDSNQ%3D%3D&mh=E6&mm=31%2C26&mn=sn-nx57ynsl%2Csn-vgqsrne6&ms=au%2Conr&mv=m&mvi=5&pl=19&initcwndbps=2825000&vprv=1&svpuc=1&mime=video%2Fmp4&gir=yes&clen=5151839&dur=438.480&lmt=1628259117921138&mt=1706767007&fvip=4&keepalive=yes&fexp=24007246&c=IOS&txp=5535434&sparams=expire%2Cei%2Cip%2Cid%2Citag%2Csource%2Crequiressl%2Cxpc%2Cvprv%2Csvpuc%2Cmime%2Cgir%2Cclen%2Cdur%2Clmt&sig=AJfQdSswRQIgGCCDhb5ydLm7hifogIszLqxe9i-05NjQkfabBNU6FuYCIQC59xp-5zG9-_gcrOHQPgxJH_bFKdl-fUtnqd3gI2kYyA%3D%3D&lsparams=mh%2Cmm%2Cmn%2Cms%2Cmv%2Cmvi%2Cpl%2Cinitcwndbps&lsig=AAO5W4owRQIhALuTK5dHfXwYAD0s7r3HD7VvIeJsXS1hcDAa3vYpzoKuAiAmW9LSIlWT8mEoMpRGlDlv_hpXPmyR7yDg5THFbDSZ4A%3D%3D',\n",
       "   'width': 256,\n",
       "   'language': None,\n",
       "   'language_preference': -1,\n",
       "   'preference': None,\n",
       "   'ext': 'mp4',\n",
       "   'vcodec': 'avc1.4D400C',\n",
       "   'acodec': 'none',\n",
       "   'dynamic_range': 'SDR',\n",
       "   'container': 'mp4_dash',\n",
       "   'downloader_options': {'http_chunk_size': 10485760},\n",
       "   'protocol': 'https',\n",
       "   'resolution': '256x144',\n",
       "   'aspect_ratio': 1.78,\n",
       "   'http_headers': {'User-Agent': 'Mozilla/5.0 (Windows NT 10.0; Win64; x64) AppleWebKit/537.36 (KHTML, like Gecko) Chrome/96.0.4664.45 Safari/537.36', 'Accept': 'text/html,application/xhtml+xml,application/xml;q=0.9,*/*;q=0.8', 'Accept-Language': 'en-us,en;q=0.5', 'Sec-Fetch-Mode': 'navigate'},\n",
       "   'video_ext': 'mp4',\n",
       "   'audio_ext': 'none',\n",
       "   'abr': 0,\n",
       "   'vbr': 93.994,\n",
       "   'format': '160 - 256x144 (144p)'},\n",
       "  {'format_id': '603',\n",
       "   'format_index': None,\n",
       "   'url': 'https://manifest.googlevideo.com/api/manifest/hls_playlist/expire/1706789042/ei/UjS7ZdnoB_WdsfIPj8-7oAg/ip/205.175.118.189/id/80fc65600aaa95b9/itag/603/source/youtube/requiressl/yes/ratebypass/yes/pfa/1/wft/1/sgovp/clen%3D5059723%3Bdur%3D438.480%3Bgir%3Dyes%3Bitag%3D278%3Blmt%3D1667015736296559/rqh/1/hls_chunk_host/rr5---sn-nx57ynsl.googlevideo.com/xpc/EgVo2aDSNQ%3D%3D/mh/E6/mm/31,26/mn/sn-nx57ynsl,sn-vgqsrne6/ms/au,onr/mv/m/mvi/5/pl/19/initcwndbps/2825000/vprv/1/playlist_type/DVR/dover/13/txp/5535434/mt/1706767007/fvip/4/short_key/1/keepalive/yes/fexp/24007246/sparams/expire,ei,ip,id,itag,source,requiressl,ratebypass,pfa,wft,sgovp,rqh,xpc,vprv,playlist_type/sig/AJfQdSswRgIhAPNDiQAig40y836GG1kuyZrq5StDRyqci5z0h_iCct3VAiEAiEHS-ss9hbZuVRxRW7z30j06JRE7BNj9CO1wTi6MWFs%3D/lsparams/hls_chunk_host,mh,mm,mn,ms,mv,mvi,pl,initcwndbps/lsig/AAO5W4owRQIgAwHTlSMvMwf07mmi3guUuRm0iaP12EU-ri0HNgvQousCIQDvXqXjeINp_RqceXIot4676xKxyze0kvNlE1IR7ER3ZA%3D%3D/playlist/index.m3u8',\n",
       "   'manifest_url': 'https://manifest.googlevideo.com/api/manifest/hls_variant/expire/1706789042/ei/UjS7ZdnoB_WdsfIPj8-7oAg/ip/205.175.118.189/id/80fc65600aaa95b9/source/youtube/requiressl/yes/xpc/EgVo2aDSNQ%3D%3D/playback_host/rr5---sn-nx57ynsl.googlevideo.com/mh/E6/mm/31%2C26/mn/sn-nx57ynsl%2Csn-vgqsrne6/ms/au%2Conr/mv/m/mvi/5/pl/19/hfr/1/demuxed/1/tts_caps/1/maudio/1/initcwndbps/2825000/vprv/1/go/1/mt/1706767007/fvip/4/nvgoi/1/short_key/1/ncsapi/1/keepalive/yes/fexp/24007246/dover/13/itag/0/playlist_type/DVR/sparams/expire%2Cei%2Cip%2Cid%2Csource%2Crequiressl%2Cxpc%2Chfr%2Cdemuxed%2Ctts_caps%2Cmaudio%2Cvprv%2Cgo%2Citag%2Cplaylist_type/sig/AJfQdSswRQIhANzup8O7HszB3Mn8lev5X74-P6lDT9vRHUOzjwjQsIYgAiAZ0jujhKvhMU0qTi6PlhRydJ6WnQGA4IRTY54Xn0UsPg%3D%3D/lsparams/playback_host%2Cmh%2Cmm%2Cmn%2Cms%2Cmv%2Cmvi%2Cpl%2Cinitcwndbps/lsig/AAO5W4owRQIhAKZ2KLM438Do5maMTfKGCr7mYWSN_NGtCRhjGzqNQIw9AiBnASaJVSV5h6q6NBh0Fztx3snowpvCteJFq8xiiF-vAw%3D%3D/file/index.m3u8',\n",
       "   'tbr': 155.636,\n",
       "   'ext': 'mp4',\n",
       "   'fps': 25.0,\n",
       "   'protocol': 'm3u8_native',\n",
       "   'preference': None,\n",
       "   'quality': 0,\n",
       "   'has_drm': False,\n",
       "   'width': 256,\n",
       "   'height': 144,\n",
       "   'vcodec': 'vp09.00.11.08',\n",
       "   'acodec': 'none',\n",
       "   'dynamic_range': 'SDR',\n",
       "   'source_preference': -1,\n",
       "   'resolution': '256x144',\n",
       "   'aspect_ratio': 1.78,\n",
       "   'http_headers': {'User-Agent': 'Mozilla/5.0 (Windows NT 10.0; Win64; x64) AppleWebKit/537.36 (KHTML, like Gecko) Chrome/96.0.4664.45 Safari/537.36', 'Accept': 'text/html,application/xhtml+xml,application/xml;q=0.9,*/*;q=0.8', 'Accept-Language': 'en-us,en;q=0.5', 'Sec-Fetch-Mode': 'navigate'},\n",
       "   'video_ext': 'mp4',\n",
       "   'audio_ext': 'none',\n",
       "   'abr': 0,\n",
       "   'vbr': 155.636,\n",
       "   'format': '603 - 256x144'},\n",
       "  {'asr': None,\n",
       "   'filesize': 5059723,\n",
       "   'format_id': '278',\n",
       "   'format_note': '144p',\n",
       "   'source_preference': -1,\n",
       "   'fps': 25,\n",
       "   'audio_channels': None,\n",
       "   'height': 144,\n",
       "   'quality': 0.0,\n",
       "   'has_drm': False,\n",
       "   'tbr': 92.313,\n",
       "   'url': 'https://rr5---sn-nx57ynsl.googlevideo.com/videoplayback?expire=1706789042&ei=UjS7ZdnoB_WdsfIPj8-7oAg&ip=205.175.118.189&id=o-AFeZfbcHaAwC8oGTGsTNM5lga6u0eXmr3OGSDnnlqXeV&itag=278&source=youtube&requiressl=yes&xpc=EgVo2aDSNQ%3D%3D&mh=E6&mm=31%2C26&mn=sn-nx57ynsl%2Csn-vgqsrne6&ms=au%2Conr&mv=m&mvi=5&pl=19&initcwndbps=2825000&vprv=1&svpuc=1&mime=video%2Fwebm&gir=yes&clen=5059723&dur=438.480&lmt=1667015736296559&mt=1706767007&fvip=4&keepalive=yes&fexp=24007246&c=IOS&txp=5535434&sparams=expire%2Cei%2Cip%2Cid%2Citag%2Csource%2Crequiressl%2Cxpc%2Cvprv%2Csvpuc%2Cmime%2Cgir%2Cclen%2Cdur%2Clmt&sig=AJfQdSswRQIgUZ9aa_jZ3DSN7rxYb8Q43n4f58WBu4Bi4bLnIShmAyYCIQCI4eV1Ja1Of0_NYNs2bQ7rEapA-i5KAsYEcOYwU__-Kg%3D%3D&lsparams=mh%2Cmm%2Cmn%2Cms%2Cmv%2Cmvi%2Cpl%2Cinitcwndbps&lsig=AAO5W4owRQIhALuTK5dHfXwYAD0s7r3HD7VvIeJsXS1hcDAa3vYpzoKuAiAmW9LSIlWT8mEoMpRGlDlv_hpXPmyR7yDg5THFbDSZ4A%3D%3D',\n",
       "   'width': 256,\n",
       "   'language': None,\n",
       "   'language_preference': -1,\n",
       "   'preference': None,\n",
       "   'ext': 'webm',\n",
       "   'vcodec': 'vp09.00.11.08',\n",
       "   'acodec': 'none',\n",
       "   'dynamic_range': 'SDR',\n",
       "   'container': 'webm_dash',\n",
       "   'downloader_options': {'http_chunk_size': 10485760},\n",
       "   'protocol': 'https',\n",
       "   'resolution': '256x144',\n",
       "   'aspect_ratio': 1.78,\n",
       "   'http_headers': {'User-Agent': 'Mozilla/5.0 (Windows NT 10.0; Win64; x64) AppleWebKit/537.36 (KHTML, like Gecko) Chrome/96.0.4664.45 Safari/537.36', 'Accept': 'text/html,application/xhtml+xml,application/xml;q=0.9,*/*;q=0.8', 'Accept-Language': 'en-us,en;q=0.5', 'Sec-Fetch-Mode': 'navigate'},\n",
       "   'video_ext': 'webm',\n",
       "   'audio_ext': 'none',\n",
       "   'abr': 0,\n",
       "   'vbr': 92.313,\n",
       "   'format': '278 - 256x144 (144p)'},\n",
       "  {'asr': None,\n",
       "   'filesize': 8086154,\n",
       "   'format_id': '395',\n",
       "   'format_note': '240p',\n",
       "   'source_preference': -1,\n",
       "   'fps': 25,\n",
       "   'audio_channels': None,\n",
       "   'height': 240,\n",
       "   'quality': 5.0,\n",
       "   'has_drm': False,\n",
       "   'tbr': 147.53,\n",
       "   'url': 'https://rr5---sn-nx57ynsl.googlevideo.com/videoplayback?expire=1706789042&ei=UjS7ZYjwEKmXsfIP7PSJ2Ac&ip=205.175.118.189&id=o-AN7Ctp52XVzAemi7rJmiNJkXL9AbGWtPA6GH4FZUMokB&itag=395&source=youtube&requiressl=yes&xpc=EgVo2aDSNQ%3D%3D&mh=E6&mm=31%2C29&mn=sn-nx57ynsl%2Csn-nx5s7nel&ms=au%2Crdu&mv=m&mvi=5&pl=19&pcm2=no&initcwndbps=3362500&vprv=1&svpuc=1&mime=video%2Fmp4&gir=yes&clen=8086154&dur=438.480&lmt=1628265478222859&mt=1706767007&fvip=4&keepalive=yes&fexp=24007246&c=ANDROID&txp=5531432&sparams=expire%2Cei%2Cip%2Cid%2Citag%2Csource%2Crequiressl%2Cxpc%2Cpcm2%2Cvprv%2Csvpuc%2Cmime%2Cgir%2Cclen%2Cdur%2Clmt&sig=AJfQdSswRQIhAOl3utnak20Hc8M9dNmPhVl32a4C_zvVWDhYiLxlnTjvAiBhlP6ghifDnLRb0b5gNsgV54DIfQIt3Noi5b5RumSiuA%3D%3D&lsparams=mh%2Cmm%2Cmn%2Cms%2Cmv%2Cmvi%2Cpl%2Cinitcwndbps&lsig=AAO5W4owRQIhAP6sh_KE78ceSSgc9CMFh4WQtZbw1soCt1JOtGxITSxxAiAI8002Bcd-zSX12Cy40ncm6zzgwBpDfb3VTZrmoKHBcw%3D%3D',\n",
       "   'width': 426,\n",
       "   'language': None,\n",
       "   'language_preference': -1,\n",
       "   'preference': None,\n",
       "   'ext': 'mp4',\n",
       "   'vcodec': 'av01.0.00M.08',\n",
       "   'acodec': 'none',\n",
       "   'dynamic_range': 'SDR',\n",
       "   'container': 'mp4_dash',\n",
       "   'downloader_options': {'http_chunk_size': 10485760},\n",
       "   'protocol': 'https',\n",
       "   'resolution': '426x240',\n",
       "   'aspect_ratio': 1.77,\n",
       "   'http_headers': {'User-Agent': 'Mozilla/5.0 (Windows NT 10.0; Win64; x64) AppleWebKit/537.36 (KHTML, like Gecko) Chrome/96.0.4664.45 Safari/537.36', 'Accept': 'text/html,application/xhtml+xml,application/xml;q=0.9,*/*;q=0.8', 'Accept-Language': 'en-us,en;q=0.5', 'Sec-Fetch-Mode': 'navigate'},\n",
       "   'video_ext': 'mp4',\n",
       "   'audio_ext': 'none',\n",
       "   'abr': 0,\n",
       "   'vbr': 147.53,\n",
       "   'format': '395 - 426x240 (240p)'},\n",
       "  {'format_id': '229',\n",
       "   'format_index': None,\n",
       "   'url': 'https://manifest.googlevideo.com/api/manifest/hls_playlist/expire/1706789042/ei/UjS7ZdnoB_WdsfIPj8-7oAg/ip/205.175.118.189/id/80fc65600aaa95b9/itag/229/source/youtube/requiressl/yes/ratebypass/yes/pfa/1/sgovp/clen%3D10458948%3Bdur%3D438.480%3Bgir%3Dyes%3Bitag%3D133%3Blmt%3D1628259201235814/rqh/1/hls_chunk_host/rr5---sn-nx57ynsl.googlevideo.com/xpc/EgVo2aDSNQ%3D%3D/mh/E6/mm/31,26/mn/sn-nx57ynsl,sn-vgqsrne6/ms/au,onr/mv/m/mvi/5/pl/19/initcwndbps/2825000/vprv/1/playlist_type/DVR/dover/13/txp/5535434/mt/1706767007/fvip/4/short_key/1/keepalive/yes/fexp/24007246/sparams/expire,ei,ip,id,itag,source,requiressl,ratebypass,pfa,sgovp,rqh,xpc,vprv,playlist_type/sig/AJfQdSswRQIgVfd9gg6konaTIdDpYmGSAHHl0Q58TerVRXAZbLmEMsECIQDPiz_2zIPBopoZcKpvoV2j_MFrtapQiVt5VQTVUwhg5A%3D%3D/lsparams/hls_chunk_host,mh,mm,mn,ms,mv,mvi,pl,initcwndbps/lsig/AAO5W4owRAIgHZ0CFCxKPpkW9LYAAcDcrQnSGMcW8Fj-sDHqnPuwSvgCIDHa6ARbPBVquarrvGJimhnkLotAiLfBj_kwYxnizM3H/playlist/index.m3u8',\n",
       "   'manifest_url': 'https://manifest.googlevideo.com/api/manifest/hls_variant/expire/1706789042/ei/UjS7ZdnoB_WdsfIPj8-7oAg/ip/205.175.118.189/id/80fc65600aaa95b9/source/youtube/requiressl/yes/xpc/EgVo2aDSNQ%3D%3D/playback_host/rr5---sn-nx57ynsl.googlevideo.com/mh/E6/mm/31%2C26/mn/sn-nx57ynsl%2Csn-vgqsrne6/ms/au%2Conr/mv/m/mvi/5/pl/19/hfr/1/demuxed/1/tts_caps/1/maudio/1/initcwndbps/2825000/vprv/1/go/1/mt/1706767007/fvip/4/nvgoi/1/short_key/1/ncsapi/1/keepalive/yes/fexp/24007246/dover/13/itag/0/playlist_type/DVR/sparams/expire%2Cei%2Cip%2Cid%2Csource%2Crequiressl%2Cxpc%2Chfr%2Cdemuxed%2Ctts_caps%2Cmaudio%2Cvprv%2Cgo%2Citag%2Cplaylist_type/sig/AJfQdSswRQIhANzup8O7HszB3Mn8lev5X74-P6lDT9vRHUOzjwjQsIYgAiAZ0jujhKvhMU0qTi6PlhRydJ6WnQGA4IRTY54Xn0UsPg%3D%3D/lsparams/playback_host%2Cmh%2Cmm%2Cmn%2Cms%2Cmv%2Cmvi%2Cpl%2Cinitcwndbps/lsig/AAO5W4owRQIhAKZ2KLM438Do5maMTfKGCr7mYWSN_NGtCRhjGzqNQIw9AiBnASaJVSV5h6q6NBh0Fztx3snowpvCteJFq8xiiF-vAw%3D%3D/file/index.m3u8',\n",
       "   'tbr': 299.312,\n",
       "   'ext': 'mp4',\n",
       "   'fps': 25.0,\n",
       "   'protocol': 'm3u8_native',\n",
       "   'preference': None,\n",
       "   'quality': 5,\n",
       "   'has_drm': False,\n",
       "   'width': 426,\n",
       "   'height': 240,\n",
       "   'vcodec': 'avc1.4D4015',\n",
       "   'acodec': 'none',\n",
       "   'dynamic_range': 'SDR',\n",
       "   'source_preference': -1,\n",
       "   'resolution': '426x240',\n",
       "   'aspect_ratio': 1.77,\n",
       "   'http_headers': {'User-Agent': 'Mozilla/5.0 (Windows NT 10.0; Win64; x64) AppleWebKit/537.36 (KHTML, like Gecko) Chrome/96.0.4664.45 Safari/537.36', 'Accept': 'text/html,application/xhtml+xml,application/xml;q=0.9,*/*;q=0.8', 'Accept-Language': 'en-us,en;q=0.5', 'Sec-Fetch-Mode': 'navigate'},\n",
       "   'video_ext': 'mp4',\n",
       "   'audio_ext': 'none',\n",
       "   'abr': 0,\n",
       "   'vbr': 299.312,\n",
       "   'format': '229 - 426x240'},\n",
       "  {'asr': None,\n",
       "   'filesize': 10458948,\n",
       "   'format_id': '133',\n",
       "   'format_note': '240p',\n",
       "   'source_preference': -1,\n",
       "   'fps': 25,\n",
       "   'audio_channels': None,\n",
       "   'height': 240,\n",
       "   'quality': 5.0,\n",
       "   'has_drm': False,\n",
       "   'tbr': 190.821,\n",
       "   'url': 'https://rr5---sn-nx57ynsl.googlevideo.com/videoplayback?expire=1706789042&ei=UjS7ZdnoB_WdsfIPj8-7oAg&ip=205.175.118.189&id=o-AFeZfbcHaAwC8oGTGsTNM5lga6u0eXmr3OGSDnnlqXeV&itag=133&source=youtube&requiressl=yes&xpc=EgVo2aDSNQ%3D%3D&mh=E6&mm=31%2C26&mn=sn-nx57ynsl%2Csn-vgqsrne6&ms=au%2Conr&mv=m&mvi=5&pl=19&initcwndbps=2825000&vprv=1&svpuc=1&mime=video%2Fmp4&gir=yes&clen=10458948&dur=438.480&lmt=1628259201235814&mt=1706767007&fvip=4&keepalive=yes&fexp=24007246&c=IOS&txp=5535434&sparams=expire%2Cei%2Cip%2Cid%2Citag%2Csource%2Crequiressl%2Cxpc%2Cvprv%2Csvpuc%2Cmime%2Cgir%2Cclen%2Cdur%2Clmt&sig=AJfQdSswRgIhAMu5GKZwgZv0OwWv5Ocu8P5L-a5TaO8sMqGAG0FuEaV_AiEAiu_rGHZW1kc52urs7_xRbKd0Z9nL4RfG40OCBrHqbek%3D&lsparams=mh%2Cmm%2Cmn%2Cms%2Cmv%2Cmvi%2Cpl%2Cinitcwndbps&lsig=AAO5W4owRQIhALuTK5dHfXwYAD0s7r3HD7VvIeJsXS1hcDAa3vYpzoKuAiAmW9LSIlWT8mEoMpRGlDlv_hpXPmyR7yDg5THFbDSZ4A%3D%3D',\n",
       "   'width': 426,\n",
       "   'language': None,\n",
       "   'language_preference': -1,\n",
       "   'preference': None,\n",
       "   'ext': 'mp4',\n",
       "   'vcodec': 'avc1.4D4015',\n",
       "   'acodec': 'none',\n",
       "   'dynamic_range': 'SDR',\n",
       "   'container': 'mp4_dash',\n",
       "   'downloader_options': {'http_chunk_size': 10485760},\n",
       "   'protocol': 'https',\n",
       "   'resolution': '426x240',\n",
       "   'aspect_ratio': 1.77,\n",
       "   'http_headers': {'User-Agent': 'Mozilla/5.0 (Windows NT 10.0; Win64; x64) AppleWebKit/537.36 (KHTML, like Gecko) Chrome/96.0.4664.45 Safari/537.36', 'Accept': 'text/html,application/xhtml+xml,application/xml;q=0.9,*/*;q=0.8', 'Accept-Language': 'en-us,en;q=0.5', 'Sec-Fetch-Mode': 'navigate'},\n",
       "   'video_ext': 'mp4',\n",
       "   'audio_ext': 'none',\n",
       "   'abr': 0,\n",
       "   'vbr': 190.821,\n",
       "   'format': '133 - 426x240 (240p)'},\n",
       "  {'format_id': '604',\n",
       "   'format_index': None,\n",
       "   'url': 'https://manifest.googlevideo.com/api/manifest/hls_playlist/expire/1706789042/ei/UjS7ZdnoB_WdsfIPj8-7oAg/ip/205.175.118.189/id/80fc65600aaa95b9/itag/604/source/youtube/requiressl/yes/ratebypass/yes/pfa/1/wft/1/sgovp/clen%3D11401680%3Bdur%3D438.480%3Bgir%3Dyes%3Bitag%3D242%3Blmt%3D1667015733876965/rqh/1/hls_chunk_host/rr5---sn-nx57ynsl.googlevideo.com/xpc/EgVo2aDSNQ%3D%3D/mh/E6/mm/31,26/mn/sn-nx57ynsl,sn-vgqsrne6/ms/au,onr/mv/m/mvi/5/pl/19/initcwndbps/2825000/vprv/1/playlist_type/DVR/dover/13/txp/5535434/mt/1706767007/fvip/4/short_key/1/keepalive/yes/fexp/24007246/sparams/expire,ei,ip,id,itag,source,requiressl,ratebypass,pfa,wft,sgovp,rqh,xpc,vprv,playlist_type/sig/AJfQdSswRQIgGqSjj2PASBTZoMVB6eoMfNBDntJO9obhJpaVJNnU7vMCIQCXnPvTCV9W4z9ufeokpZ6-QEqzZy4QoQ4zNvCgRpdhEw%3D%3D/lsparams/hls_chunk_host,mh,mm,mn,ms,mv,mvi,pl,initcwndbps/lsig/AAO5W4owRQIgWZjIoT_m0tS6IjmiXgS0KiPEtqz1CoRbUH2NqIOCcNwCIQDWV_qpvYmamh79SONLsQ70kqjm6un-EQXkHy_J5WnjGA%3D%3D/playlist/index.m3u8',\n",
       "   'manifest_url': 'https://manifest.googlevideo.com/api/manifest/hls_variant/expire/1706789042/ei/UjS7ZdnoB_WdsfIPj8-7oAg/ip/205.175.118.189/id/80fc65600aaa95b9/source/youtube/requiressl/yes/xpc/EgVo2aDSNQ%3D%3D/playback_host/rr5---sn-nx57ynsl.googlevideo.com/mh/E6/mm/31%2C26/mn/sn-nx57ynsl%2Csn-vgqsrne6/ms/au%2Conr/mv/m/mvi/5/pl/19/hfr/1/demuxed/1/tts_caps/1/maudio/1/initcwndbps/2825000/vprv/1/go/1/mt/1706767007/fvip/4/nvgoi/1/short_key/1/ncsapi/1/keepalive/yes/fexp/24007246/dover/13/itag/0/playlist_type/DVR/sparams/expire%2Cei%2Cip%2Cid%2Csource%2Crequiressl%2Cxpc%2Chfr%2Cdemuxed%2Ctts_caps%2Cmaudio%2Cvprv%2Cgo%2Citag%2Cplaylist_type/sig/AJfQdSswRQIhANzup8O7HszB3Mn8lev5X74-P6lDT9vRHUOzjwjQsIYgAiAZ0jujhKvhMU0qTi6PlhRydJ6WnQGA4IRTY54Xn0UsPg%3D%3D/lsparams/playback_host%2Cmh%2Cmm%2Cmn%2Cms%2Cmv%2Cmvi%2Cpl%2Cinitcwndbps/lsig/AAO5W4owRQIhAKZ2KLM438Do5maMTfKGCr7mYWSN_NGtCRhjGzqNQIw9AiBnASaJVSV5h6q6NBh0Fztx3snowpvCteJFq8xiiF-vAw%3D%3D/file/index.m3u8',\n",
       "   'tbr': 290.935,\n",
       "   'ext': 'mp4',\n",
       "   'fps': 25.0,\n",
       "   'protocol': 'm3u8_native',\n",
       "   'preference': None,\n",
       "   'quality': 5,\n",
       "   'has_drm': False,\n",
       "   'width': 426,\n",
       "   'height': 240,\n",
       "   'vcodec': 'vp09.00.20.08',\n",
       "   'acodec': 'none',\n",
       "   'dynamic_range': 'SDR',\n",
       "   'source_preference': -1,\n",
       "   'resolution': '426x240',\n",
       "   'aspect_ratio': 1.77,\n",
       "   'http_headers': {'User-Agent': 'Mozilla/5.0 (Windows NT 10.0; Win64; x64) AppleWebKit/537.36 (KHTML, like Gecko) Chrome/96.0.4664.45 Safari/537.36', 'Accept': 'text/html,application/xhtml+xml,application/xml;q=0.9,*/*;q=0.8', 'Accept-Language': 'en-us,en;q=0.5', 'Sec-Fetch-Mode': 'navigate'},\n",
       "   'video_ext': 'mp4',\n",
       "   'audio_ext': 'none',\n",
       "   'abr': 0,\n",
       "   'vbr': 290.935,\n",
       "   'format': '604 - 426x240'},\n",
       "  {'asr': None,\n",
       "   'filesize': 11401680,\n",
       "   'format_id': '242',\n",
       "   'format_note': '240p',\n",
       "   'source_preference': -1,\n",
       "   'fps': 25,\n",
       "   'audio_channels': None,\n",
       "   'height': 240,\n",
       "   'quality': 5.0,\n",
       "   'has_drm': False,\n",
       "   'tbr': 208.021,\n",
       "   'url': 'https://rr5---sn-nx57ynsl.googlevideo.com/videoplayback?expire=1706789042&ei=UjS7ZdnoB_WdsfIPj8-7oAg&ip=205.175.118.189&id=o-AFeZfbcHaAwC8oGTGsTNM5lga6u0eXmr3OGSDnnlqXeV&itag=242&source=youtube&requiressl=yes&xpc=EgVo2aDSNQ%3D%3D&mh=E6&mm=31%2C26&mn=sn-nx57ynsl%2Csn-vgqsrne6&ms=au%2Conr&mv=m&mvi=5&pl=19&initcwndbps=2825000&vprv=1&svpuc=1&mime=video%2Fwebm&gir=yes&clen=11401680&dur=438.480&lmt=1667015733876965&mt=1706767007&fvip=4&keepalive=yes&fexp=24007246&c=IOS&txp=5535434&sparams=expire%2Cei%2Cip%2Cid%2Citag%2Csource%2Crequiressl%2Cxpc%2Cvprv%2Csvpuc%2Cmime%2Cgir%2Cclen%2Cdur%2Clmt&sig=AJfQdSswRgIhAJcj-wf0AiT7FSd4hLn_E0_6ekZskbtIcgz7-wpC-ePMAiEA2tNWS2EUXPEWYaIqI8cRwfUarBGPkdrDO6MqPdb9trE%3D&lsparams=mh%2Cmm%2Cmn%2Cms%2Cmv%2Cmvi%2Cpl%2Cinitcwndbps&lsig=AAO5W4owRQIhALuTK5dHfXwYAD0s7r3HD7VvIeJsXS1hcDAa3vYpzoKuAiAmW9LSIlWT8mEoMpRGlDlv_hpXPmyR7yDg5THFbDSZ4A%3D%3D',\n",
       "   'width': 426,\n",
       "   'language': None,\n",
       "   'language_preference': -1,\n",
       "   'preference': None,\n",
       "   'ext': 'webm',\n",
       "   'vcodec': 'vp09.00.20.08',\n",
       "   'acodec': 'none',\n",
       "   'dynamic_range': 'SDR',\n",
       "   'container': 'webm_dash',\n",
       "   'downloader_options': {'http_chunk_size': 10485760},\n",
       "   'protocol': 'https',\n",
       "   'resolution': '426x240',\n",
       "   'aspect_ratio': 1.77,\n",
       "   'http_headers': {'User-Agent': 'Mozilla/5.0 (Windows NT 10.0; Win64; x64) AppleWebKit/537.36 (KHTML, like Gecko) Chrome/96.0.4664.45 Safari/537.36', 'Accept': 'text/html,application/xhtml+xml,application/xml;q=0.9,*/*;q=0.8', 'Accept-Language': 'en-us,en;q=0.5', 'Sec-Fetch-Mode': 'navigate'},\n",
       "   'video_ext': 'webm',\n",
       "   'audio_ext': 'none',\n",
       "   'abr': 0,\n",
       "   'vbr': 208.021,\n",
       "   'format': '242 - 426x240 (240p)'},\n",
       "  {'asr': None,\n",
       "   'filesize': 17019941,\n",
       "   'format_id': '396',\n",
       "   'format_note': '360p',\n",
       "   'source_preference': -1,\n",
       "   'fps': 25,\n",
       "   'audio_channels': None,\n",
       "   'height': 360,\n",
       "   'quality': 6.0,\n",
       "   'has_drm': False,\n",
       "   'tbr': 310.526,\n",
       "   'url': 'https://rr5---sn-nx57ynsl.googlevideo.com/videoplayback?expire=1706789042&ei=UjS7ZYjwEKmXsfIP7PSJ2Ac&ip=205.175.118.189&id=o-AN7Ctp52XVzAemi7rJmiNJkXL9AbGWtPA6GH4FZUMokB&itag=396&source=youtube&requiressl=yes&xpc=EgVo2aDSNQ%3D%3D&mh=E6&mm=31%2C29&mn=sn-nx57ynsl%2Csn-nx5s7nel&ms=au%2Crdu&mv=m&mvi=5&pl=19&pcm2=no&initcwndbps=3362500&vprv=1&svpuc=1&mime=video%2Fmp4&gir=yes&clen=17019941&dur=438.480&lmt=1628265577355364&mt=1706767007&fvip=4&keepalive=yes&fexp=24007246&c=ANDROID&txp=5531432&sparams=expire%2Cei%2Cip%2Cid%2Citag%2Csource%2Crequiressl%2Cxpc%2Cpcm2%2Cvprv%2Csvpuc%2Cmime%2Cgir%2Cclen%2Cdur%2Clmt&sig=AJfQdSswRQIhAN4bsGEvLoq80aYiFov6xJKqfQHwkP0EknAbqqyKzGMSAiBYohbi964_GUVTiZEtky9R4PI64prnx9azAExvQqdLAA%3D%3D&lsparams=mh%2Cmm%2Cmn%2Cms%2Cmv%2Cmvi%2Cpl%2Cinitcwndbps&lsig=AAO5W4owRQIhAP6sh_KE78ceSSgc9CMFh4WQtZbw1soCt1JOtGxITSxxAiAI8002Bcd-zSX12Cy40ncm6zzgwBpDfb3VTZrmoKHBcw%3D%3D',\n",
       "   'width': 640,\n",
       "   'language': None,\n",
       "   'language_preference': -1,\n",
       "   'preference': None,\n",
       "   'ext': 'mp4',\n",
       "   'vcodec': 'av01.0.01M.08',\n",
       "   'acodec': 'none',\n",
       "   'dynamic_range': 'SDR',\n",
       "   'container': 'mp4_dash',\n",
       "   'downloader_options': {'http_chunk_size': 10485760},\n",
       "   'protocol': 'https',\n",
       "   'resolution': '640x360',\n",
       "   'aspect_ratio': 1.78,\n",
       "   'http_headers': {'User-Agent': 'Mozilla/5.0 (Windows NT 10.0; Win64; x64) AppleWebKit/537.36 (KHTML, like Gecko) Chrome/96.0.4664.45 Safari/537.36', 'Accept': 'text/html,application/xhtml+xml,application/xml;q=0.9,*/*;q=0.8', 'Accept-Language': 'en-us,en;q=0.5', 'Sec-Fetch-Mode': 'navigate'},\n",
       "   'video_ext': 'mp4',\n",
       "   'audio_ext': 'none',\n",
       "   'abr': 0,\n",
       "   'vbr': 310.526,\n",
       "   'format': '396 - 640x360 (360p)'},\n",
       "  {'format_id': '230',\n",
       "   'format_index': None,\n",
       "   'url': 'https://manifest.googlevideo.com/api/manifest/hls_playlist/expire/1706789042/ei/UjS7ZdnoB_WdsfIPj8-7oAg/ip/205.175.118.189/id/80fc65600aaa95b9/itag/230/source/youtube/requiressl/yes/ratebypass/yes/pfa/1/sgovp/clen%3D22747918%3Bdur%3D438.480%3Bgir%3Dyes%3Bitag%3D134%3Blmt%3D1628259117725127/rqh/1/hls_chunk_host/rr5---sn-nx57ynsl.googlevideo.com/xpc/EgVo2aDSNQ%3D%3D/mh/E6/mm/31,26/mn/sn-nx57ynsl,sn-vgqsrne6/ms/au,onr/mv/m/mvi/5/pl/19/initcwndbps/2825000/vprv/1/playlist_type/DVR/dover/13/txp/5535434/mt/1706767007/fvip/4/short_key/1/keepalive/yes/fexp/24007246/sparams/expire,ei,ip,id,itag,source,requiressl,ratebypass,pfa,sgovp,rqh,xpc,vprv,playlist_type/sig/AJfQdSswRQIhAIBQV7NufwZc2EMd6ywVuK6yh_0FzW_jCPashYm4xwOFAiAQUfGzOslM4h89rVvt-YgYpZSB06JDrTTLaqD7xd5lWg%3D%3D/lsparams/hls_chunk_host,mh,mm,mn,ms,mv,mvi,pl,initcwndbps/lsig/AAO5W4owRQIgYXoElRLxgE3e5RNA5jGceOPTxmH243yrL6dr-_dE8ToCIQDBpQ-UqxNfeJcCpwT6J2Ur0aOqL6BxRkfjbUiV82lPJg%3D%3D/playlist/index.m3u8',\n",
       "   'manifest_url': 'https://manifest.googlevideo.com/api/manifest/hls_variant/expire/1706789042/ei/UjS7ZdnoB_WdsfIPj8-7oAg/ip/205.175.118.189/id/80fc65600aaa95b9/source/youtube/requiressl/yes/xpc/EgVo2aDSNQ%3D%3D/playback_host/rr5---sn-nx57ynsl.googlevideo.com/mh/E6/mm/31%2C26/mn/sn-nx57ynsl%2Csn-vgqsrne6/ms/au%2Conr/mv/m/mvi/5/pl/19/hfr/1/demuxed/1/tts_caps/1/maudio/1/initcwndbps/2825000/vprv/1/go/1/mt/1706767007/fvip/4/nvgoi/1/short_key/1/ncsapi/1/keepalive/yes/fexp/24007246/dover/13/itag/0/playlist_type/DVR/sparams/expire%2Cei%2Cip%2Cid%2Csource%2Crequiressl%2Cxpc%2Chfr%2Cdemuxed%2Ctts_caps%2Cmaudio%2Cvprv%2Cgo%2Citag%2Cplaylist_type/sig/AJfQdSswRQIhANzup8O7HszB3Mn8lev5X74-P6lDT9vRHUOzjwjQsIYgAiAZ0jujhKvhMU0qTi6PlhRydJ6WnQGA4IRTY54Xn0UsPg%3D%3D/lsparams/playback_host%2Cmh%2Cmm%2Cmn%2Cms%2Cmv%2Cmvi%2Cpl%2Cinitcwndbps/lsig/AAO5W4owRQIhAKZ2KLM438Do5maMTfKGCr7mYWSN_NGtCRhjGzqNQIw9AiBnASaJVSV5h6q6NBh0Fztx3snowpvCteJFq8xiiF-vAw%3D%3D/file/index.m3u8',\n",
       "   'tbr': 741.268,\n",
       "   'ext': 'mp4',\n",
       "   'fps': 25.0,\n",
       "   'protocol': 'm3u8_native',\n",
       "   'preference': None,\n",
       "   'quality': 6,\n",
       "   'has_drm': False,\n",
       "   'width': 640,\n",
       "   'height': 360,\n",
       "   'vcodec': 'avc1.4D401E',\n",
       "   'acodec': 'none',\n",
       "   'dynamic_range': 'SDR',\n",
       "   'source_preference': -1,\n",
       "   'resolution': '640x360',\n",
       "   'aspect_ratio': 1.78,\n",
       "   'http_headers': {'User-Agent': 'Mozilla/5.0 (Windows NT 10.0; Win64; x64) AppleWebKit/537.36 (KHTML, like Gecko) Chrome/96.0.4664.45 Safari/537.36', 'Accept': 'text/html,application/xhtml+xml,application/xml;q=0.9,*/*;q=0.8', 'Accept-Language': 'en-us,en;q=0.5', 'Sec-Fetch-Mode': 'navigate'},\n",
       "   'video_ext': 'mp4',\n",
       "   'audio_ext': 'none',\n",
       "   'abr': 0,\n",
       "   'vbr': 741.268,\n",
       "   'format': '230 - 640x360'},\n",
       "  {'asr': None,\n",
       "   'filesize': 22747918,\n",
       "   'format_id': '134',\n",
       "   'format_note': '360p',\n",
       "   'source_preference': -1,\n",
       "   'fps': 25,\n",
       "   'audio_channels': None,\n",
       "   'height': 360,\n",
       "   'quality': 6.0,\n",
       "   'has_drm': False,\n",
       "   'tbr': 415.032,\n",
       "   'url': 'https://rr5---sn-nx57ynsl.googlevideo.com/videoplayback?expire=1706789042&ei=UjS7ZdnoB_WdsfIPj8-7oAg&ip=205.175.118.189&id=o-AFeZfbcHaAwC8oGTGsTNM5lga6u0eXmr3OGSDnnlqXeV&itag=134&source=youtube&requiressl=yes&xpc=EgVo2aDSNQ%3D%3D&mh=E6&mm=31%2C26&mn=sn-nx57ynsl%2Csn-vgqsrne6&ms=au%2Conr&mv=m&mvi=5&pl=19&initcwndbps=2825000&vprv=1&svpuc=1&mime=video%2Fmp4&gir=yes&clen=22747918&dur=438.480&lmt=1628259117725127&mt=1706767007&fvip=4&keepalive=yes&fexp=24007246&c=IOS&txp=5535434&sparams=expire%2Cei%2Cip%2Cid%2Citag%2Csource%2Crequiressl%2Cxpc%2Cvprv%2Csvpuc%2Cmime%2Cgir%2Cclen%2Cdur%2Clmt&sig=AJfQdSswRAIgX30HPJu0TUKXTrMDSIRl1_B6XE-RT8bwS7w7fDZmb_4CIAu12rPzAPfyABfBLQDGL4ejXE7Hpaq1vfAAluX4yqU2&lsparams=mh%2Cmm%2Cmn%2Cms%2Cmv%2Cmvi%2Cpl%2Cinitcwndbps&lsig=AAO5W4owRQIhALuTK5dHfXwYAD0s7r3HD7VvIeJsXS1hcDAa3vYpzoKuAiAmW9LSIlWT8mEoMpRGlDlv_hpXPmyR7yDg5THFbDSZ4A%3D%3D',\n",
       "   'width': 640,\n",
       "   'language': None,\n",
       "   'language_preference': -1,\n",
       "   'preference': None,\n",
       "   'ext': 'mp4',\n",
       "   'vcodec': 'avc1.4D401E',\n",
       "   'acodec': 'none',\n",
       "   'dynamic_range': 'SDR',\n",
       "   'container': 'mp4_dash',\n",
       "   'downloader_options': {'http_chunk_size': 10485760},\n",
       "   'protocol': 'https',\n",
       "   'resolution': '640x360',\n",
       "   'aspect_ratio': 1.78,\n",
       "   'http_headers': {'User-Agent': 'Mozilla/5.0 (Windows NT 10.0; Win64; x64) AppleWebKit/537.36 (KHTML, like Gecko) Chrome/96.0.4664.45 Safari/537.36', 'Accept': 'text/html,application/xhtml+xml,application/xml;q=0.9,*/*;q=0.8', 'Accept-Language': 'en-us,en;q=0.5', 'Sec-Fetch-Mode': 'navigate'},\n",
       "   'video_ext': 'mp4',\n",
       "   'audio_ext': 'none',\n",
       "   'abr': 0,\n",
       "   'vbr': 415.032,\n",
       "   'format': '134 - 640x360 (360p)'},\n",
       "  {'asr': 44100,\n",
       "   'filesize': None,\n",
       "   'format_id': '18',\n",
       "   'format_note': '360p',\n",
       "   'source_preference': -1,\n",
       "   'fps': 25,\n",
       "   'audio_channels': 2,\n",
       "   'height': 360,\n",
       "   'quality': 6.0,\n",
       "   'has_drm': False,\n",
       "   'tbr': 544.187,\n",
       "   'url': 'https://rr5---sn-nx57ynsl.googlevideo.com/videoplayback?expire=1706789042&ei=UjS7ZYjwEKmXsfIP7PSJ2Ac&ip=205.175.118.189&id=o-AN7Ctp52XVzAemi7rJmiNJkXL9AbGWtPA6GH4FZUMokB&itag=18&source=youtube&requiressl=yes&xpc=EgVo2aDSNQ%3D%3D&mh=E6&mm=31%2C29&mn=sn-nx57ynsl%2Csn-nx5s7nel&ms=au%2Crdu&mv=m&mvi=5&pl=19&pcm2=no&initcwndbps=3362500&vprv=1&svpuc=1&mime=video%2Fmp4&cnr=14&ratebypass=yes&dur=438.532&lmt=1664785664021804&mt=1706767007&fvip=4&fexp=24007246&c=ANDROID&txp=5538434&sparams=expire%2Cei%2Cip%2Cid%2Citag%2Csource%2Crequiressl%2Cxpc%2Cpcm2%2Cvprv%2Csvpuc%2Cmime%2Ccnr%2Cratebypass%2Cdur%2Clmt&sig=AJfQdSswRgIhAO_iunQO9gTA9SFul0olauG34WhTnCrhLs7mLFW2t1CmAiEAq2qWbwxTNCsbqBH8fCSDlLllX981_t5_Q32gYVV7K7o%3D&lsparams=mh%2Cmm%2Cmn%2Cms%2Cmv%2Cmvi%2Cpl%2Cinitcwndbps&lsig=AAO5W4owRQIhAP6sh_KE78ceSSgc9CMFh4WQtZbw1soCt1JOtGxITSxxAiAI8002Bcd-zSX12Cy40ncm6zzgwBpDfb3VTZrmoKHBcw%3D%3D',\n",
       "   'width': 640,\n",
       "   'language': None,\n",
       "   'language_preference': -1,\n",
       "   'preference': None,\n",
       "   'ext': 'mp4',\n",
       "   'vcodec': 'avc1.42001E',\n",
       "   'acodec': 'mp4a.40.2',\n",
       "   'dynamic_range': 'SDR',\n",
       "   'downloader_options': {'http_chunk_size': 10485760},\n",
       "   'protocol': 'https',\n",
       "   'resolution': '640x360',\n",
       "   'aspect_ratio': 1.78,\n",
       "   'filesize_approx': 30578955,\n",
       "   'http_headers': {'User-Agent': 'Mozilla/5.0 (Windows NT 10.0; Win64; x64) AppleWebKit/537.36 (KHTML, like Gecko) Chrome/96.0.4664.45 Safari/537.36', 'Accept': 'text/html,application/xhtml+xml,application/xml;q=0.9,*/*;q=0.8', 'Accept-Language': 'en-us,en;q=0.5', 'Sec-Fetch-Mode': 'navigate'},\n",
       "   'video_ext': 'mp4',\n",
       "   'audio_ext': 'none',\n",
       "   'vbr': None,\n",
       "   'abr': None,\n",
       "   'format': '18 - 640x360 (360p)'},\n",
       "  {'format_id': '605',\n",
       "   'format_index': None,\n",
       "   'url': 'https://manifest.googlevideo.com/api/manifest/hls_playlist/expire/1706789042/ei/UjS7ZdnoB_WdsfIPj8-7oAg/ip/205.175.118.189/id/80fc65600aaa95b9/itag/605/source/youtube/requiressl/yes/ratebypass/yes/pfa/1/wft/1/sgovp/clen%3D20676573%3Bdur%3D438.480%3Bgir%3Dyes%3Bitag%3D243%3Blmt%3D1667015727081828/rqh/1/hls_chunk_host/rr5---sn-nx57ynsl.googlevideo.com/xpc/EgVo2aDSNQ%3D%3D/mh/E6/mm/31,26/mn/sn-nx57ynsl,sn-vgqsrne6/ms/au,onr/mv/m/mvi/5/pl/19/initcwndbps/2825000/vprv/1/playlist_type/DVR/dover/13/txp/5535434/mt/1706767007/fvip/4/short_key/1/keepalive/yes/fexp/24007246/sparams/expire,ei,ip,id,itag,source,requiressl,ratebypass,pfa,wft,sgovp,rqh,xpc,vprv,playlist_type/sig/AJfQdSswRgIhAI6vw-RxIjNylfNRo1_a-yMJ7QAYVEfDN_yV_53E-CkpAiEA40xnCjmyAvYQuP5w7NACxCBY0boSYeczK5ROAE_-q04%3D/lsparams/hls_chunk_host,mh,mm,mn,ms,mv,mvi,pl,initcwndbps/lsig/AAO5W4owRQIgTqMSXZgaRwAnw8qm8R6_2YIQJzKfxtq-gyUDve9PXykCIQCBIZpqn8Nyvj461Omxk9gxtwFJFClzNAO3GCdFgehSyQ%3D%3D/playlist/index.m3u8',\n",
       "   'manifest_url': 'https://manifest.googlevideo.com/api/manifest/hls_variant/expire/1706789042/ei/UjS7ZdnoB_WdsfIPj8-7oAg/ip/205.175.118.189/id/80fc65600aaa95b9/source/youtube/requiressl/yes/xpc/EgVo2aDSNQ%3D%3D/playback_host/rr5---sn-nx57ynsl.googlevideo.com/mh/E6/mm/31%2C26/mn/sn-nx57ynsl%2Csn-vgqsrne6/ms/au%2Conr/mv/m/mvi/5/pl/19/hfr/1/demuxed/1/tts_caps/1/maudio/1/initcwndbps/2825000/vprv/1/go/1/mt/1706767007/fvip/4/nvgoi/1/short_key/1/ncsapi/1/keepalive/yes/fexp/24007246/dover/13/itag/0/playlist_type/DVR/sparams/expire%2Cei%2Cip%2Cid%2Csource%2Crequiressl%2Cxpc%2Chfr%2Cdemuxed%2Ctts_caps%2Cmaudio%2Cvprv%2Cgo%2Citag%2Cplaylist_type/sig/AJfQdSswRQIhANzup8O7HszB3Mn8lev5X74-P6lDT9vRHUOzjwjQsIYgAiAZ0jujhKvhMU0qTi6PlhRydJ6WnQGA4IRTY54Xn0UsPg%3D%3D/lsparams/playback_host%2Cmh%2Cmm%2Cmn%2Cms%2Cmv%2Cmvi%2Cpl%2Cinitcwndbps/lsig/AAO5W4owRQIhAKZ2KLM438Do5maMTfKGCr7mYWSN_NGtCRhjGzqNQIw9AiBnASaJVSV5h6q6NBh0Fztx3snowpvCteJFq8xiiF-vAw%3D%3D/file/index.m3u8',\n",
       "   'tbr': 570.533,\n",
       "   'ext': 'mp4',\n",
       "   'fps': 25.0,\n",
       "   'protocol': 'm3u8_native',\n",
       "   'preference': None,\n",
       "   'quality': 6,\n",
       "   'has_drm': False,\n",
       "   'width': 640,\n",
       "   'height': 360,\n",
       "   'vcodec': 'vp09.00.21.08',\n",
       "   'acodec': 'none',\n",
       "   'dynamic_range': 'SDR',\n",
       "   'source_preference': -1,\n",
       "   'resolution': '640x360',\n",
       "   'aspect_ratio': 1.78,\n",
       "   'http_headers': {'User-Agent': 'Mozilla/5.0 (Windows NT 10.0; Win64; x64) AppleWebKit/537.36 (KHTML, like Gecko) Chrome/96.0.4664.45 Safari/537.36', 'Accept': 'text/html,application/xhtml+xml,application/xml;q=0.9,*/*;q=0.8', 'Accept-Language': 'en-us,en;q=0.5', 'Sec-Fetch-Mode': 'navigate'},\n",
       "   'video_ext': 'mp4',\n",
       "   'audio_ext': 'none',\n",
       "   'abr': 0,\n",
       "   'vbr': 570.533,\n",
       "   'format': '605 - 640x360'},\n",
       "  {'asr': None,\n",
       "   'filesize': 20676573,\n",
       "   'format_id': '243',\n",
       "   'format_note': '360p',\n",
       "   'source_preference': -1,\n",
       "   'fps': 25,\n",
       "   'audio_channels': None,\n",
       "   'height': 360,\n",
       "   'quality': 6.0,\n",
       "   'has_drm': False,\n",
       "   'tbr': 377.24,\n",
       "   'url': 'https://rr5---sn-nx57ynsl.googlevideo.com/videoplayback?expire=1706789042&ei=UjS7ZdnoB_WdsfIPj8-7oAg&ip=205.175.118.189&id=o-AFeZfbcHaAwC8oGTGsTNM5lga6u0eXmr3OGSDnnlqXeV&itag=243&source=youtube&requiressl=yes&xpc=EgVo2aDSNQ%3D%3D&mh=E6&mm=31%2C26&mn=sn-nx57ynsl%2Csn-vgqsrne6&ms=au%2Conr&mv=m&mvi=5&pl=19&initcwndbps=2825000&vprv=1&svpuc=1&mime=video%2Fwebm&gir=yes&clen=20676573&dur=438.480&lmt=1667015727081828&mt=1706767007&fvip=4&keepalive=yes&fexp=24007246&c=IOS&txp=5535434&sparams=expire%2Cei%2Cip%2Cid%2Citag%2Csource%2Crequiressl%2Cxpc%2Cvprv%2Csvpuc%2Cmime%2Cgir%2Cclen%2Cdur%2Clmt&sig=AJfQdSswRQIgOqKVZ6IWr6Rc6UnZxWX_6D8nXYeUd3A4D0zSAZ4ovqYCIQDRdUd8EOdSLE-RaLHPmYlqVxBcwkRLLkS9dLU-HvEvCw%3D%3D&lsparams=mh%2Cmm%2Cmn%2Cms%2Cmv%2Cmvi%2Cpl%2Cinitcwndbps&lsig=AAO5W4owRQIhALuTK5dHfXwYAD0s7r3HD7VvIeJsXS1hcDAa3vYpzoKuAiAmW9LSIlWT8mEoMpRGlDlv_hpXPmyR7yDg5THFbDSZ4A%3D%3D',\n",
       "   'width': 640,\n",
       "   'language': None,\n",
       "   'language_preference': -1,\n",
       "   'preference': None,\n",
       "   'ext': 'webm',\n",
       "   'vcodec': 'vp09.00.21.08',\n",
       "   'acodec': 'none',\n",
       "   'dynamic_range': 'SDR',\n",
       "   'container': 'webm_dash',\n",
       "   'downloader_options': {'http_chunk_size': 10485760},\n",
       "   'protocol': 'https',\n",
       "   'resolution': '640x360',\n",
       "   'aspect_ratio': 1.78,\n",
       "   'http_headers': {'User-Agent': 'Mozilla/5.0 (Windows NT 10.0; Win64; x64) AppleWebKit/537.36 (KHTML, like Gecko) Chrome/96.0.4664.45 Safari/537.36', 'Accept': 'text/html,application/xhtml+xml,application/xml;q=0.9,*/*;q=0.8', 'Accept-Language': 'en-us,en;q=0.5', 'Sec-Fetch-Mode': 'navigate'},\n",
       "   'video_ext': 'webm',\n",
       "   'audio_ext': 'none',\n",
       "   'abr': 0,\n",
       "   'vbr': 377.24,\n",
       "   'format': '243 - 640x360 (360p)'},\n",
       "  {'asr': None,\n",
       "   'filesize': 30664403,\n",
       "   'format_id': '397',\n",
       "   'format_note': '480p',\n",
       "   'source_preference': -1,\n",
       "   'fps': 25,\n",
       "   'audio_channels': None,\n",
       "   'height': 480,\n",
       "   'quality': 7.0,\n",
       "   'has_drm': False,\n",
       "   'tbr': 559.467,\n",
       "   'url': 'https://rr5---sn-nx57ynsl.googlevideo.com/videoplayback?expire=1706789042&ei=UjS7ZYjwEKmXsfIP7PSJ2Ac&ip=205.175.118.189&id=o-AN7Ctp52XVzAemi7rJmiNJkXL9AbGWtPA6GH4FZUMokB&itag=397&source=youtube&requiressl=yes&xpc=EgVo2aDSNQ%3D%3D&mh=E6&mm=31%2C29&mn=sn-nx57ynsl%2Csn-nx5s7nel&ms=au%2Crdu&mv=m&mvi=5&pl=19&pcm2=no&initcwndbps=3362500&vprv=1&svpuc=1&mime=video%2Fmp4&gir=yes&clen=30664403&dur=438.480&lmt=1628265755498003&mt=1706767007&fvip=4&keepalive=yes&fexp=24007246&c=ANDROID&txp=5531432&sparams=expire%2Cei%2Cip%2Cid%2Citag%2Csource%2Crequiressl%2Cxpc%2Cpcm2%2Cvprv%2Csvpuc%2Cmime%2Cgir%2Cclen%2Cdur%2Clmt&sig=AJfQdSswRgIhAItIA11xccEQd7h3RwkowlrXXhoPF43aCPLRHRmZ568PAiEAh0onzit7oh-XvYMaS_VPMH6tHR8PMD5u2rHGdSJjdI4%3D&lsparams=mh%2Cmm%2Cmn%2Cms%2Cmv%2Cmvi%2Cpl%2Cinitcwndbps&lsig=AAO5W4owRQIhAP6sh_KE78ceSSgc9CMFh4WQtZbw1soCt1JOtGxITSxxAiAI8002Bcd-zSX12Cy40ncm6zzgwBpDfb3VTZrmoKHBcw%3D%3D',\n",
       "   'width': 854,\n",
       "   'language': None,\n",
       "   'language_preference': -1,\n",
       "   'preference': None,\n",
       "   'ext': 'mp4',\n",
       "   'vcodec': 'av01.0.04M.08',\n",
       "   'acodec': 'none',\n",
       "   'dynamic_range': 'SDR',\n",
       "   'container': 'mp4_dash',\n",
       "   'downloader_options': {'http_chunk_size': 10485760},\n",
       "   'protocol': 'https',\n",
       "   'resolution': '854x480',\n",
       "   'aspect_ratio': 1.78,\n",
       "   'http_headers': {'User-Agent': 'Mozilla/5.0 (Windows NT 10.0; Win64; x64) AppleWebKit/537.36 (KHTML, like Gecko) Chrome/96.0.4664.45 Safari/537.36', 'Accept': 'text/html,application/xhtml+xml,application/xml;q=0.9,*/*;q=0.8', 'Accept-Language': 'en-us,en;q=0.5', 'Sec-Fetch-Mode': 'navigate'},\n",
       "   'video_ext': 'mp4',\n",
       "   'audio_ext': 'none',\n",
       "   'abr': 0,\n",
       "   'vbr': 559.467,\n",
       "   'format': '397 - 854x480 (480p)'},\n",
       "  {'format_id': '231',\n",
       "   'format_index': None,\n",
       "   'url': 'https://manifest.googlevideo.com/api/manifest/hls_playlist/expire/1706789042/ei/UjS7ZdnoB_WdsfIPj8-7oAg/ip/205.175.118.189/id/80fc65600aaa95b9/itag/231/source/youtube/requiressl/yes/ratebypass/yes/pfa/1/sgovp/clen%3D35407282%3Bdur%3D438.480%3Bgir%3Dyes%3Bitag%3D135%3Blmt%3D1628259100344891/rqh/1/hls_chunk_host/rr5---sn-nx57ynsl.googlevideo.com/xpc/EgVo2aDSNQ%3D%3D/mh/E6/mm/31,26/mn/sn-nx57ynsl,sn-vgqsrne6/ms/au,onr/mv/m/mvi/5/pl/19/initcwndbps/2825000/vprv/1/playlist_type/DVR/dover/13/txp/5535434/mt/1706767007/fvip/4/short_key/1/keepalive/yes/fexp/24007246/sparams/expire,ei,ip,id,itag,source,requiressl,ratebypass,pfa,sgovp,rqh,xpc,vprv,playlist_type/sig/AJfQdSswRAIgCO9JCzWxDALoBCES3PrblUqBo6GWoZkbEjwZWL_d6aICIGmcHwy6TLdM9CzGsL9gh0lCD3uA_coTp1yODoDoR_UQ/lsparams/hls_chunk_host,mh,mm,mn,ms,mv,mvi,pl,initcwndbps/lsig/AAO5W4owRgIhAMK6t7sjHAmJc3uHD9P9M3NtVL9gVEHbvaLc1qOMivFOAiEAue89b26SWEtdntEKIOdeQ_SjO0ksBwT5CnCrhiqJ7lY%3D/playlist/index.m3u8',\n",
       "   'manifest_url': 'https://manifest.googlevideo.com/api/manifest/hls_variant/expire/1706789042/ei/UjS7ZdnoB_WdsfIPj8-7oAg/ip/205.175.118.189/id/80fc65600aaa95b9/source/youtube/requiressl/yes/xpc/EgVo2aDSNQ%3D%3D/playback_host/rr5---sn-nx57ynsl.googlevideo.com/mh/E6/mm/31%2C26/mn/sn-nx57ynsl%2Csn-vgqsrne6/ms/au%2Conr/mv/m/mvi/5/pl/19/hfr/1/demuxed/1/tts_caps/1/maudio/1/initcwndbps/2825000/vprv/1/go/1/mt/1706767007/fvip/4/nvgoi/1/short_key/1/ncsapi/1/keepalive/yes/fexp/24007246/dover/13/itag/0/playlist_type/DVR/sparams/expire%2Cei%2Cip%2Cid%2Csource%2Crequiressl%2Cxpc%2Chfr%2Cdemuxed%2Ctts_caps%2Cmaudio%2Cvprv%2Cgo%2Citag%2Cplaylist_type/sig/AJfQdSswRQIhANzup8O7HszB3Mn8lev5X74-P6lDT9vRHUOzjwjQsIYgAiAZ0jujhKvhMU0qTi6PlhRydJ6WnQGA4IRTY54Xn0UsPg%3D%3D/lsparams/playback_host%2Cmh%2Cmm%2Cmn%2Cms%2Cmv%2Cmvi%2Cpl%2Cinitcwndbps/lsig/AAO5W4owRQIhAKZ2KLM438Do5maMTfKGCr7mYWSN_NGtCRhjGzqNQIw9AiBnASaJVSV5h6q6NBh0Fztx3snowpvCteJFq8xiiF-vAw%3D%3D/file/index.m3u8',\n",
       "   'tbr': 1244.894,\n",
       "   'ext': 'mp4',\n",
       "   'fps': 25.0,\n",
       "   'protocol': 'm3u8_native',\n",
       "   'preference': None,\n",
       "   'quality': 7,\n",
       "   'has_drm': False,\n",
       "   'width': 854,\n",
       "   'height': 480,\n",
       "   'vcodec': 'avc1.4D401E',\n",
       "   'acodec': 'none',\n",
       "   'dynamic_range': 'SDR',\n",
       "   'source_preference': -1,\n",
       "   'resolution': '854x480',\n",
       "   'aspect_ratio': 1.78,\n",
       "   'http_headers': {'User-Agent': 'Mozilla/5.0 (Windows NT 10.0; Win64; x64) AppleWebKit/537.36 (KHTML, like Gecko) Chrome/96.0.4664.45 Safari/537.36', 'Accept': 'text/html,application/xhtml+xml,application/xml;q=0.9,*/*;q=0.8', 'Accept-Language': 'en-us,en;q=0.5', 'Sec-Fetch-Mode': 'navigate'},\n",
       "   'video_ext': 'mp4',\n",
       "   'audio_ext': 'none',\n",
       "   'abr': 0,\n",
       "   'vbr': 1244.894,\n",
       "   'format': '231 - 854x480'},\n",
       "  {'asr': None,\n",
       "   'filesize': 35407282,\n",
       "   'format_id': '135',\n",
       "   'format_note': '480p',\n",
       "   'source_preference': -1,\n",
       "   'fps': 25,\n",
       "   'audio_channels': None,\n",
       "   'height': 480,\n",
       "   'quality': 7.0,\n",
       "   'has_drm': False,\n",
       "   'tbr': 646.0,\n",
       "   'url': 'https://rr5---sn-nx57ynsl.googlevideo.com/videoplayback?expire=1706789042&ei=UjS7ZdnoB_WdsfIPj8-7oAg&ip=205.175.118.189&id=o-AFeZfbcHaAwC8oGTGsTNM5lga6u0eXmr3OGSDnnlqXeV&itag=135&source=youtube&requiressl=yes&xpc=EgVo2aDSNQ%3D%3D&mh=E6&mm=31%2C26&mn=sn-nx57ynsl%2Csn-vgqsrne6&ms=au%2Conr&mv=m&mvi=5&pl=19&initcwndbps=2825000&vprv=1&svpuc=1&mime=video%2Fmp4&gir=yes&clen=35407282&dur=438.480&lmt=1628259100344891&mt=1706767007&fvip=4&keepalive=yes&fexp=24007246&c=IOS&txp=5535434&sparams=expire%2Cei%2Cip%2Cid%2Citag%2Csource%2Crequiressl%2Cxpc%2Cvprv%2Csvpuc%2Cmime%2Cgir%2Cclen%2Cdur%2Clmt&sig=AJfQdSswRQIgJmIX5y04s8-fWt0grvyUUazuob8gek4rkC2ey0ehxzECIQDxM1-JH2rWM2SywZEgt6z3268qi5neKkCaddT8zAZ4sA%3D%3D&lsparams=mh%2Cmm%2Cmn%2Cms%2Cmv%2Cmvi%2Cpl%2Cinitcwndbps&lsig=AAO5W4owRQIhALuTK5dHfXwYAD0s7r3HD7VvIeJsXS1hcDAa3vYpzoKuAiAmW9LSIlWT8mEoMpRGlDlv_hpXPmyR7yDg5THFbDSZ4A%3D%3D',\n",
       "   'width': 854,\n",
       "   'language': None,\n",
       "   'language_preference': -1,\n",
       "   'preference': None,\n",
       "   'ext': 'mp4',\n",
       "   'vcodec': 'avc1.4D401E',\n",
       "   'acodec': 'none',\n",
       "   'dynamic_range': 'SDR',\n",
       "   'container': 'mp4_dash',\n",
       "   'downloader_options': {'http_chunk_size': 10485760},\n",
       "   'protocol': 'https',\n",
       "   'resolution': '854x480',\n",
       "   'aspect_ratio': 1.78,\n",
       "   'http_headers': {'User-Agent': 'Mozilla/5.0 (Windows NT 10.0; Win64; x64) AppleWebKit/537.36 (KHTML, like Gecko) Chrome/96.0.4664.45 Safari/537.36', 'Accept': 'text/html,application/xhtml+xml,application/xml;q=0.9,*/*;q=0.8', 'Accept-Language': 'en-us,en;q=0.5', 'Sec-Fetch-Mode': 'navigate'},\n",
       "   'video_ext': 'mp4',\n",
       "   'audio_ext': 'none',\n",
       "   'abr': 0,\n",
       "   'vbr': 646.0,\n",
       "   'format': '135 - 854x480 (480p)'},\n",
       "  {'format_id': '606',\n",
       "   'format_index': None,\n",
       "   'url': 'https://manifest.googlevideo.com/api/manifest/hls_playlist/expire/1706789042/ei/UjS7ZdnoB_WdsfIPj8-7oAg/ip/205.175.118.189/id/80fc65600aaa95b9/itag/606/source/youtube/requiressl/yes/ratebypass/yes/pfa/1/wft/1/sgovp/clen%3D35951608%3Bdur%3D438.480%3Bgir%3Dyes%3Bitag%3D244%3Blmt%3D1667015758588643/rqh/1/hls_chunk_host/rr5---sn-nx57ynsl.googlevideo.com/xpc/EgVo2aDSNQ%3D%3D/mh/E6/mm/31,26/mn/sn-nx57ynsl,sn-vgqsrne6/ms/au,onr/mv/m/mvi/5/pl/19/initcwndbps/2825000/vprv/1/playlist_type/DVR/dover/13/txp/5535434/mt/1706767007/fvip/4/short_key/1/keepalive/yes/fexp/24007246/sparams/expire,ei,ip,id,itag,source,requiressl,ratebypass,pfa,wft,sgovp,rqh,xpc,vprv,playlist_type/sig/AJfQdSswRQIhAPbWDFa-gccwehCp616CYTcVpI3x_JJSPOJFHx193PutAiBt_P0tgzr1SXET2-NAycYlYu4KjmmGrxvgkXopegkhZw%3D%3D/lsparams/hls_chunk_host,mh,mm,mn,ms,mv,mvi,pl,initcwndbps/lsig/AAO5W4owRQIgJp0WtuygfoNVTZcOJE4QvC6ygZ8Eutc1bElXjHykq7gCIQC9lpSVggJ8PdC_niUMJ8fNGUpk4LbKaMJX_r7W9DMpSQ%3D%3D/playlist/index.m3u8',\n",
       "   'manifest_url': 'https://manifest.googlevideo.com/api/manifest/hls_variant/expire/1706789042/ei/UjS7ZdnoB_WdsfIPj8-7oAg/ip/205.175.118.189/id/80fc65600aaa95b9/source/youtube/requiressl/yes/xpc/EgVo2aDSNQ%3D%3D/playback_host/rr5---sn-nx57ynsl.googlevideo.com/mh/E6/mm/31%2C26/mn/sn-nx57ynsl%2Csn-vgqsrne6/ms/au%2Conr/mv/m/mvi/5/pl/19/hfr/1/demuxed/1/tts_caps/1/maudio/1/initcwndbps/2825000/vprv/1/go/1/mt/1706767007/fvip/4/nvgoi/1/short_key/1/ncsapi/1/keepalive/yes/fexp/24007246/dover/13/itag/0/playlist_type/DVR/sparams/expire%2Cei%2Cip%2Cid%2Csource%2Crequiressl%2Cxpc%2Chfr%2Cdemuxed%2Ctts_caps%2Cmaudio%2Cvprv%2Cgo%2Citag%2Cplaylist_type/sig/AJfQdSswRQIhANzup8O7HszB3Mn8lev5X74-P6lDT9vRHUOzjwjQsIYgAiAZ0jujhKvhMU0qTi6PlhRydJ6WnQGA4IRTY54Xn0UsPg%3D%3D/lsparams/playback_host%2Cmh%2Cmm%2Cmn%2Cms%2Cmv%2Cmvi%2Cpl%2Cinitcwndbps/lsig/AAO5W4owRQIhAKZ2KLM438Do5maMTfKGCr7mYWSN_NGtCRhjGzqNQIw9AiBnASaJVSV5h6q6NBh0Fztx3snowpvCteJFq8xiiF-vAw%3D%3D/file/index.m3u8',\n",
       "   'tbr': 948.75,\n",
       "   'ext': 'mp4',\n",
       "   'fps': 25.0,\n",
       "   'protocol': 'm3u8_native',\n",
       "   'preference': None,\n",
       "   'quality': 7,\n",
       "   'has_drm': False,\n",
       "   'width': 854,\n",
       "   'height': 480,\n",
       "   'vcodec': 'vp09.00.30.08',\n",
       "   'acodec': 'none',\n",
       "   'dynamic_range': 'SDR',\n",
       "   'source_preference': -1,\n",
       "   'resolution': '854x480',\n",
       "   'aspect_ratio': 1.78,\n",
       "   'http_headers': {'User-Agent': 'Mozilla/5.0 (Windows NT 10.0; Win64; x64) AppleWebKit/537.36 (KHTML, like Gecko) Chrome/96.0.4664.45 Safari/537.36', 'Accept': 'text/html,application/xhtml+xml,application/xml;q=0.9,*/*;q=0.8', 'Accept-Language': 'en-us,en;q=0.5', 'Sec-Fetch-Mode': 'navigate'},\n",
       "   'video_ext': 'mp4',\n",
       "   'audio_ext': 'none',\n",
       "   'abr': 0,\n",
       "   'vbr': 948.75,\n",
       "   'format': '606 - 854x480'},\n",
       "  {'asr': None,\n",
       "   'filesize': 35951608,\n",
       "   'format_id': '244',\n",
       "   'format_note': '480p',\n",
       "   'source_preference': -1,\n",
       "   'fps': 25,\n",
       "   'audio_channels': None,\n",
       "   'height': 480,\n",
       "   'quality': 7.0,\n",
       "   'has_drm': False,\n",
       "   'tbr': 655.931,\n",
       "   'url': 'https://rr5---sn-nx57ynsl.googlevideo.com/videoplayback?expire=1706789042&ei=UjS7ZdnoB_WdsfIPj8-7oAg&ip=205.175.118.189&id=o-AFeZfbcHaAwC8oGTGsTNM5lga6u0eXmr3OGSDnnlqXeV&itag=244&source=youtube&requiressl=yes&xpc=EgVo2aDSNQ%3D%3D&mh=E6&mm=31%2C26&mn=sn-nx57ynsl%2Csn-vgqsrne6&ms=au%2Conr&mv=m&mvi=5&pl=19&initcwndbps=2825000&vprv=1&svpuc=1&mime=video%2Fwebm&gir=yes&clen=35951608&dur=438.480&lmt=1667015758588643&mt=1706767007&fvip=4&keepalive=yes&fexp=24007246&c=IOS&txp=5535434&sparams=expire%2Cei%2Cip%2Cid%2Citag%2Csource%2Crequiressl%2Cxpc%2Cvprv%2Csvpuc%2Cmime%2Cgir%2Cclen%2Cdur%2Clmt&sig=AJfQdSswRQIhAJ5OBMXrpMfpT1ZUFgqZoVPCHV-2lXew6ba2ic9wmtS9AiABUphYNG8A-WN9MzE-5ikYfmb_irPkLTQ4b2ir2MXobg%3D%3D&lsparams=mh%2Cmm%2Cmn%2Cms%2Cmv%2Cmvi%2Cpl%2Cinitcwndbps&lsig=AAO5W4owRQIhALuTK5dHfXwYAD0s7r3HD7VvIeJsXS1hcDAa3vYpzoKuAiAmW9LSIlWT8mEoMpRGlDlv_hpXPmyR7yDg5THFbDSZ4A%3D%3D',\n",
       "   'width': 854,\n",
       "   'language': None,\n",
       "   'language_preference': -1,\n",
       "   'preference': None,\n",
       "   'ext': 'webm',\n",
       "   'vcodec': 'vp09.00.30.08',\n",
       "   'acodec': 'none',\n",
       "   'dynamic_range': 'SDR',\n",
       "   'container': 'webm_dash',\n",
       "   'downloader_options': {'http_chunk_size': 10485760},\n",
       "   'protocol': 'https',\n",
       "   'resolution': '854x480',\n",
       "   'aspect_ratio': 1.78,\n",
       "   'http_headers': {'User-Agent': 'Mozilla/5.0 (Windows NT 10.0; Win64; x64) AppleWebKit/537.36 (KHTML, like Gecko) Chrome/96.0.4664.45 Safari/537.36', 'Accept': 'text/html,application/xhtml+xml,application/xml;q=0.9,*/*;q=0.8', 'Accept-Language': 'en-us,en;q=0.5', 'Sec-Fetch-Mode': 'navigate'},\n",
       "   'video_ext': 'webm',\n",
       "   'audio_ext': 'none',\n",
       "   'abr': 0,\n",
       "   'vbr': 655.931,\n",
       "   'format': '244 - 854x480 (480p)'},\n",
       "  {'asr': 44100,\n",
       "   'filesize': None,\n",
       "   'format_id': '22',\n",
       "   'format_note': '720p',\n",
       "   'source_preference': -5,\n",
       "   'fps': 25,\n",
       "   'audio_channels': 2,\n",
       "   'height': 720,\n",
       "   'quality': 8.0,\n",
       "   'has_drm': False,\n",
       "   'tbr': 1327.544,\n",
       "   'url': 'https://rr5---sn-nx57ynsl.googlevideo.com/videoplayback?expire=1706789042&ei=UjS7ZYjwEKmXsfIP7PSJ2Ac&ip=205.175.118.189&id=o-AN7Ctp52XVzAemi7rJmiNJkXL9AbGWtPA6GH4FZUMokB&itag=22&source=youtube&requiressl=yes&xpc=EgVo2aDSNQ%3D%3D&mh=E6&mm=31%2C29&mn=sn-nx57ynsl%2Csn-nx5s7nel&ms=au%2Crdu&mv=m&mvi=5&pl=19&pcm2=no&initcwndbps=3362500&vprv=1&svpuc=1&mime=video%2Fmp4&cnr=14&ratebypass=yes&dur=438.532&lmt=1674124762978666&mt=1706767007&fvip=4&fexp=24007246&c=ANDROID&txp=5532434&sparams=expire%2Cei%2Cip%2Cid%2Citag%2Csource%2Crequiressl%2Cxpc%2Cpcm2%2Cvprv%2Csvpuc%2Cmime%2Ccnr%2Cratebypass%2Cdur%2Clmt&sig=AJfQdSswRQIgQ3mvDZFVRteKU1xSd_EdY6QPtPs5Y3ZYg36FSeAzUNcCIQD6ZlVugEFZ6fTifLqENeDzf204tNvkXl9a8pE0AX5-KQ%3D%3D&lsparams=mh%2Cmm%2Cmn%2Cms%2Cmv%2Cmvi%2Cpl%2Cinitcwndbps&lsig=AAO5W4owRQIhAP6sh_KE78ceSSgc9CMFh4WQtZbw1soCt1JOtGxITSxxAiAI8002Bcd-zSX12Cy40ncm6zzgwBpDfb3VTZrmoKHBcw%3D%3D',\n",
       "   'width': 1280,\n",
       "   'language': None,\n",
       "   'language_preference': -1,\n",
       "   'preference': None,\n",
       "   'ext': 'mp4',\n",
       "   'vcodec': 'avc1.64001F',\n",
       "   'acodec': 'mp4a.40.2',\n",
       "   'dynamic_range': 'SDR',\n",
       "   'downloader_options': {'http_chunk_size': 10485760},\n",
       "   'protocol': 'https',\n",
       "   'resolution': '1280x720',\n",
       "   'aspect_ratio': 1.78,\n",
       "   'filesize_approx': 74597352,\n",
       "   'http_headers': {'User-Agent': 'Mozilla/5.0 (Windows NT 10.0; Win64; x64) AppleWebKit/537.36 (KHTML, like Gecko) Chrome/96.0.4664.45 Safari/537.36', 'Accept': 'text/html,application/xhtml+xml,application/xml;q=0.9,*/*;q=0.8', 'Accept-Language': 'en-us,en;q=0.5', 'Sec-Fetch-Mode': 'navigate'},\n",
       "   'video_ext': 'mp4',\n",
       "   'audio_ext': 'none',\n",
       "   'vbr': None,\n",
       "   'abr': None,\n",
       "   'format': '22 - 1280x720 (720p)'},\n",
       "  {'asr': None,\n",
       "   'filesize': 57249799,\n",
       "   'format_id': '398',\n",
       "   'format_note': '720p',\n",
       "   'source_preference': -1,\n",
       "   'fps': 25,\n",
       "   'audio_channels': None,\n",
       "   'height': 720,\n",
       "   'quality': 8.0,\n",
       "   'has_drm': False,\n",
       "   'tbr': 1044.513,\n",
       "   'url': 'https://rr5---sn-nx57ynsl.googlevideo.com/videoplayback?expire=1706789042&ei=UjS7ZYjwEKmXsfIP7PSJ2Ac&ip=205.175.118.189&id=o-AN7Ctp52XVzAemi7rJmiNJkXL9AbGWtPA6GH4FZUMokB&itag=398&source=youtube&requiressl=yes&xpc=EgVo2aDSNQ%3D%3D&mh=E6&mm=31%2C29&mn=sn-nx57ynsl%2Csn-nx5s7nel&ms=au%2Crdu&mv=m&mvi=5&pl=19&pcm2=no&initcwndbps=3362500&vprv=1&svpuc=1&mime=video%2Fmp4&gir=yes&clen=57249799&dur=438.480&lmt=1628265653669226&mt=1706767007&fvip=4&keepalive=yes&fexp=24007246&c=ANDROID&txp=5531432&sparams=expire%2Cei%2Cip%2Cid%2Citag%2Csource%2Crequiressl%2Cxpc%2Cpcm2%2Cvprv%2Csvpuc%2Cmime%2Cgir%2Cclen%2Cdur%2Clmt&sig=AJfQdSswRgIhANveMOQQeCgsFK9lTf6dYrZP2p79XEy0ZOJThnb8C6xbAiEA64dy14onOBl9YYrl-oFW65pV3I22GNqJHRDDF6PQAUQ%3D&lsparams=mh%2Cmm%2Cmn%2Cms%2Cmv%2Cmvi%2Cpl%2Cinitcwndbps&lsig=AAO5W4owRQIhAP6sh_KE78ceSSgc9CMFh4WQtZbw1soCt1JOtGxITSxxAiAI8002Bcd-zSX12Cy40ncm6zzgwBpDfb3VTZrmoKHBcw%3D%3D',\n",
       "   'width': 1280,\n",
       "   'language': None,\n",
       "   'language_preference': -1,\n",
       "   'preference': None,\n",
       "   'ext': 'mp4',\n",
       "   'vcodec': 'av01.0.05M.08',\n",
       "   'acodec': 'none',\n",
       "   'dynamic_range': 'SDR',\n",
       "   'container': 'mp4_dash',\n",
       "   'downloader_options': {'http_chunk_size': 10485760},\n",
       "   'protocol': 'https',\n",
       "   'resolution': '1280x720',\n",
       "   'aspect_ratio': 1.78,\n",
       "   'http_headers': {'User-Agent': 'Mozilla/5.0 (Windows NT 10.0; Win64; x64) AppleWebKit/537.36 (KHTML, like Gecko) Chrome/96.0.4664.45 Safari/537.36', 'Accept': 'text/html,application/xhtml+xml,application/xml;q=0.9,*/*;q=0.8', 'Accept-Language': 'en-us,en;q=0.5', 'Sec-Fetch-Mode': 'navigate'},\n",
       "   'video_ext': 'mp4',\n",
       "   'audio_ext': 'none',\n",
       "   'abr': 0,\n",
       "   'vbr': 1044.513,\n",
       "   'format': '398 - 1280x720 (720p)'},\n",
       "  {'format_id': '232',\n",
       "   'format_index': None,\n",
       "   'url': 'https://manifest.googlevideo.com/api/manifest/hls_playlist/expire/1706789042/ei/UjS7ZdnoB_WdsfIPj8-7oAg/ip/205.175.118.189/id/80fc65600aaa95b9/itag/232/source/youtube/requiressl/yes/ratebypass/yes/pfa/1/sgovp/clen%3D65682172%3Bdur%3D438.480%3Bgir%3Dyes%3Bitag%3D136%3Blmt%3D1628259106906883/rqh/1/hls_chunk_host/rr5---sn-nx57ynsl.googlevideo.com/xpc/EgVo2aDSNQ%3D%3D/mh/E6/mm/31,26/mn/sn-nx57ynsl,sn-vgqsrne6/ms/au,onr/mv/m/mvi/5/pl/19/initcwndbps/2825000/vprv/1/playlist_type/DVR/dover/13/txp/5535434/mt/1706767007/fvip/4/short_key/1/keepalive/yes/fexp/24007246/sparams/expire,ei,ip,id,itag,source,requiressl,ratebypass,pfa,sgovp,rqh,xpc,vprv,playlist_type/sig/AJfQdSswRgIhAMPFx6GmyeO-vg3QaOwQIx54HolGQzSkhSwQREu7tYUdAiEAxaH942gjwvxnQ50Y3RmVM5pt0okZ5yAForb-TOtp-sQ%3D/lsparams/hls_chunk_host,mh,mm,mn,ms,mv,mvi,pl,initcwndbps/lsig/AAO5W4owRQIgekVp5F26whyn9vFdKGo4NlTJQ0-LQXJQzdcK2bZPumUCIQCzGPpvs6d8UrgjMgbbaq2Sf474m4lV5RhtsnUdTtZuCg%3D%3D/playlist/index.m3u8',\n",
       "   'manifest_url': 'https://manifest.googlevideo.com/api/manifest/hls_variant/expire/1706789042/ei/UjS7ZdnoB_WdsfIPj8-7oAg/ip/205.175.118.189/id/80fc65600aaa95b9/source/youtube/requiressl/yes/xpc/EgVo2aDSNQ%3D%3D/playback_host/rr5---sn-nx57ynsl.googlevideo.com/mh/E6/mm/31%2C26/mn/sn-nx57ynsl%2Csn-vgqsrne6/ms/au%2Conr/mv/m/mvi/5/pl/19/hfr/1/demuxed/1/tts_caps/1/maudio/1/initcwndbps/2825000/vprv/1/go/1/mt/1706767007/fvip/4/nvgoi/1/short_key/1/ncsapi/1/keepalive/yes/fexp/24007246/dover/13/itag/0/playlist_type/DVR/sparams/expire%2Cei%2Cip%2Cid%2Csource%2Crequiressl%2Cxpc%2Chfr%2Cdemuxed%2Ctts_caps%2Cmaudio%2Cvprv%2Cgo%2Citag%2Cplaylist_type/sig/AJfQdSswRQIhANzup8O7HszB3Mn8lev5X74-P6lDT9vRHUOzjwjQsIYgAiAZ0jujhKvhMU0qTi6PlhRydJ6WnQGA4IRTY54Xn0UsPg%3D%3D/lsparams/playback_host%2Cmh%2Cmm%2Cmn%2Cms%2Cmv%2Cmvi%2Cpl%2Cinitcwndbps/lsig/AAO5W4owRQIhAKZ2KLM438Do5maMTfKGCr7mYWSN_NGtCRhjGzqNQIw9AiBnASaJVSV5h6q6NBh0Fztx3snowpvCteJFq8xiiF-vAw%3D%3D/file/index.m3u8',\n",
       "   'tbr': 2356.27,\n",
       "   'ext': 'mp4',\n",
       "   'fps': 25.0,\n",
       "   'protocol': 'm3u8_native',\n",
       "   'preference': None,\n",
       "   'quality': 8,\n",
       "   'has_drm': False,\n",
       "   'width': 1280,\n",
       "   'height': 720,\n",
       "   'vcodec': 'avc1.4D401F',\n",
       "   'acodec': 'none',\n",
       "   'dynamic_range': 'SDR',\n",
       "   'source_preference': -1,\n",
       "   'resolution': '1280x720',\n",
       "   'aspect_ratio': 1.78,\n",
       "   'http_headers': {'User-Agent': 'Mozilla/5.0 (Windows NT 10.0; Win64; x64) AppleWebKit/537.36 (KHTML, like Gecko) Chrome/96.0.4664.45 Safari/537.36', 'Accept': 'text/html,application/xhtml+xml,application/xml;q=0.9,*/*;q=0.8', 'Accept-Language': 'en-us,en;q=0.5', 'Sec-Fetch-Mode': 'navigate'},\n",
       "   'video_ext': 'mp4',\n",
       "   'audio_ext': 'none',\n",
       "   'abr': 0,\n",
       "   'vbr': 2356.27,\n",
       "   'format': '232 - 1280x720'},\n",
       "  {'asr': None,\n",
       "   'filesize': 65682172,\n",
       "   'format_id': '136',\n",
       "   'format_note': '720p',\n",
       "   'source_preference': -1,\n",
       "   'fps': 25,\n",
       "   'audio_channels': None,\n",
       "   'height': 720,\n",
       "   'quality': 8.0,\n",
       "   'has_drm': False,\n",
       "   'tbr': 1198.361,\n",
       "   'url': 'https://rr5---sn-nx57ynsl.googlevideo.com/videoplayback?expire=1706789042&ei=UjS7ZdnoB_WdsfIPj8-7oAg&ip=205.175.118.189&id=o-AFeZfbcHaAwC8oGTGsTNM5lga6u0eXmr3OGSDnnlqXeV&itag=136&source=youtube&requiressl=yes&xpc=EgVo2aDSNQ%3D%3D&mh=E6&mm=31%2C26&mn=sn-nx57ynsl%2Csn-vgqsrne6&ms=au%2Conr&mv=m&mvi=5&pl=19&initcwndbps=2825000&vprv=1&svpuc=1&mime=video%2Fmp4&gir=yes&clen=65682172&dur=438.480&lmt=1628259106906883&mt=1706767007&fvip=4&keepalive=yes&fexp=24007246&c=IOS&txp=5535434&sparams=expire%2Cei%2Cip%2Cid%2Citag%2Csource%2Crequiressl%2Cxpc%2Cvprv%2Csvpuc%2Cmime%2Cgir%2Cclen%2Cdur%2Clmt&sig=AJfQdSswRAIgCvj-ifXDLLVB7jwhXCZmYsJnpB6N8ITFcOlzECFi2DgCIBby-ZtPGN9G_VsWxfG1reHL90lY1IQ5UsIsnDDJ26Uc&lsparams=mh%2Cmm%2Cmn%2Cms%2Cmv%2Cmvi%2Cpl%2Cinitcwndbps&lsig=AAO5W4owRQIhALuTK5dHfXwYAD0s7r3HD7VvIeJsXS1hcDAa3vYpzoKuAiAmW9LSIlWT8mEoMpRGlDlv_hpXPmyR7yDg5THFbDSZ4A%3D%3D',\n",
       "   'width': 1280,\n",
       "   'language': None,\n",
       "   'language_preference': -1,\n",
       "   'preference': None,\n",
       "   'ext': 'mp4',\n",
       "   'vcodec': 'avc1.4D401F',\n",
       "   'acodec': 'none',\n",
       "   'dynamic_range': 'SDR',\n",
       "   'container': 'mp4_dash',\n",
       "   'downloader_options': {'http_chunk_size': 10485760},\n",
       "   'protocol': 'https',\n",
       "   'resolution': '1280x720',\n",
       "   'aspect_ratio': 1.78,\n",
       "   'http_headers': {'User-Agent': 'Mozilla/5.0 (Windows NT 10.0; Win64; x64) AppleWebKit/537.36 (KHTML, like Gecko) Chrome/96.0.4664.45 Safari/537.36', 'Accept': 'text/html,application/xhtml+xml,application/xml;q=0.9,*/*;q=0.8', 'Accept-Language': 'en-us,en;q=0.5', 'Sec-Fetch-Mode': 'navigate'},\n",
       "   'video_ext': 'mp4',\n",
       "   'audio_ext': 'none',\n",
       "   'abr': 0,\n",
       "   'vbr': 1198.361,\n",
       "   'format': '136 - 1280x720 (720p)'},\n",
       "  {'format_id': '609',\n",
       "   'format_index': None,\n",
       "   'url': 'https://manifest.googlevideo.com/api/manifest/hls_playlist/expire/1706789042/ei/UjS7ZdnoB_WdsfIPj8-7oAg/ip/205.175.118.189/id/80fc65600aaa95b9/itag/609/source/youtube/requiressl/yes/ratebypass/yes/pfa/1/wft/1/sgovp/clen%3D70393903%3Bdur%3D438.480%3Bgir%3Dyes%3Bitag%3D247%3Blmt%3D1667015804391100/rqh/1/hls_chunk_host/rr5---sn-nx57ynsl.googlevideo.com/xpc/EgVo2aDSNQ%3D%3D/mh/E6/mm/31,26/mn/sn-nx57ynsl,sn-vgqsrne6/ms/au,onr/mv/m/mvi/5/pl/19/initcwndbps/2825000/vprv/1/playlist_type/DVR/dover/13/txp/5535434/mt/1706767007/fvip/4/short_key/1/keepalive/yes/fexp/24007246/sparams/expire,ei,ip,id,itag,source,requiressl,ratebypass,pfa,wft,sgovp,rqh,xpc,vprv,playlist_type/sig/AJfQdSswRAIgIuraQKL08Rd6eZ2EVsGtK90FxfRpSF6rP5UrYfsPt9QCIAPRxiPtCOCKAP9euRu9lNnbp2wMnf5F_ZW3RmTejSvE/lsparams/hls_chunk_host,mh,mm,mn,ms,mv,mvi,pl,initcwndbps/lsig/AAO5W4owQwIfLEGi0QA-Q3G-l1D1iYYHT-d7Efexs-cRu_mvrNuO7AIgfCRZ4cKwCxLtyqjPi_2QW7VIVc0XWwB5GILTS16QWzI%3D/playlist/index.m3u8',\n",
       "   'manifest_url': 'https://manifest.googlevideo.com/api/manifest/hls_variant/expire/1706789042/ei/UjS7ZdnoB_WdsfIPj8-7oAg/ip/205.175.118.189/id/80fc65600aaa95b9/source/youtube/requiressl/yes/xpc/EgVo2aDSNQ%3D%3D/playback_host/rr5---sn-nx57ynsl.googlevideo.com/mh/E6/mm/31%2C26/mn/sn-nx57ynsl%2Csn-vgqsrne6/ms/au%2Conr/mv/m/mvi/5/pl/19/hfr/1/demuxed/1/tts_caps/1/maudio/1/initcwndbps/2825000/vprv/1/go/1/mt/1706767007/fvip/4/nvgoi/1/short_key/1/ncsapi/1/keepalive/yes/fexp/24007246/dover/13/itag/0/playlist_type/DVR/sparams/expire%2Cei%2Cip%2Cid%2Csource%2Crequiressl%2Cxpc%2Chfr%2Cdemuxed%2Ctts_caps%2Cmaudio%2Cvprv%2Cgo%2Citag%2Cplaylist_type/sig/AJfQdSswRQIhANzup8O7HszB3Mn8lev5X74-P6lDT9vRHUOzjwjQsIYgAiAZ0jujhKvhMU0qTi6PlhRydJ6WnQGA4IRTY54Xn0UsPg%3D%3D/lsparams/playback_host%2Cmh%2Cmm%2Cmn%2Cms%2Cmv%2Cmvi%2Cpl%2Cinitcwndbps/lsig/AAO5W4owRQIhAKZ2KLM438Do5maMTfKGCr7mYWSN_NGtCRhjGzqNQIw9AiBnASaJVSV5h6q6NBh0Fztx3snowpvCteJFq8xiiF-vAw%3D%3D/file/index.m3u8',\n",
       "   'tbr': 1763.387,\n",
       "   'ext': 'mp4',\n",
       "   'fps': 25.0,\n",
       "   'protocol': 'm3u8_native',\n",
       "   'preference': None,\n",
       "   'quality': 8,\n",
       "   'has_drm': False,\n",
       "   'width': 1280,\n",
       "   'height': 720,\n",
       "   'vcodec': 'vp09.00.31.08',\n",
       "   'acodec': 'none',\n",
       "   'dynamic_range': 'SDR',\n",
       "   'source_preference': -1,\n",
       "   'resolution': '1280x720',\n",
       "   'aspect_ratio': 1.78,\n",
       "   'http_headers': {'User-Agent': 'Mozilla/5.0 (Windows NT 10.0; Win64; x64) AppleWebKit/537.36 (KHTML, like Gecko) Chrome/96.0.4664.45 Safari/537.36', 'Accept': 'text/html,application/xhtml+xml,application/xml;q=0.9,*/*;q=0.8', 'Accept-Language': 'en-us,en;q=0.5', 'Sec-Fetch-Mode': 'navigate'},\n",
       "   'video_ext': 'mp4',\n",
       "   'audio_ext': 'none',\n",
       "   'abr': 0,\n",
       "   'vbr': 1763.387,\n",
       "   'format': '609 - 1280x720'},\n",
       "  {'asr': None,\n",
       "   'filesize': 70393903,\n",
       "   'format_id': '247',\n",
       "   'format_note': '720p',\n",
       "   'source_preference': -1,\n",
       "   'fps': 25,\n",
       "   'audio_channels': None,\n",
       "   'height': 720,\n",
       "   'quality': 8.0,\n",
       "   'has_drm': False,\n",
       "   'tbr': 1284.325,\n",
       "   'url': 'https://rr5---sn-nx57ynsl.googlevideo.com/videoplayback?expire=1706789042&ei=UjS7ZdnoB_WdsfIPj8-7oAg&ip=205.175.118.189&id=o-AFeZfbcHaAwC8oGTGsTNM5lga6u0eXmr3OGSDnnlqXeV&itag=247&source=youtube&requiressl=yes&xpc=EgVo2aDSNQ%3D%3D&mh=E6&mm=31%2C26&mn=sn-nx57ynsl%2Csn-vgqsrne6&ms=au%2Conr&mv=m&mvi=5&pl=19&initcwndbps=2825000&vprv=1&svpuc=1&mime=video%2Fwebm&gir=yes&clen=70393903&dur=438.480&lmt=1667015804391100&mt=1706767007&fvip=4&keepalive=yes&fexp=24007246&c=IOS&txp=5535434&sparams=expire%2Cei%2Cip%2Cid%2Citag%2Csource%2Crequiressl%2Cxpc%2Cvprv%2Csvpuc%2Cmime%2Cgir%2Cclen%2Cdur%2Clmt&sig=AJfQdSswRQIhAM4hRxl9TZEXvaIdzAM1mdKVqCbL14LWMX_Wzf73SS-BAiACmBwbTK0aYs-9DHCtAMjvdXhGAy9CFjlHBm9rfohyvA%3D%3D&lsparams=mh%2Cmm%2Cmn%2Cms%2Cmv%2Cmvi%2Cpl%2Cinitcwndbps&lsig=AAO5W4owRQIhALuTK5dHfXwYAD0s7r3HD7VvIeJsXS1hcDAa3vYpzoKuAiAmW9LSIlWT8mEoMpRGlDlv_hpXPmyR7yDg5THFbDSZ4A%3D%3D',\n",
       "   'width': 1280,\n",
       "   'language': None,\n",
       "   'language_preference': -1,\n",
       "   'preference': None,\n",
       "   'ext': 'webm',\n",
       "   'vcodec': 'vp09.00.31.08',\n",
       "   'acodec': 'none',\n",
       "   'dynamic_range': 'SDR',\n",
       "   'container': 'webm_dash',\n",
       "   'downloader_options': {'http_chunk_size': 10485760},\n",
       "   'protocol': 'https',\n",
       "   'resolution': '1280x720',\n",
       "   'aspect_ratio': 1.78,\n",
       "   'http_headers': {'User-Agent': 'Mozilla/5.0 (Windows NT 10.0; Win64; x64) AppleWebKit/537.36 (KHTML, like Gecko) Chrome/96.0.4664.45 Safari/537.36', 'Accept': 'text/html,application/xhtml+xml,application/xml;q=0.9,*/*;q=0.8', 'Accept-Language': 'en-us,en;q=0.5', 'Sec-Fetch-Mode': 'navigate'},\n",
       "   'video_ext': 'webm',\n",
       "   'audio_ext': 'none',\n",
       "   'abr': 0,\n",
       "   'vbr': 1284.325,\n",
       "   'format': '247 - 1280x720 (720p)'},\n",
       "  {'asr': None,\n",
       "   'filesize': 100247280,\n",
       "   'format_id': '399',\n",
       "   'format_note': '1080p',\n",
       "   'source_preference': -1,\n",
       "   'fps': 25,\n",
       "   'audio_channels': None,\n",
       "   'height': 1080,\n",
       "   'quality': 9.0,\n",
       "   'has_drm': False,\n",
       "   'tbr': 1828.996,\n",
       "   'url': 'https://rr5---sn-nx57ynsl.googlevideo.com/videoplayback?expire=1706789042&ei=UjS7ZYjwEKmXsfIP7PSJ2Ac&ip=205.175.118.189&id=o-AN7Ctp52XVzAemi7rJmiNJkXL9AbGWtPA6GH4FZUMokB&itag=399&source=youtube&requiressl=yes&xpc=EgVo2aDSNQ%3D%3D&mh=E6&mm=31%2C29&mn=sn-nx57ynsl%2Csn-nx5s7nel&ms=au%2Crdu&mv=m&mvi=5&pl=19&pcm2=no&initcwndbps=3362500&vprv=1&svpuc=1&mime=video%2Fmp4&gir=yes&clen=100247280&dur=438.480&lmt=1628266650654311&mt=1706767007&fvip=4&keepalive=yes&fexp=24007246&c=ANDROID&txp=5531432&sparams=expire%2Cei%2Cip%2Cid%2Citag%2Csource%2Crequiressl%2Cxpc%2Cpcm2%2Cvprv%2Csvpuc%2Cmime%2Cgir%2Cclen%2Cdur%2Clmt&sig=AJfQdSswRgIhAOmXzpwGDKy5-GmaacKJ458vTHDMxub4QzHSeK4e2fk7AiEAljIwcun9sHr-aqzdbI6kEdAnJ8oO4DVBXEiLfFWibDQ%3D&lsparams=mh%2Cmm%2Cmn%2Cms%2Cmv%2Cmvi%2Cpl%2Cinitcwndbps&lsig=AAO5W4owRQIhAP6sh_KE78ceSSgc9CMFh4WQtZbw1soCt1JOtGxITSxxAiAI8002Bcd-zSX12Cy40ncm6zzgwBpDfb3VTZrmoKHBcw%3D%3D',\n",
       "   'width': 1920,\n",
       "   'language': None,\n",
       "   'language_preference': -1,\n",
       "   'preference': None,\n",
       "   'ext': 'mp4',\n",
       "   'vcodec': 'av01.0.08M.08',\n",
       "   'acodec': 'none',\n",
       "   'dynamic_range': 'SDR',\n",
       "   'container': 'mp4_dash',\n",
       "   'downloader_options': {'http_chunk_size': 10485760},\n",
       "   'protocol': 'https',\n",
       "   'resolution': '1920x1080',\n",
       "   'aspect_ratio': 1.78,\n",
       "   'http_headers': {'User-Agent': 'Mozilla/5.0 (Windows NT 10.0; Win64; x64) AppleWebKit/537.36 (KHTML, like Gecko) Chrome/96.0.4664.45 Safari/537.36', 'Accept': 'text/html,application/xhtml+xml,application/xml;q=0.9,*/*;q=0.8', 'Accept-Language': 'en-us,en;q=0.5', 'Sec-Fetch-Mode': 'navigate'},\n",
       "   'video_ext': 'mp4',\n",
       "   'audio_ext': 'none',\n",
       "   'abr': 0,\n",
       "   'vbr': 1828.996,\n",
       "   'format': '399 - 1920x1080 (1080p)'},\n",
       "  {'format_id': '270',\n",
       "   'format_index': None,\n",
       "   'url': 'https://manifest.googlevideo.com/api/manifest/hls_playlist/expire/1706789042/ei/UjS7ZdnoB_WdsfIPj8-7oAg/ip/205.175.118.189/id/80fc65600aaa95b9/itag/270/source/youtube/requiressl/yes/ratebypass/yes/pfa/1/sgovp/clen%3D206695215%3Bdur%3D438.480%3Bgir%3Dyes%3Bitag%3D137%3Blmt%3D1628259173991715/rqh/1/hls_chunk_host/rr5---sn-nx57ynsl.googlevideo.com/xpc/EgVo2aDSNQ%3D%3D/mh/E6/mm/31,26/mn/sn-nx57ynsl,sn-vgqsrne6/ms/au,onr/mv/m/mvi/5/pl/19/initcwndbps/2825000/vprv/1/playlist_type/DVR/dover/13/txp/5535434/mt/1706767007/fvip/4/short_key/1/keepalive/yes/fexp/24007246/sparams/expire,ei,ip,id,itag,source,requiressl,ratebypass,pfa,sgovp,rqh,xpc,vprv,playlist_type/sig/AJfQdSswRgIhANBFwwdSmE67HzpWIBIsEzbqaC7W0cbVZHQZVTMqcjLfAiEA053hxGB5YSVgiVMPGoiiFY83JrWImEIUHa2vUL6Lwfs%3D/lsparams/hls_chunk_host,mh,mm,mn,ms,mv,mvi,pl,initcwndbps/lsig/AAO5W4owRQIhAJG_IXysMytLHzcn675suY-tJUBKJeSXIGrvq_2jTwH6AiAVJJQWYH-phiGz2YBNhUgKqVC878f0E9PQ2zUVWSlwLQ%3D%3D/playlist/index.m3u8',\n",
       "   'manifest_url': 'https://manifest.googlevideo.com/api/manifest/hls_variant/expire/1706789042/ei/UjS7ZdnoB_WdsfIPj8-7oAg/ip/205.175.118.189/id/80fc65600aaa95b9/source/youtube/requiressl/yes/xpc/EgVo2aDSNQ%3D%3D/playback_host/rr5---sn-nx57ynsl.googlevideo.com/mh/E6/mm/31%2C26/mn/sn-nx57ynsl%2Csn-vgqsrne6/ms/au%2Conr/mv/m/mvi/5/pl/19/hfr/1/demuxed/1/tts_caps/1/maudio/1/initcwndbps/2825000/vprv/1/go/1/mt/1706767007/fvip/4/nvgoi/1/short_key/1/ncsapi/1/keepalive/yes/fexp/24007246/dover/13/itag/0/playlist_type/DVR/sparams/expire%2Cei%2Cip%2Cid%2Csource%2Crequiressl%2Cxpc%2Chfr%2Cdemuxed%2Ctts_caps%2Cmaudio%2Cvprv%2Cgo%2Citag%2Cplaylist_type/sig/AJfQdSswRQIhANzup8O7HszB3Mn8lev5X74-P6lDT9vRHUOzjwjQsIYgAiAZ0jujhKvhMU0qTi6PlhRydJ6WnQGA4IRTY54Xn0UsPg%3D%3D/lsparams/playback_host%2Cmh%2Cmm%2Cmn%2Cms%2Cmv%2Cmvi%2Cpl%2Cinitcwndbps/lsig/AAO5W4owRQIhAKZ2KLM438Do5maMTfKGCr7mYWSN_NGtCRhjGzqNQIw9AiBnASaJVSV5h6q6NBh0Fztx3snowpvCteJFq8xiiF-vAw%3D%3D/file/index.m3u8',\n",
       "   'tbr': 4869.386,\n",
       "   'ext': 'mp4',\n",
       "   'fps': 25.0,\n",
       "   'protocol': 'm3u8_native',\n",
       "   'preference': None,\n",
       "   'quality': 9,\n",
       "   'has_drm': False,\n",
       "   'width': 1920,\n",
       "   'height': 1080,\n",
       "   'vcodec': 'avc1.640028',\n",
       "   'acodec': 'none',\n",
       "   'dynamic_range': 'SDR',\n",
       "   'source_preference': -1,\n",
       "   'resolution': '1920x1080',\n",
       "   'aspect_ratio': 1.78,\n",
       "   'http_headers': {'User-Agent': 'Mozilla/5.0 (Windows NT 10.0; Win64; x64) AppleWebKit/537.36 (KHTML, like Gecko) Chrome/96.0.4664.45 Safari/537.36', 'Accept': 'text/html,application/xhtml+xml,application/xml;q=0.9,*/*;q=0.8', 'Accept-Language': 'en-us,en;q=0.5', 'Sec-Fetch-Mode': 'navigate'},\n",
       "   'video_ext': 'mp4',\n",
       "   'audio_ext': 'none',\n",
       "   'abr': 0,\n",
       "   'vbr': 4869.386,\n",
       "   'format': '270 - 1920x1080'},\n",
       "  {'asr': None,\n",
       "   'filesize': 206695215,\n",
       "   'format_id': '137',\n",
       "   'format_note': '1080p',\n",
       "   'source_preference': -1,\n",
       "   'fps': 25,\n",
       "   'audio_channels': None,\n",
       "   'height': 1080,\n",
       "   'quality': 9.0,\n",
       "   'has_drm': False,\n",
       "   'tbr': 3771.122,\n",
       "   'url': 'https://rr5---sn-nx57ynsl.googlevideo.com/videoplayback?expire=1706789042&ei=UjS7ZdnoB_WdsfIPj8-7oAg&ip=205.175.118.189&id=o-AFeZfbcHaAwC8oGTGsTNM5lga6u0eXmr3OGSDnnlqXeV&itag=137&source=youtube&requiressl=yes&xpc=EgVo2aDSNQ%3D%3D&mh=E6&mm=31%2C26&mn=sn-nx57ynsl%2Csn-vgqsrne6&ms=au%2Conr&mv=m&mvi=5&pl=19&initcwndbps=2825000&vprv=1&svpuc=1&mime=video%2Fmp4&gir=yes&clen=206695215&dur=438.480&lmt=1628259173991715&mt=1706767007&fvip=4&keepalive=yes&fexp=24007246&c=IOS&txp=5535434&sparams=expire%2Cei%2Cip%2Cid%2Citag%2Csource%2Crequiressl%2Cxpc%2Cvprv%2Csvpuc%2Cmime%2Cgir%2Cclen%2Cdur%2Clmt&sig=AJfQdSswRAIgF6IvN3ZFajPoVIG_TDl8_qPn77hu_Ptnc3gEKJdVCygCIEZeG17fyX6TW_gY1wDiqJTg0MGjfRI_bE5eCIOgGfrS&lsparams=mh%2Cmm%2Cmn%2Cms%2Cmv%2Cmvi%2Cpl%2Cinitcwndbps&lsig=AAO5W4owRQIhALuTK5dHfXwYAD0s7r3HD7VvIeJsXS1hcDAa3vYpzoKuAiAmW9LSIlWT8mEoMpRGlDlv_hpXPmyR7yDg5THFbDSZ4A%3D%3D',\n",
       "   'width': 1920,\n",
       "   'language': None,\n",
       "   'language_preference': -1,\n",
       "   'preference': None,\n",
       "   'ext': 'mp4',\n",
       "   'vcodec': 'avc1.640028',\n",
       "   'acodec': 'none',\n",
       "   'dynamic_range': 'SDR',\n",
       "   'container': 'mp4_dash',\n",
       "   'downloader_options': {'http_chunk_size': 10485760},\n",
       "   'protocol': 'https',\n",
       "   'resolution': '1920x1080',\n",
       "   'aspect_ratio': 1.78,\n",
       "   'http_headers': {'User-Agent': 'Mozilla/5.0 (Windows NT 10.0; Win64; x64) AppleWebKit/537.36 (KHTML, like Gecko) Chrome/96.0.4664.45 Safari/537.36', 'Accept': 'text/html,application/xhtml+xml,application/xml;q=0.9,*/*;q=0.8', 'Accept-Language': 'en-us,en;q=0.5', 'Sec-Fetch-Mode': 'navigate'},\n",
       "   'video_ext': 'mp4',\n",
       "   'audio_ext': 'none',\n",
       "   'abr': 0,\n",
       "   'vbr': 3771.122,\n",
       "   'format': '137 - 1920x1080 (1080p)'},\n",
       "  {'format_id': '614',\n",
       "   'format_index': None,\n",
       "   'url': 'https://manifest.googlevideo.com/api/manifest/hls_playlist/expire/1706789042/ei/UjS7ZdnoB_WdsfIPj8-7oAg/ip/205.175.118.189/id/80fc65600aaa95b9/itag/614/source/youtube/requiressl/yes/ratebypass/yes/pfa/1/wft/1/sgovp/clen%3D132294754%3Bdur%3D438.480%3Bgir%3Dyes%3Bitag%3D248%3Blmt%3D1667016714345661/rqh/1/hls_chunk_host/rr5---sn-nx57ynsl.googlevideo.com/xpc/EgVo2aDSNQ%3D%3D/mh/E6/mm/31,26/mn/sn-nx57ynsl,sn-vgqsrne6/ms/au,onr/mv/m/mvi/5/pl/19/initcwndbps/2825000/vprv/1/playlist_type/DVR/dover/13/txp/5535434/mt/1706767007/fvip/4/short_key/1/keepalive/yes/fexp/24007246/sparams/expire,ei,ip,id,itag,source,requiressl,ratebypass,pfa,wft,sgovp,rqh,xpc,vprv,playlist_type/sig/AJfQdSswRQIhAMUtaZpsCX5CTY7FGpq-qXqrCbpO9xGW6GKcdN0ardyQAiAtylEuJHwCVxqJViKOOsh5hOt4JOOx-XiKv3-wrdN5Pw%3D%3D/lsparams/hls_chunk_host,mh,mm,mn,ms,mv,mvi,pl,initcwndbps/lsig/AAO5W4owRgIhAMct58swgYfVDxfIKGMm3zObwWlNtRR3sSPVLq3nUgcyAiEAsAPqK9GIqE7oMqiVZzgjoB7cORhqJVb2ygyot5emQgk%3D/playlist/index.m3u8',\n",
       "   'manifest_url': 'https://manifest.googlevideo.com/api/manifest/hls_variant/expire/1706789042/ei/UjS7ZdnoB_WdsfIPj8-7oAg/ip/205.175.118.189/id/80fc65600aaa95b9/source/youtube/requiressl/yes/xpc/EgVo2aDSNQ%3D%3D/playback_host/rr5---sn-nx57ynsl.googlevideo.com/mh/E6/mm/31%2C26/mn/sn-nx57ynsl%2Csn-vgqsrne6/ms/au%2Conr/mv/m/mvi/5/pl/19/hfr/1/demuxed/1/tts_caps/1/maudio/1/initcwndbps/2825000/vprv/1/go/1/mt/1706767007/fvip/4/nvgoi/1/short_key/1/ncsapi/1/keepalive/yes/fexp/24007246/dover/13/itag/0/playlist_type/DVR/sparams/expire%2Cei%2Cip%2Cid%2Csource%2Crequiressl%2Cxpc%2Chfr%2Cdemuxed%2Ctts_caps%2Cmaudio%2Cvprv%2Cgo%2Citag%2Cplaylist_type/sig/AJfQdSswRQIhANzup8O7HszB3Mn8lev5X74-P6lDT9vRHUOzjwjQsIYgAiAZ0jujhKvhMU0qTi6PlhRydJ6WnQGA4IRTY54Xn0UsPg%3D%3D/lsparams/playback_host%2Cmh%2Cmm%2Cmn%2Cms%2Cmv%2Cmvi%2Cpl%2Cinitcwndbps/lsig/AAO5W4owRQIhAKZ2KLM438Do5maMTfKGCr7mYWSN_NGtCRhjGzqNQIw9AiBnASaJVSV5h6q6NBh0Fztx3snowpvCteJFq8xiiF-vAw%3D%3D/file/index.m3u8',\n",
       "   'tbr': 2845.942,\n",
       "   'ext': 'mp4',\n",
       "   'fps': 25.0,\n",
       "   'protocol': 'm3u8_native',\n",
       "   'preference': None,\n",
       "   'quality': 9,\n",
       "   'has_drm': False,\n",
       "   'width': 1920,\n",
       "   'height': 1080,\n",
       "   'vcodec': 'vp09.00.40.08',\n",
       "   'acodec': 'none',\n",
       "   'dynamic_range': 'SDR',\n",
       "   'source_preference': -1,\n",
       "   'resolution': '1920x1080',\n",
       "   'aspect_ratio': 1.78,\n",
       "   'http_headers': {'User-Agent': 'Mozilla/5.0 (Windows NT 10.0; Win64; x64) AppleWebKit/537.36 (KHTML, like Gecko) Chrome/96.0.4664.45 Safari/537.36', 'Accept': 'text/html,application/xhtml+xml,application/xml;q=0.9,*/*;q=0.8', 'Accept-Language': 'en-us,en;q=0.5', 'Sec-Fetch-Mode': 'navigate'},\n",
       "   'video_ext': 'mp4',\n",
       "   'audio_ext': 'none',\n",
       "   'abr': 0,\n",
       "   'vbr': 2845.942,\n",
       "   'format': '614 - 1920x1080'},\n",
       "  {'asr': None,\n",
       "   'filesize': 132294754,\n",
       "   'format_id': '248',\n",
       "   'format_note': '1080p',\n",
       "   'source_preference': -1,\n",
       "   'fps': 25,\n",
       "   'audio_channels': None,\n",
       "   'height': 1080,\n",
       "   'quality': 9.0,\n",
       "   'has_drm': False,\n",
       "   'tbr': 2413.697,\n",
       "   'url': 'https://rr5---sn-nx57ynsl.googlevideo.com/videoplayback?expire=1706789042&ei=UjS7ZdnoB_WdsfIPj8-7oAg&ip=205.175.118.189&id=o-AFeZfbcHaAwC8oGTGsTNM5lga6u0eXmr3OGSDnnlqXeV&itag=248&source=youtube&requiressl=yes&xpc=EgVo2aDSNQ%3D%3D&mh=E6&mm=31%2C26&mn=sn-nx57ynsl%2Csn-vgqsrne6&ms=au%2Conr&mv=m&mvi=5&pl=19&initcwndbps=2825000&vprv=1&svpuc=1&mime=video%2Fwebm&gir=yes&clen=132294754&dur=438.480&lmt=1667016714345661&mt=1706767007&fvip=4&keepalive=yes&fexp=24007246&c=IOS&txp=5535434&sparams=expire%2Cei%2Cip%2Cid%2Citag%2Csource%2Crequiressl%2Cxpc%2Cvprv%2Csvpuc%2Cmime%2Cgir%2Cclen%2Cdur%2Clmt&sig=AJfQdSswRQIgcAxcuFX_q6bIY4UyvgA9yqc1SBP4AY2MztOEZJrMPi0CIQC4x-uAXoz80tMKjX6Rh0hv0P2rqrBrfaJyNsQryOd7iw%3D%3D&lsparams=mh%2Cmm%2Cmn%2Cms%2Cmv%2Cmvi%2Cpl%2Cinitcwndbps&lsig=AAO5W4owRQIhALuTK5dHfXwYAD0s7r3HD7VvIeJsXS1hcDAa3vYpzoKuAiAmW9LSIlWT8mEoMpRGlDlv_hpXPmyR7yDg5THFbDSZ4A%3D%3D',\n",
       "   'width': 1920,\n",
       "   'language': None,\n",
       "   'language_preference': -1,\n",
       "   'preference': None,\n",
       "   'ext': 'webm',\n",
       "   'vcodec': 'vp09.00.40.08',\n",
       "   'acodec': 'none',\n",
       "   'dynamic_range': 'SDR',\n",
       "   'container': 'webm_dash',\n",
       "   'downloader_options': {'http_chunk_size': 10485760},\n",
       "   'protocol': 'https',\n",
       "   'resolution': '1920x1080',\n",
       "   'aspect_ratio': 1.78,\n",
       "   'http_headers': {'User-Agent': 'Mozilla/5.0 (Windows NT 10.0; Win64; x64) AppleWebKit/537.36 (KHTML, like Gecko) Chrome/96.0.4664.45 Safari/537.36', 'Accept': 'text/html,application/xhtml+xml,application/xml;q=0.9,*/*;q=0.8', 'Accept-Language': 'en-us,en;q=0.5', 'Sec-Fetch-Mode': 'navigate'},\n",
       "   'video_ext': 'webm',\n",
       "   'audio_ext': 'none',\n",
       "   'abr': 0,\n",
       "   'vbr': 2413.697,\n",
       "   'format': '248 - 1920x1080 (1080p)'},\n",
       "  {'format_id': '616',\n",
       "   'format_index': None,\n",
       "   'url': 'https://manifest.googlevideo.com/api/manifest/hls_playlist/expire/1706789042/ei/UjS7ZdnoB_WdsfIPj8-7oAg/ip/205.175.118.189/id/80fc65600aaa95b9/itag/616/source/youtube/requiressl/yes/ratebypass/yes/pfa/1/wft/1/sgovp/clen%3D261073343%3Bdur%3D438.480%3Bgir%3Dyes%3Bitag%3D356%3Blmt%3D1667013318957748/rqh/1/hls_chunk_host/rr5---sn-nx57ynsl.googlevideo.com/xpc/EgVo2aDSNQ%3D%3D/mh/E6/mm/31,26/mn/sn-nx57ynsl,sn-vgqsrne6/ms/au,onr/mv/m/mvi/5/pl/19/initcwndbps/2825000/vprv/1/playlist_type/DVR/dover/13/txp/5532434/mt/1706767007/fvip/4/short_key/1/keepalive/yes/fexp/24007246/sparams/expire,ei,ip,id,itag,source,requiressl,ratebypass,pfa,wft,sgovp,rqh,xpc,vprv,playlist_type/sig/AJfQdSswRQIhAIDkI4N8dJz_qrKnL_-ocmKeCmWMZsEiooWv7gBNSL6HAiAW-KCPWrcinftS9Qgmf1P7ONLS2n69fkwJHF69MKEYjA%3D%3D/lsparams/hls_chunk_host,mh,mm,mn,ms,mv,mvi,pl,initcwndbps/lsig/AAO5W4owRAIgDHa75_yAK29zPBCgVpf0_ptXvR4QMJ04TVIJv2y_RaICIBWqysl8xHXLZ44ZmpN-7kQs4O-v-bS2YG2g_voWVzM7/playlist/index.m3u8',\n",
       "   'manifest_url': 'https://manifest.googlevideo.com/api/manifest/hls_variant/expire/1706789042/ei/UjS7ZdnoB_WdsfIPj8-7oAg/ip/205.175.118.189/id/80fc65600aaa95b9/source/youtube/requiressl/yes/xpc/EgVo2aDSNQ%3D%3D/playback_host/rr5---sn-nx57ynsl.googlevideo.com/mh/E6/mm/31%2C26/mn/sn-nx57ynsl%2Csn-vgqsrne6/ms/au%2Conr/mv/m/mvi/5/pl/19/hfr/1/demuxed/1/tts_caps/1/maudio/1/initcwndbps/2825000/vprv/1/go/1/mt/1706767007/fvip/4/nvgoi/1/short_key/1/ncsapi/1/keepalive/yes/fexp/24007246/dover/13/itag/0/playlist_type/DVR/sparams/expire%2Cei%2Cip%2Cid%2Csource%2Crequiressl%2Cxpc%2Chfr%2Cdemuxed%2Ctts_caps%2Cmaudio%2Cvprv%2Cgo%2Citag%2Cplaylist_type/sig/AJfQdSswRQIhANzup8O7HszB3Mn8lev5X74-P6lDT9vRHUOzjwjQsIYgAiAZ0jujhKvhMU0qTi6PlhRydJ6WnQGA4IRTY54Xn0UsPg%3D%3D/lsparams/playback_host%2Cmh%2Cmm%2Cmn%2Cms%2Cmv%2Cmvi%2Cpl%2Cinitcwndbps/lsig/AAO5W4owRQIhAKZ2KLM438Do5maMTfKGCr7mYWSN_NGtCRhjGzqNQIw9AiBnASaJVSV5h6q6NBh0Fztx3snowpvCteJFq8xiiF-vAw%3D%3D/file/index.m3u8',\n",
       "   'tbr': 5833.093,\n",
       "   'ext': 'mp4',\n",
       "   'fps': 25.0,\n",
       "   'protocol': 'm3u8_native',\n",
       "   'preference': None,\n",
       "   'quality': 9,\n",
       "   'has_drm': False,\n",
       "   'width': 1920,\n",
       "   'height': 1080,\n",
       "   'vcodec': 'vp09.00.40.08',\n",
       "   'acodec': 'none',\n",
       "   'dynamic_range': 'SDR',\n",
       "   'source_preference': 99,\n",
       "   'format_note': 'Premium',\n",
       "   'resolution': '1920x1080',\n",
       "   'aspect_ratio': 1.78,\n",
       "   'http_headers': {'User-Agent': 'Mozilla/5.0 (Windows NT 10.0; Win64; x64) AppleWebKit/537.36 (KHTML, like Gecko) Chrome/96.0.4664.45 Safari/537.36', 'Accept': 'text/html,application/xhtml+xml,application/xml;q=0.9,*/*;q=0.8', 'Accept-Language': 'en-us,en;q=0.5', 'Sec-Fetch-Mode': 'navigate'},\n",
       "   'video_ext': 'mp4',\n",
       "   'audio_ext': 'none',\n",
       "   'abr': 0,\n",
       "   'vbr': 5833.093,\n",
       "   'format': '616 - 1920x1080 (Premium)'}],\n",
       " 'thumbnails': [{'url': 'https://i.ytimg.com/vi/gPxlYAqqlbk/3.jpg',\n",
       "   'preference': -37,\n",
       "   'id': '0'},\n",
       "  {'url': 'https://i.ytimg.com/vi_webp/gPxlYAqqlbk/3.webp',\n",
       "   'preference': -36,\n",
       "   'id': '1'},\n",
       "  {'url': 'https://i.ytimg.com/vi/gPxlYAqqlbk/2.jpg',\n",
       "   'preference': -35,\n",
       "   'id': '2'},\n",
       "  {'url': 'https://i.ytimg.com/vi_webp/gPxlYAqqlbk/2.webp',\n",
       "   'preference': -34,\n",
       "   'id': '3'},\n",
       "  {'url': 'https://i.ytimg.com/vi/gPxlYAqqlbk/1.jpg',\n",
       "   'preference': -33,\n",
       "   'id': '4'},\n",
       "  {'url': 'https://i.ytimg.com/vi_webp/gPxlYAqqlbk/1.webp',\n",
       "   'preference': -32,\n",
       "   'id': '5'},\n",
       "  {'url': 'https://i.ytimg.com/vi/gPxlYAqqlbk/mq3.jpg',\n",
       "   'preference': -31,\n",
       "   'id': '6'},\n",
       "  {'url': 'https://i.ytimg.com/vi_webp/gPxlYAqqlbk/mq3.webp',\n",
       "   'preference': -30,\n",
       "   'id': '7'},\n",
       "  {'url': 'https://i.ytimg.com/vi/gPxlYAqqlbk/mq2.jpg',\n",
       "   'preference': -29,\n",
       "   'id': '8'},\n",
       "  {'url': 'https://i.ytimg.com/vi_webp/gPxlYAqqlbk/mq2.webp',\n",
       "   'preference': -28,\n",
       "   'id': '9'},\n",
       "  {'url': 'https://i.ytimg.com/vi/gPxlYAqqlbk/mq1.jpg',\n",
       "   'preference': -27,\n",
       "   'id': '10'},\n",
       "  {'url': 'https://i.ytimg.com/vi_webp/gPxlYAqqlbk/mq1.webp',\n",
       "   'preference': -26,\n",
       "   'id': '11'},\n",
       "  {'url': 'https://i.ytimg.com/vi/gPxlYAqqlbk/hq3.jpg',\n",
       "   'preference': -25,\n",
       "   'id': '12'},\n",
       "  {'url': 'https://i.ytimg.com/vi_webp/gPxlYAqqlbk/hq3.webp',\n",
       "   'preference': -24,\n",
       "   'id': '13'},\n",
       "  {'url': 'https://i.ytimg.com/vi/gPxlYAqqlbk/hq2.jpg',\n",
       "   'preference': -23,\n",
       "   'id': '14'},\n",
       "  {'url': 'https://i.ytimg.com/vi_webp/gPxlYAqqlbk/hq2.webp',\n",
       "   'preference': -22,\n",
       "   'id': '15'},\n",
       "  {'url': 'https://i.ytimg.com/vi/gPxlYAqqlbk/hq1.jpg',\n",
       "   'preference': -21,\n",
       "   'id': '16'},\n",
       "  {'url': 'https://i.ytimg.com/vi_webp/gPxlYAqqlbk/hq1.webp',\n",
       "   'preference': -20,\n",
       "   'id': '17'},\n",
       "  {'url': 'https://i.ytimg.com/vi/gPxlYAqqlbk/sd3.jpg',\n",
       "   'preference': -19,\n",
       "   'id': '18'},\n",
       "  {'url': 'https://i.ytimg.com/vi_webp/gPxlYAqqlbk/sd3.webp',\n",
       "   'preference': -18,\n",
       "   'id': '19'},\n",
       "  {'url': 'https://i.ytimg.com/vi/gPxlYAqqlbk/sd2.jpg',\n",
       "   'preference': -17,\n",
       "   'id': '20'},\n",
       "  {'url': 'https://i.ytimg.com/vi_webp/gPxlYAqqlbk/sd2.webp',\n",
       "   'preference': -16,\n",
       "   'id': '21'},\n",
       "  {'url': 'https://i.ytimg.com/vi/gPxlYAqqlbk/sd1.jpg',\n",
       "   'preference': -15,\n",
       "   'id': '22'},\n",
       "  {'url': 'https://i.ytimg.com/vi_webp/gPxlYAqqlbk/sd1.webp',\n",
       "   'preference': -14,\n",
       "   'id': '23'},\n",
       "  {'url': 'https://i.ytimg.com/vi/gPxlYAqqlbk/default.jpg',\n",
       "   'preference': -13,\n",
       "   'id': '24'},\n",
       "  {'url': 'https://i.ytimg.com/vi_webp/gPxlYAqqlbk/default.webp',\n",
       "   'height': 90,\n",
       "   'width': 120,\n",
       "   'preference': -12,\n",
       "   'id': '25',\n",
       "   'resolution': '120x90'},\n",
       "  {'url': 'https://i.ytimg.com/vi/gPxlYAqqlbk/mqdefault.jpg',\n",
       "   'height': 180,\n",
       "   'width': 320,\n",
       "   'preference': -11,\n",
       "   'id': '26',\n",
       "   'resolution': '320x180'},\n",
       "  {'url': 'https://i.ytimg.com/vi_webp/gPxlYAqqlbk/mqdefault.webp',\n",
       "   'height': 180,\n",
       "   'width': 320,\n",
       "   'preference': -10,\n",
       "   'id': '27',\n",
       "   'resolution': '320x180'},\n",
       "  {'url': 'https://i.ytimg.com/vi/gPxlYAqqlbk/0.jpg',\n",
       "   'preference': -9,\n",
       "   'id': '28'},\n",
       "  {'url': 'https://i.ytimg.com/vi_webp/gPxlYAqqlbk/0.webp',\n",
       "   'preference': -8,\n",
       "   'id': '29'},\n",
       "  {'url': 'https://i.ytimg.com/vi/gPxlYAqqlbk/hqdefault.jpg?sqp=-oaymwEbCKgBEF5IVfKriqkDDggBFQAAiEIYAXABwAEG&rs=AOn4CLAE0WUgGRQ4eqx1r24kBwwAWZBJgQ',\n",
       "   'height': 94,\n",
       "   'width': 168,\n",
       "   'preference': -7,\n",
       "   'id': '30',\n",
       "   'resolution': '168x94'},\n",
       "  {'url': 'https://i.ytimg.com/vi/gPxlYAqqlbk/hqdefault.jpg?sqp=-oaymwEbCMQBEG5IVfKriqkDDggBFQAAiEIYAXABwAEG&rs=AOn4CLB9zcSoehqB9-3XGkLIRy71sJYwNw',\n",
       "   'height': 110,\n",
       "   'width': 196,\n",
       "   'preference': -7,\n",
       "   'id': '31',\n",
       "   'resolution': '196x110'},\n",
       "  {'url': 'https://i.ytimg.com/vi/gPxlYAqqlbk/hqdefault.jpg?sqp=-oaymwEcCPYBEIoBSFXyq4qpAw4IARUAAIhCGAFwAcABBg==&rs=AOn4CLCYYbm6wgS4LHzd3KN-dhdf_TRNtA',\n",
       "   'height': 138,\n",
       "   'width': 246,\n",
       "   'preference': -7,\n",
       "   'id': '32',\n",
       "   'resolution': '246x138'},\n",
       "  {'url': 'https://i.ytimg.com/vi/gPxlYAqqlbk/hqdefault.jpg?sqp=-oaymwEcCNACELwBSFXyq4qpAw4IARUAAIhCGAFwAcABBg==&rs=AOn4CLC_X0enzPGSRgSJATdINdxGvQqvXg',\n",
       "   'height': 188,\n",
       "   'width': 336,\n",
       "   'preference': -7,\n",
       "   'id': '33',\n",
       "   'resolution': '336x188'},\n",
       "  {'url': 'https://i.ytimg.com/vi/gPxlYAqqlbk/hqdefault.jpg',\n",
       "   'height': 360,\n",
       "   'width': 480,\n",
       "   'preference': -7,\n",
       "   'id': '34',\n",
       "   'resolution': '480x360'},\n",
       "  {'url': 'https://i.ytimg.com/vi_webp/gPxlYAqqlbk/hqdefault.webp',\n",
       "   'height': 360,\n",
       "   'width': 480,\n",
       "   'preference': -6,\n",
       "   'id': '35',\n",
       "   'resolution': '480x360'},\n",
       "  {'url': 'https://i.ytimg.com/vi/gPxlYAqqlbk/sddefault.jpg',\n",
       "   'height': 480,\n",
       "   'width': 640,\n",
       "   'preference': -5,\n",
       "   'id': '36',\n",
       "   'resolution': '640x480'},\n",
       "  {'url': 'https://i.ytimg.com/vi_webp/gPxlYAqqlbk/sddefault.webp',\n",
       "   'height': 480,\n",
       "   'width': 640,\n",
       "   'preference': -4,\n",
       "   'id': '37',\n",
       "   'resolution': '640x480'},\n",
       "  {'url': 'https://i.ytimg.com/vi/gPxlYAqqlbk/hq720.jpg',\n",
       "   'preference': -3,\n",
       "   'id': '38'},\n",
       "  {'url': 'https://i.ytimg.com/vi_webp/gPxlYAqqlbk/hq720.webp',\n",
       "   'preference': -2,\n",
       "   'id': '39'},\n",
       "  {'url': 'https://i.ytimg.com/vi/gPxlYAqqlbk/maxresdefault.jpg',\n",
       "   'height': 720,\n",
       "   'width': 1280,\n",
       "   'preference': -1,\n",
       "   'id': '40',\n",
       "   'resolution': '1280x720'},\n",
       "  {'url': 'https://i.ytimg.com/vi_webp/gPxlYAqqlbk/maxresdefault.webp',\n",
       "   'height': 1080,\n",
       "   'width': 1920,\n",
       "   'preference': 0,\n",
       "   'id': '41',\n",
       "   'resolution': '1920x1080'}],\n",
       " 'thumbnail': 'https://i.ytimg.com/vi_webp/gPxlYAqqlbk/maxresdefault.webp',\n",
       " 'description': 'Songtopia Livehouse EP.5 “HITS STROKE”\\nเพลง : โปรดส่งใครมารักฉันที\\nศิลปิน : INSTINCT\\nFULL EP : https://youtu.be/sNJQ8rnuCOY\\n\\n#โปรดส่งใครมารักฉันที #Instinct #SongtopiaLivehouse #Songtopia\\n\\nติดตาม Songtopia Livehouse ได้ทาง\\n💥 Facebook https://www.facebook.com/songtopiathailand\\n💥 YouTube https://www.youtube.com/@SongtopiaThailand\\n💥 Instagram https://www.instagram.com/songtopia_th\\n💥 Twitter https://twitter.com/Songtopia_th',\n",
       " 'channel_id': 'UCkL-XJeOpyjPpyHxb1JD-OA',\n",
       " 'channel_url': 'https://www.youtube.com/channel/UCkL-XJeOpyjPpyHxb1JD-OA',\n",
       " 'duration': 439,\n",
       " 'view_count': 9972881,\n",
       " 'average_rating': None,\n",
       " 'age_limit': 0,\n",
       " 'webpage_url': 'https://www.youtube.com/watch?v=gPxlYAqqlbk',\n",
       " 'categories': ['Music'],\n",
       " 'tags': [],\n",
       " 'playable_in_embed': True,\n",
       " 'live_status': 'not_live',\n",
       " 'release_timestamp': None,\n",
       " '_format_sort_fields': ('quality',\n",
       "  'res',\n",
       "  'fps',\n",
       "  'hdr:12',\n",
       "  'source',\n",
       "  'vcodec:vp9.2',\n",
       "  'channels',\n",
       "  'acodec',\n",
       "  'lang',\n",
       "  'proto'),\n",
       " 'automatic_captions': {},\n",
       " 'subtitles': {},\n",
       " 'comment_count': 565,\n",
       " 'chapters': None,\n",
       " 'heatmap': [{'start_time': 0.0, 'end_time': 4.39, 'value': 1.0},\n",
       "  {'start_time': 4.39, 'end_time': 8.78, 'value': 0.37360583015665744},\n",
       "  {'start_time': 8.78, 'end_time': 13.17, 'value': 0.37555288916934565},\n",
       "  {'start_time': 13.17, 'end_time': 17.56, 'value': 0.36231809441583157},\n",
       "  {'start_time': 17.56, 'end_time': 21.95, 'value': 0.36922821425564706},\n",
       "  {'start_time': 21.95, 'end_time': 26.34, 'value': 0.40074582046520507},\n",
       "  {'start_time': 26.34, 'end_time': 30.73, 'value': 0.4351403260377902},\n",
       "  {'start_time': 30.73, 'end_time': 35.12, 'value': 0.45602882631325703},\n",
       "  {'start_time': 35.12, 'end_time': 39.51, 'value': 0.48425389762799953},\n",
       "  {'start_time': 39.51, 'end_time': 43.9, 'value': 0.495309693593329},\n",
       "  {'start_time': 43.9, 'end_time': 48.29, 'value': 0.49716029868643374},\n",
       "  {'start_time': 48.29, 'end_time': 52.68, 'value': 0.5126200844048564},\n",
       "  {'start_time': 52.68, 'end_time': 57.07, 'value': 0.5139780818959285},\n",
       "  {'start_time': 57.07, 'end_time': 61.46, 'value': 0.5036170134546736},\n",
       "  {'start_time': 61.46, 'end_time': 65.85, 'value': 0.49500549014550227},\n",
       "  {'start_time': 65.85, 'end_time': 70.24, 'value': 0.48939301159451515},\n",
       "  {'start_time': 70.24, 'end_time': 74.63, 'value': 0.49377591591347225},\n",
       "  {'start_time': 74.63, 'end_time': 79.02, 'value': 0.5018714261063434},\n",
       "  {'start_time': 79.02, 'end_time': 83.41, 'value': 0.527526189823668},\n",
       "  {'start_time': 83.41, 'end_time': 87.8, 'value': 0.5732941376266416},\n",
       "  {'start_time': 87.8, 'end_time': 92.19, 'value': 0.6113860320769844},\n",
       "  {'start_time': 92.19, 'end_time': 96.58, 'value': 0.6799011372913388},\n",
       "  {'start_time': 96.58, 'end_time': 100.97, 'value': 0.6957926626271683},\n",
       "  {'start_time': 100.97, 'end_time': 105.36, 'value': 0.7716551204296447},\n",
       "  {'start_time': 105.36, 'end_time': 109.75, 'value': 0.8068579692150956},\n",
       "  {'start_time': 109.75, 'end_time': 114.14, 'value': 0.7692491290956558},\n",
       "  {'start_time': 114.14, 'end_time': 118.53, 'value': 0.6633949271959708},\n",
       "  {'start_time': 118.53, 'end_time': 122.92, 'value': 0.6025126809012112},\n",
       "  {'start_time': 122.92, 'end_time': 127.31, 'value': 0.5753491144842688},\n",
       "  {'start_time': 127.31, 'end_time': 131.7, 'value': 0.56809708989449},\n",
       "  {'start_time': 131.7, 'end_time': 136.09, 'value': 0.5523941734258192},\n",
       "  {'start_time': 136.09, 'end_time': 140.48, 'value': 0.5271712175635525},\n",
       "  {'start_time': 140.48, 'end_time': 144.87, 'value': 0.5224394823730633},\n",
       "  {'start_time': 144.87, 'end_time': 149.26, 'value': 0.49549618709330895},\n",
       "  {'start_time': 149.26, 'end_time': 153.65, 'value': 0.4664911594284858},\n",
       "  {'start_time': 153.65, 'end_time': 158.04, 'value': 0.44205013880817656},\n",
       "  {'start_time': 158.04, 'end_time': 162.43, 'value': 0.4398221112678018},\n",
       "  {'start_time': 162.43, 'end_time': 166.82, 'value': 0.4336846804682433},\n",
       "  {'start_time': 166.82, 'end_time': 171.21, 'value': 0.4328454255995083},\n",
       "  {'start_time': 171.21, 'end_time': 175.6, 'value': 0.4398664657409035},\n",
       "  {'start_time': 175.6, 'end_time': 179.99, 'value': 0.4258604149378018},\n",
       "  {'start_time': 179.99, 'end_time': 184.38, 'value': 0.43158917044596634},\n",
       "  {'start_time': 184.38, 'end_time': 188.77, 'value': 0.43939555771186534},\n",
       "  {'start_time': 188.77, 'end_time': 193.16, 'value': 0.43141523267375675},\n",
       "  {'start_time': 193.16, 'end_time': 197.55, 'value': 0.41771823019169746},\n",
       "  {'start_time': 197.55, 'end_time': 201.94, 'value': 0.38379459852932507},\n",
       "  {'start_time': 201.94, 'end_time': 206.33, 'value': 0.3478510982807268},\n",
       "  {'start_time': 206.33, 'end_time': 210.72, 'value': 0.32678214353738694},\n",
       "  {'start_time': 210.72, 'end_time': 215.11, 'value': 0.3111460658477978},\n",
       "  {'start_time': 215.11, 'end_time': 219.5, 'value': 0.30115876913948825},\n",
       "  {'start_time': 219.5, 'end_time': 223.89, 'value': 0.2962374015170765},\n",
       "  {'start_time': 223.89, 'end_time': 228.28, 'value': 0.2876021997430341},\n",
       "  {'start_time': 228.28, 'end_time': 232.67, 'value': 0.29158243368387865},\n",
       "  {'start_time': 232.67, 'end_time': 237.06, 'value': 0.2924236333256651},\n",
       "  {'start_time': 237.06, 'end_time': 241.45, 'value': 0.29022406088572644},\n",
       "  {'start_time': 241.45, 'end_time': 245.84, 'value': 0.29604480074733874},\n",
       "  {'start_time': 245.84, 'end_time': 250.23, 'value': 0.3014956584221084},\n",
       "  {'start_time': 250.23, 'end_time': 254.62, 'value': 0.31582553099767796},\n",
       "  {'start_time': 254.62, 'end_time': 259.01, 'value': 0.3467322396373237},\n",
       "  {'start_time': 259.01, 'end_time': 263.4, 'value': 0.39635131574559057},\n",
       "  {'start_time': 263.4, 'end_time': 267.79, 'value': 0.4502559892825945},\n",
       "  {'start_time': 267.79, 'end_time': 272.18, 'value': 0.5131054588158908},\n",
       "  {'start_time': 272.18, 'end_time': 276.57, 'value': 0.5667652274237225},\n",
       "  {'start_time': 276.57, 'end_time': 280.96, 'value': 0.5835834200591228},\n",
       "  {'start_time': 280.96, 'end_time': 285.35, 'value': 0.5890300811183605},\n",
       "  {'start_time': 285.35, 'end_time': 289.74, 'value': 0.5646527944640158},\n",
       "  {'start_time': 289.74, 'end_time': 294.13, 'value': 0.5378319857676731},\n",
       "  {'start_time': 294.13, 'end_time': 298.52, 'value': 0.4989159169694499},\n",
       "  {'start_time': 298.52, 'end_time': 302.91, 'value': 0.43413320654777793},\n",
       "  {'start_time': 302.91, 'end_time': 307.3, 'value': 0.42464592122662637},\n",
       "  {'start_time': 307.3, 'end_time': 311.69, 'value': 0.42463077246812087},\n",
       "  {'start_time': 311.69, 'end_time': 316.08, 'value': 0.4206304084202532},\n",
       "  {'start_time': 316.08, 'end_time': 320.47, 'value': 0.390850849298598},\n",
       "  {'start_time': 320.47, 'end_time': 324.86, 'value': 0.37070108983205263},\n",
       "  {'start_time': 324.86, 'end_time': 329.25, 'value': 0.34777757221185435},\n",
       "  {'start_time': 329.25, 'end_time': 333.64, 'value': 0.30932064044788465},\n",
       "  {'start_time': 333.64, 'end_time': 338.03, 'value': 0.285391026902438},\n",
       "  {'start_time': 338.03, 'end_time': 342.42, 'value': 0.27475734904573484},\n",
       "  {'start_time': 342.42, 'end_time': 346.81, 'value': 0.2672865545470884},\n",
       "  {'start_time': 346.81, 'end_time': 351.2, 'value': 0.2605533749361232},\n",
       "  {'start_time': 351.2, 'end_time': 355.59, 'value': 0.23921136723260417},\n",
       "  {'start_time': 355.59, 'end_time': 359.98, 'value': 0.2046646575796293},\n",
       "  {'start_time': 359.98, 'end_time': 364.37, 'value': 0.17957367333425284},\n",
       "  {'start_time': 364.37, 'end_time': 368.76, 'value': 0.15776089407699748},\n",
       "  {'start_time': 368.76, 'end_time': 373.15, 'value': 0.15438596221868922},\n",
       "  {'start_time': 373.15, 'end_time': 377.54, 'value': 0.13948934183335632},\n",
       "  {'start_time': 377.54, 'end_time': 381.93, 'value': 0.13926927540912096},\n",
       "  {'start_time': 381.93, 'end_time': 386.32, 'value': 0.13278635738292574},\n",
       "  {'start_time': 386.32, 'end_time': 390.71, 'value': 0.13156995301752436},\n",
       "  {'start_time': 390.71, 'end_time': 395.1, 'value': 0.12313386870888308},\n",
       "  {'start_time': 395.1, 'end_time': 399.49, 'value': 0.10612522478974913},\n",
       "  {'start_time': 399.49, 'end_time': 403.88, 'value': 0.09485526495698939},\n",
       "  {'start_time': 403.88, 'end_time': 408.27, 'value': 0.0882872545800898},\n",
       "  {'start_time': 408.27, 'end_time': 412.66, 'value': 0.07217421276994282},\n",
       "  {'start_time': 412.66, 'end_time': 417.05, 'value': 0.05349103395650515},\n",
       "  {'start_time': 417.05, 'end_time': 421.44, 'value': 0.04169675307344512},\n",
       "  {'start_time': 421.44, 'end_time': 425.83, 'value': 0.050605024867079455},\n",
       "  {'start_time': 425.83, 'end_time': 430.22, 'value': 0.01619419343651037},\n",
       "  {'start_time': 430.22, 'end_time': 434.61, 'value': 0.0},\n",
       "  {'start_time': 434.61, 'end_time': 439.0, 'value': 0.0347268058731805}],\n",
       " 'like_count': 35275,\n",
       " 'channel': 'Songtopia',\n",
       " 'channel_follower_count': 3450000,\n",
       " 'channel_is_verified': True,\n",
       " 'uploader': 'Songtopia',\n",
       " 'uploader_id': '@SongtopiaThailand',\n",
       " 'uploader_url': 'https://www.youtube.com/@SongtopiaThailand',\n",
       " 'upload_date': '20200727',\n",
       " 'availability': 'public',\n",
       " 'original_url': 'https://www.youtube.com/watch?v=gPxlYAqqlbk',\n",
       " 'webpage_url_basename': 'watch',\n",
       " 'webpage_url_domain': 'youtube.com',\n",
       " 'extractor': 'youtube',\n",
       " 'extractor_key': 'Youtube',\n",
       " 'playlist_count': 1,\n",
       " 'playlist': 'instinct songtopia lighthouse',\n",
       " 'playlist_id': 'instinct songtopia lighthouse',\n",
       " 'playlist_title': 'instinct songtopia lighthouse',\n",
       " 'playlist_uploader': None,\n",
       " 'playlist_uploader_id': None,\n",
       " 'n_entries': 1,\n",
       " 'playlist_index': 1,\n",
       " '__last_playlist_index': 1,\n",
       " 'playlist_autonumber': 1,\n",
       " 'display_id': 'gPxlYAqqlbk',\n",
       " 'fulltitle': 'โปรดส่งใครมารักฉันที - INSTINCT | Songtopia Livehouse',\n",
       " 'duration_string': '7:19',\n",
       " 'release_year': None,\n",
       " 'is_live': False,\n",
       " 'was_live': False,\n",
       " 'requested_subtitles': None,\n",
       " '_has_drm': None,\n",
       " 'epoch': 1706767442,\n",
       " 'requested_downloads': [{'format_id': '233',\n",
       "   'format_note': 'Default',\n",
       "   'url': 'https://manifest.googlevideo.com/api/manifest/hls_playlist/expire/1706789042/ei/UjS7ZdnoB_WdsfIPj8-7oAg/ip/205.175.118.189/id/80fc65600aaa95b9/itag/233/source/youtube/requiressl/yes/ratebypass/yes/pfa/1/goi/133/sgoap/clen%3D2675306%3Bdur%3D438.624%3Bgir%3Dyes%3Bitag%3D139%3Blmt%3D1628254670927553/rqh/1/hls_chunk_host/rr5---sn-nx57ynsl.googlevideo.com/xpc/EgVo2aDSNQ%3D%3D/mh/E6/mm/31,26/mn/sn-nx57ynsl,sn-vgqsrne6/ms/au,onr/mv/m/mvi/5/pl/19/initcwndbps/2825000/vprv/1/playlist_type/DVR/dover/13/txp/5532434/mt/1706767007/fvip/4/short_key/1/keepalive/yes/fexp/24007246/sparams/expire,ei,ip,id,itag,source,requiressl,ratebypass,pfa,goi,sgoap,rqh,xpc,vprv,playlist_type/sig/AJfQdSswRAIgE0xogrk02SwPwWBoMYG65OqLcxwHiCB71h8gJyrjiWgCIEnIepOvYuBdgjpnscZ2-5j9EXBkN_EQQtwN-X3zsc0P/lsparams/hls_chunk_host,mh,mm,mn,ms,mv,mvi,pl,initcwndbps/lsig/AAO5W4owRAIgFW8JqkG1zK9zf0_i3MxgRYuXbt-iITVwMj8snkxabw0CIHMGNyWNusuuU8bsowD-ii36jfCYkU1WNo6Lvrrnxjvl/playlist/index.m3u8',\n",
       "   'manifest_url': 'https://manifest.googlevideo.com/api/manifest/hls_variant/expire/1706789042/ei/UjS7ZdnoB_WdsfIPj8-7oAg/ip/205.175.118.189/id/80fc65600aaa95b9/source/youtube/requiressl/yes/xpc/EgVo2aDSNQ%3D%3D/playback_host/rr5---sn-nx57ynsl.googlevideo.com/mh/E6/mm/31%2C26/mn/sn-nx57ynsl%2Csn-vgqsrne6/ms/au%2Conr/mv/m/mvi/5/pl/19/hfr/1/demuxed/1/tts_caps/1/maudio/1/initcwndbps/2825000/vprv/1/go/1/mt/1706767007/fvip/4/nvgoi/1/short_key/1/ncsapi/1/keepalive/yes/fexp/24007246/dover/13/itag/0/playlist_type/DVR/sparams/expire%2Cei%2Cip%2Cid%2Csource%2Crequiressl%2Cxpc%2Chfr%2Cdemuxed%2Ctts_caps%2Cmaudio%2Cvprv%2Cgo%2Citag%2Cplaylist_type/sig/AJfQdSswRQIhANzup8O7HszB3Mn8lev5X74-P6lDT9vRHUOzjwjQsIYgAiAZ0jujhKvhMU0qTi6PlhRydJ6WnQGA4IRTY54Xn0UsPg%3D%3D/lsparams/playback_host%2Cmh%2Cmm%2Cmn%2Cms%2Cmv%2Cmvi%2Cpl%2Cinitcwndbps/lsig/AAO5W4owRQIhAKZ2KLM438Do5maMTfKGCr7mYWSN_NGtCRhjGzqNQIw9AiBnASaJVSV5h6q6NBh0Fztx3snowpvCteJFq8xiiF-vAw%3D%3D/file/index.m3u8',\n",
       "   'ext': 'mp4',\n",
       "   'protocol': 'm3u8_native',\n",
       "   'quality': -1,\n",
       "   'has_drm': False,\n",
       "   'vcodec': 'none',\n",
       "   'source_preference': -1,\n",
       "   'resolution': 'audio only',\n",
       "   'http_headers': {'User-Agent': 'Mozilla/5.0 (Windows NT 10.0; Win64; x64) AppleWebKit/537.36 (KHTML, like Gecko) Chrome/96.0.4664.45 Safari/537.36', 'Accept': 'text/html,application/xhtml+xml,application/xml;q=0.9,*/*;q=0.8', 'Accept-Language': 'en-us,en;q=0.5', 'Sec-Fetch-Mode': 'navigate'},\n",
       "   'audio_ext': 'mp4',\n",
       "   'video_ext': 'none',\n",
       "   'vbr': 0,\n",
       "   'format': '233 - audio only (Default)',\n",
       "   '_filename': '/mnt/d/Repos/millionbaht/dl/songs/gPxlYAqqlbk.mp4',\n",
       "   'filename': '/mnt/d/Repos/millionbaht/dl/songs/gPxlYAqqlbk.mp4',\n",
       "   '__postprocessors': [<yt_dlp.postprocessor.ffmpeg.FFmpegFixupM3u8PP at 0x7fdab1e51190>],\n",
       "   '__real_download': True,\n",
       "   '__finaldir': '/mnt/d/Repos/millionbaht/dl/songs',\n",
       "   'filepath': '/mnt/d/Repos/millionbaht/dl/songs/gPxlYAqqlbk.mp4',\n",
       "   '__write_download_archive': True}],\n",
       " 'format_id': '233',\n",
       " 'format_note': 'Default',\n",
       " 'format_index': None,\n",
       " 'url': 'https://manifest.googlevideo.com/api/manifest/hls_playlist/expire/1706789042/ei/UjS7ZdnoB_WdsfIPj8-7oAg/ip/205.175.118.189/id/80fc65600aaa95b9/itag/233/source/youtube/requiressl/yes/ratebypass/yes/pfa/1/goi/133/sgoap/clen%3D2675306%3Bdur%3D438.624%3Bgir%3Dyes%3Bitag%3D139%3Blmt%3D1628254670927553/rqh/1/hls_chunk_host/rr5---sn-nx57ynsl.googlevideo.com/xpc/EgVo2aDSNQ%3D%3D/mh/E6/mm/31,26/mn/sn-nx57ynsl,sn-vgqsrne6/ms/au,onr/mv/m/mvi/5/pl/19/initcwndbps/2825000/vprv/1/playlist_type/DVR/dover/13/txp/5532434/mt/1706767007/fvip/4/short_key/1/keepalive/yes/fexp/24007246/sparams/expire,ei,ip,id,itag,source,requiressl,ratebypass,pfa,goi,sgoap,rqh,xpc,vprv,playlist_type/sig/AJfQdSswRAIgE0xogrk02SwPwWBoMYG65OqLcxwHiCB71h8gJyrjiWgCIEnIepOvYuBdgjpnscZ2-5j9EXBkN_EQQtwN-X3zsc0P/lsparams/hls_chunk_host,mh,mm,mn,ms,mv,mvi,pl,initcwndbps/lsig/AAO5W4owRAIgFW8JqkG1zK9zf0_i3MxgRYuXbt-iITVwMj8snkxabw0CIHMGNyWNusuuU8bsowD-ii36jfCYkU1WNo6Lvrrnxjvl/playlist/index.m3u8',\n",
       " 'manifest_url': 'https://manifest.googlevideo.com/api/manifest/hls_variant/expire/1706789042/ei/UjS7ZdnoB_WdsfIPj8-7oAg/ip/205.175.118.189/id/80fc65600aaa95b9/source/youtube/requiressl/yes/xpc/EgVo2aDSNQ%3D%3D/playback_host/rr5---sn-nx57ynsl.googlevideo.com/mh/E6/mm/31%2C26/mn/sn-nx57ynsl%2Csn-vgqsrne6/ms/au%2Conr/mv/m/mvi/5/pl/19/hfr/1/demuxed/1/tts_caps/1/maudio/1/initcwndbps/2825000/vprv/1/go/1/mt/1706767007/fvip/4/nvgoi/1/short_key/1/ncsapi/1/keepalive/yes/fexp/24007246/dover/13/itag/0/playlist_type/DVR/sparams/expire%2Cei%2Cip%2Cid%2Csource%2Crequiressl%2Cxpc%2Chfr%2Cdemuxed%2Ctts_caps%2Cmaudio%2Cvprv%2Cgo%2Citag%2Cplaylist_type/sig/AJfQdSswRQIhANzup8O7HszB3Mn8lev5X74-P6lDT9vRHUOzjwjQsIYgAiAZ0jujhKvhMU0qTi6PlhRydJ6WnQGA4IRTY54Xn0UsPg%3D%3D/lsparams/playback_host%2Cmh%2Cmm%2Cmn%2Cms%2Cmv%2Cmvi%2Cpl%2Cinitcwndbps/lsig/AAO5W4owRQIhAKZ2KLM438Do5maMTfKGCr7mYWSN_NGtCRhjGzqNQIw9AiBnASaJVSV5h6q6NBh0Fztx3snowpvCteJFq8xiiF-vAw%3D%3D/file/index.m3u8',\n",
       " 'language': None,\n",
       " 'ext': 'mp4',\n",
       " 'protocol': 'm3u8_native',\n",
       " 'preference': None,\n",
       " 'quality': -1,\n",
       " 'has_drm': False,\n",
       " 'vcodec': 'none',\n",
       " 'source_preference': -1,\n",
       " 'resolution': 'audio only',\n",
       " 'aspect_ratio': None,\n",
       " 'http_headers': {'User-Agent': 'Mozilla/5.0 (Windows NT 10.0; Win64; x64) AppleWebKit/537.36 (KHTML, like Gecko) Chrome/96.0.4664.45 Safari/537.36', 'Accept': 'text/html,application/xhtml+xml,application/xml;q=0.9,*/*;q=0.8', 'Accept-Language': 'en-us,en;q=0.5', 'Sec-Fetch-Mode': 'navigate'},\n",
       " 'audio_ext': 'mp4',\n",
       " 'video_ext': 'none',\n",
       " 'vbr': 0,\n",
       " 'abr': None,\n",
       " 'tbr': None,\n",
       " 'format': '233 - audio only (Default)'}"
      ]
     },
     "execution_count": 6,
     "metadata": {},
     "output_type": "execute_result"
    }
   ],
   "source": [
    "info[\"entries\"][0]"
   ]
  },
  {
   "cell_type": "code",
   "execution_count": 10,
   "metadata": {},
   "outputs": [
    {
     "data": {
      "text/html": [
       "<pre style=\"white-space:pre;overflow-x:auto;line-height:normal;font-family:Menlo,'DejaVu Sans Mono',consolas,'Courier New',monospace\">id: str\n",
       "</pre>\n"
      ],
      "text/plain": [
       "id: str\n"
      ]
     },
     "metadata": {},
     "output_type": "display_data"
    },
    {
     "data": {
      "text/html": [
       "<pre style=\"white-space:pre;overflow-x:auto;line-height:normal;font-family:Menlo,'DejaVu Sans Mono',consolas,'Courier New',monospace\">title: str\n",
       "</pre>\n"
      ],
      "text/plain": [
       "title: str\n"
      ]
     },
     "metadata": {},
     "output_type": "display_data"
    },
    {
     "data": {
      "text/html": [
       "<pre style=\"white-space:pre;overflow-x:auto;line-height:normal;font-family:Menlo,'DejaVu Sans Mono',consolas,'Courier New',monospace\">formats: list\n",
       "</pre>\n"
      ],
      "text/plain": [
       "formats: list\n"
      ]
     },
     "metadata": {},
     "output_type": "display_data"
    },
    {
     "data": {
      "text/html": [
       "<pre style=\"white-space:pre;overflow-x:auto;line-height:normal;font-family:Menlo,'DejaVu Sans Mono',consolas,'Courier New',monospace\">thumbnails: list\n",
       "</pre>\n"
      ],
      "text/plain": [
       "thumbnails: list\n"
      ]
     },
     "metadata": {},
     "output_type": "display_data"
    },
    {
     "data": {
      "text/html": [
       "<pre style=\"white-space:pre;overflow-x:auto;line-height:normal;font-family:Menlo,'DejaVu Sans Mono',consolas,'Courier New',monospace\">thumbnail: str\n",
       "</pre>\n"
      ],
      "text/plain": [
       "thumbnail: str\n"
      ]
     },
     "metadata": {},
     "output_type": "display_data"
    },
    {
     "data": {
      "text/html": [
       "<pre style=\"white-space:pre;overflow-x:auto;line-height:normal;font-family:Menlo,'DejaVu Sans Mono',consolas,'Courier New',monospace\">description: str\n",
       "</pre>\n"
      ],
      "text/plain": [
       "description: str\n"
      ]
     },
     "metadata": {},
     "output_type": "display_data"
    },
    {
     "data": {
      "text/html": [
       "<pre style=\"white-space:pre;overflow-x:auto;line-height:normal;font-family:Menlo,'DejaVu Sans Mono',consolas,'Courier New',monospace\">channel_id: str\n",
       "</pre>\n"
      ],
      "text/plain": [
       "channel_id: str\n"
      ]
     },
     "metadata": {},
     "output_type": "display_data"
    },
    {
     "data": {
      "text/html": [
       "<pre style=\"white-space:pre;overflow-x:auto;line-height:normal;font-family:Menlo,'DejaVu Sans Mono',consolas,'Courier New',monospace\">channel_url: str\n",
       "</pre>\n"
      ],
      "text/plain": [
       "channel_url: str\n"
      ]
     },
     "metadata": {},
     "output_type": "display_data"
    },
    {
     "data": {
      "text/html": [
       "<pre style=\"white-space:pre;overflow-x:auto;line-height:normal;font-family:Menlo,'DejaVu Sans Mono',consolas,'Courier New',monospace\">duration: int\n",
       "</pre>\n"
      ],
      "text/plain": [
       "duration: int\n"
      ]
     },
     "metadata": {},
     "output_type": "display_data"
    },
    {
     "data": {
      "text/html": [
       "<pre style=\"white-space:pre;overflow-x:auto;line-height:normal;font-family:Menlo,'DejaVu Sans Mono',consolas,'Courier New',monospace\">view_count: int\n",
       "</pre>\n"
      ],
      "text/plain": [
       "view_count: int\n"
      ]
     },
     "metadata": {},
     "output_type": "display_data"
    },
    {
     "data": {
      "text/html": [
       "<pre style=\"white-space:pre;overflow-x:auto;line-height:normal;font-family:Menlo,'DejaVu Sans Mono',consolas,'Courier New',monospace\">average_rating: NoneType\n",
       "</pre>\n"
      ],
      "text/plain": [
       "average_rating: NoneType\n"
      ]
     },
     "metadata": {},
     "output_type": "display_data"
    },
    {
     "data": {
      "text/html": [
       "<pre style=\"white-space:pre;overflow-x:auto;line-height:normal;font-family:Menlo,'DejaVu Sans Mono',consolas,'Courier New',monospace\">age_limit: int\n",
       "</pre>\n"
      ],
      "text/plain": [
       "age_limit: int\n"
      ]
     },
     "metadata": {},
     "output_type": "display_data"
    },
    {
     "data": {
      "text/html": [
       "<pre style=\"white-space:pre;overflow-x:auto;line-height:normal;font-family:Menlo,'DejaVu Sans Mono',consolas,'Courier New',monospace\">webpage_url: str\n",
       "</pre>\n"
      ],
      "text/plain": [
       "webpage_url: str\n"
      ]
     },
     "metadata": {},
     "output_type": "display_data"
    },
    {
     "data": {
      "text/html": [
       "<pre style=\"white-space:pre;overflow-x:auto;line-height:normal;font-family:Menlo,'DejaVu Sans Mono',consolas,'Courier New',monospace\">categories: list\n",
       "</pre>\n"
      ],
      "text/plain": [
       "categories: list\n"
      ]
     },
     "metadata": {},
     "output_type": "display_data"
    },
    {
     "data": {
      "text/html": [
       "<pre style=\"white-space:pre;overflow-x:auto;line-height:normal;font-family:Menlo,'DejaVu Sans Mono',consolas,'Courier New',monospace\">tags: list\n",
       "</pre>\n"
      ],
      "text/plain": [
       "tags: list\n"
      ]
     },
     "metadata": {},
     "output_type": "display_data"
    },
    {
     "data": {
      "text/html": [
       "<pre style=\"white-space:pre;overflow-x:auto;line-height:normal;font-family:Menlo,'DejaVu Sans Mono',consolas,'Courier New',monospace\">playable_in_embed: bool\n",
       "</pre>\n"
      ],
      "text/plain": [
       "playable_in_embed: bool\n"
      ]
     },
     "metadata": {},
     "output_type": "display_data"
    },
    {
     "data": {
      "text/html": [
       "<pre style=\"white-space:pre;overflow-x:auto;line-height:normal;font-family:Menlo,'DejaVu Sans Mono',consolas,'Courier New',monospace\">live_status: str\n",
       "</pre>\n"
      ],
      "text/plain": [
       "live_status: str\n"
      ]
     },
     "metadata": {},
     "output_type": "display_data"
    },
    {
     "data": {
      "text/html": [
       "<pre style=\"white-space:pre;overflow-x:auto;line-height:normal;font-family:Menlo,'DejaVu Sans Mono',consolas,'Courier New',monospace\">release_timestamp: NoneType\n",
       "</pre>\n"
      ],
      "text/plain": [
       "release_timestamp: NoneType\n"
      ]
     },
     "metadata": {},
     "output_type": "display_data"
    },
    {
     "data": {
      "text/html": [
       "<pre style=\"white-space:pre;overflow-x:auto;line-height:normal;font-family:Menlo,'DejaVu Sans Mono',consolas,'Courier New',monospace\">_format_sort_fields: tuple\n",
       "</pre>\n"
      ],
      "text/plain": [
       "_format_sort_fields: tuple\n"
      ]
     },
     "metadata": {},
     "output_type": "display_data"
    },
    {
     "data": {
      "text/html": [
       "<pre style=\"white-space:pre;overflow-x:auto;line-height:normal;font-family:Menlo,'DejaVu Sans Mono',consolas,'Courier New',monospace\">automatic_captions: dict\n",
       "</pre>\n"
      ],
      "text/plain": [
       "automatic_captions: dict\n"
      ]
     },
     "metadata": {},
     "output_type": "display_data"
    },
    {
     "data": {
      "text/html": [
       "<pre style=\"white-space:pre;overflow-x:auto;line-height:normal;font-family:Menlo,'DejaVu Sans Mono',consolas,'Courier New',monospace\">subtitles: dict\n",
       "</pre>\n"
      ],
      "text/plain": [
       "subtitles: dict\n"
      ]
     },
     "metadata": {},
     "output_type": "display_data"
    },
    {
     "data": {
      "text/html": [
       "<pre style=\"white-space:pre;overflow-x:auto;line-height:normal;font-family:Menlo,'DejaVu Sans Mono',consolas,'Courier New',monospace\">comment_count: int\n",
       "</pre>\n"
      ],
      "text/plain": [
       "comment_count: int\n"
      ]
     },
     "metadata": {},
     "output_type": "display_data"
    },
    {
     "data": {
      "text/html": [
       "<pre style=\"white-space:pre;overflow-x:auto;line-height:normal;font-family:Menlo,'DejaVu Sans Mono',consolas,'Courier New',monospace\">chapters: NoneType\n",
       "</pre>\n"
      ],
      "text/plain": [
       "chapters: NoneType\n"
      ]
     },
     "metadata": {},
     "output_type": "display_data"
    },
    {
     "data": {
      "text/html": [
       "<pre style=\"white-space:pre;overflow-x:auto;line-height:normal;font-family:Menlo,'DejaVu Sans Mono',consolas,'Courier New',monospace\">heatmap: list\n",
       "</pre>\n"
      ],
      "text/plain": [
       "heatmap: list\n"
      ]
     },
     "metadata": {},
     "output_type": "display_data"
    },
    {
     "data": {
      "text/html": [
       "<pre style=\"white-space:pre;overflow-x:auto;line-height:normal;font-family:Menlo,'DejaVu Sans Mono',consolas,'Courier New',monospace\">like_count: int\n",
       "</pre>\n"
      ],
      "text/plain": [
       "like_count: int\n"
      ]
     },
     "metadata": {},
     "output_type": "display_data"
    },
    {
     "data": {
      "text/html": [
       "<pre style=\"white-space:pre;overflow-x:auto;line-height:normal;font-family:Menlo,'DejaVu Sans Mono',consolas,'Courier New',monospace\">channel: str\n",
       "</pre>\n"
      ],
      "text/plain": [
       "channel: str\n"
      ]
     },
     "metadata": {},
     "output_type": "display_data"
    },
    {
     "data": {
      "text/html": [
       "<pre style=\"white-space:pre;overflow-x:auto;line-height:normal;font-family:Menlo,'DejaVu Sans Mono',consolas,'Courier New',monospace\">channel_follower_count: int\n",
       "</pre>\n"
      ],
      "text/plain": [
       "channel_follower_count: int\n"
      ]
     },
     "metadata": {},
     "output_type": "display_data"
    },
    {
     "data": {
      "text/html": [
       "<pre style=\"white-space:pre;overflow-x:auto;line-height:normal;font-family:Menlo,'DejaVu Sans Mono',consolas,'Courier New',monospace\">channel_is_verified: bool\n",
       "</pre>\n"
      ],
      "text/plain": [
       "channel_is_verified: bool\n"
      ]
     },
     "metadata": {},
     "output_type": "display_data"
    },
    {
     "data": {
      "text/html": [
       "<pre style=\"white-space:pre;overflow-x:auto;line-height:normal;font-family:Menlo,'DejaVu Sans Mono',consolas,'Courier New',monospace\">uploader: str\n",
       "</pre>\n"
      ],
      "text/plain": [
       "uploader: str\n"
      ]
     },
     "metadata": {},
     "output_type": "display_data"
    },
    {
     "data": {
      "text/html": [
       "<pre style=\"white-space:pre;overflow-x:auto;line-height:normal;font-family:Menlo,'DejaVu Sans Mono',consolas,'Courier New',monospace\">uploader_id: str\n",
       "</pre>\n"
      ],
      "text/plain": [
       "uploader_id: str\n"
      ]
     },
     "metadata": {},
     "output_type": "display_data"
    },
    {
     "data": {
      "text/html": [
       "<pre style=\"white-space:pre;overflow-x:auto;line-height:normal;font-family:Menlo,'DejaVu Sans Mono',consolas,'Courier New',monospace\">uploader_url: str\n",
       "</pre>\n"
      ],
      "text/plain": [
       "uploader_url: str\n"
      ]
     },
     "metadata": {},
     "output_type": "display_data"
    },
    {
     "data": {
      "text/html": [
       "<pre style=\"white-space:pre;overflow-x:auto;line-height:normal;font-family:Menlo,'DejaVu Sans Mono',consolas,'Courier New',monospace\">upload_date: str\n",
       "</pre>\n"
      ],
      "text/plain": [
       "upload_date: str\n"
      ]
     },
     "metadata": {},
     "output_type": "display_data"
    },
    {
     "data": {
      "text/html": [
       "<pre style=\"white-space:pre;overflow-x:auto;line-height:normal;font-family:Menlo,'DejaVu Sans Mono',consolas,'Courier New',monospace\">availability: str\n",
       "</pre>\n"
      ],
      "text/plain": [
       "availability: str\n"
      ]
     },
     "metadata": {},
     "output_type": "display_data"
    },
    {
     "data": {
      "text/html": [
       "<pre style=\"white-space:pre;overflow-x:auto;line-height:normal;font-family:Menlo,'DejaVu Sans Mono',consolas,'Courier New',monospace\">original_url: str\n",
       "</pre>\n"
      ],
      "text/plain": [
       "original_url: str\n"
      ]
     },
     "metadata": {},
     "output_type": "display_data"
    },
    {
     "data": {
      "text/html": [
       "<pre style=\"white-space:pre;overflow-x:auto;line-height:normal;font-family:Menlo,'DejaVu Sans Mono',consolas,'Courier New',monospace\">webpage_url_basename: str\n",
       "</pre>\n"
      ],
      "text/plain": [
       "webpage_url_basename: str\n"
      ]
     },
     "metadata": {},
     "output_type": "display_data"
    },
    {
     "data": {
      "text/html": [
       "<pre style=\"white-space:pre;overflow-x:auto;line-height:normal;font-family:Menlo,'DejaVu Sans Mono',consolas,'Courier New',monospace\">webpage_url_domain: str\n",
       "</pre>\n"
      ],
      "text/plain": [
       "webpage_url_domain: str\n"
      ]
     },
     "metadata": {},
     "output_type": "display_data"
    },
    {
     "data": {
      "text/html": [
       "<pre style=\"white-space:pre;overflow-x:auto;line-height:normal;font-family:Menlo,'DejaVu Sans Mono',consolas,'Courier New',monospace\">extractor: str\n",
       "</pre>\n"
      ],
      "text/plain": [
       "extractor: str\n"
      ]
     },
     "metadata": {},
     "output_type": "display_data"
    },
    {
     "data": {
      "text/html": [
       "<pre style=\"white-space:pre;overflow-x:auto;line-height:normal;font-family:Menlo,'DejaVu Sans Mono',consolas,'Courier New',monospace\">extractor_key: str\n",
       "</pre>\n"
      ],
      "text/plain": [
       "extractor_key: str\n"
      ]
     },
     "metadata": {},
     "output_type": "display_data"
    },
    {
     "data": {
      "text/html": [
       "<pre style=\"white-space:pre;overflow-x:auto;line-height:normal;font-family:Menlo,'DejaVu Sans Mono',consolas,'Courier New',monospace\">playlist_count: int\n",
       "</pre>\n"
      ],
      "text/plain": [
       "playlist_count: int\n"
      ]
     },
     "metadata": {},
     "output_type": "display_data"
    },
    {
     "data": {
      "text/html": [
       "<pre style=\"white-space:pre;overflow-x:auto;line-height:normal;font-family:Menlo,'DejaVu Sans Mono',consolas,'Courier New',monospace\">playlist: str\n",
       "</pre>\n"
      ],
      "text/plain": [
       "playlist: str\n"
      ]
     },
     "metadata": {},
     "output_type": "display_data"
    },
    {
     "data": {
      "text/html": [
       "<pre style=\"white-space:pre;overflow-x:auto;line-height:normal;font-family:Menlo,'DejaVu Sans Mono',consolas,'Courier New',monospace\">playlist_id: str\n",
       "</pre>\n"
      ],
      "text/plain": [
       "playlist_id: str\n"
      ]
     },
     "metadata": {},
     "output_type": "display_data"
    },
    {
     "data": {
      "text/html": [
       "<pre style=\"white-space:pre;overflow-x:auto;line-height:normal;font-family:Menlo,'DejaVu Sans Mono',consolas,'Courier New',monospace\">playlist_title: str\n",
       "</pre>\n"
      ],
      "text/plain": [
       "playlist_title: str\n"
      ]
     },
     "metadata": {},
     "output_type": "display_data"
    },
    {
     "data": {
      "text/html": [
       "<pre style=\"white-space:pre;overflow-x:auto;line-height:normal;font-family:Menlo,'DejaVu Sans Mono',consolas,'Courier New',monospace\">playlist_uploader: NoneType\n",
       "</pre>\n"
      ],
      "text/plain": [
       "playlist_uploader: NoneType\n"
      ]
     },
     "metadata": {},
     "output_type": "display_data"
    },
    {
     "data": {
      "text/html": [
       "<pre style=\"white-space:pre;overflow-x:auto;line-height:normal;font-family:Menlo,'DejaVu Sans Mono',consolas,'Courier New',monospace\">playlist_uploader_id: NoneType\n",
       "</pre>\n"
      ],
      "text/plain": [
       "playlist_uploader_id: NoneType\n"
      ]
     },
     "metadata": {},
     "output_type": "display_data"
    },
    {
     "data": {
      "text/html": [
       "<pre style=\"white-space:pre;overflow-x:auto;line-height:normal;font-family:Menlo,'DejaVu Sans Mono',consolas,'Courier New',monospace\">n_entries: int\n",
       "</pre>\n"
      ],
      "text/plain": [
       "n_entries: int\n"
      ]
     },
     "metadata": {},
     "output_type": "display_data"
    },
    {
     "data": {
      "text/html": [
       "<pre style=\"white-space:pre;overflow-x:auto;line-height:normal;font-family:Menlo,'DejaVu Sans Mono',consolas,'Courier New',monospace\">playlist_index: int\n",
       "</pre>\n"
      ],
      "text/plain": [
       "playlist_index: int\n"
      ]
     },
     "metadata": {},
     "output_type": "display_data"
    },
    {
     "data": {
      "text/html": [
       "<pre style=\"white-space:pre;overflow-x:auto;line-height:normal;font-family:Menlo,'DejaVu Sans Mono',consolas,'Courier New',monospace\">__last_playlist_index: int\n",
       "</pre>\n"
      ],
      "text/plain": [
       "__last_playlist_index: int\n"
      ]
     },
     "metadata": {},
     "output_type": "display_data"
    },
    {
     "data": {
      "text/html": [
       "<pre style=\"white-space:pre;overflow-x:auto;line-height:normal;font-family:Menlo,'DejaVu Sans Mono',consolas,'Courier New',monospace\">playlist_autonumber: int\n",
       "</pre>\n"
      ],
      "text/plain": [
       "playlist_autonumber: int\n"
      ]
     },
     "metadata": {},
     "output_type": "display_data"
    },
    {
     "data": {
      "text/html": [
       "<pre style=\"white-space:pre;overflow-x:auto;line-height:normal;font-family:Menlo,'DejaVu Sans Mono',consolas,'Courier New',monospace\">display_id: str\n",
       "</pre>\n"
      ],
      "text/plain": [
       "display_id: str\n"
      ]
     },
     "metadata": {},
     "output_type": "display_data"
    },
    {
     "data": {
      "text/html": [
       "<pre style=\"white-space:pre;overflow-x:auto;line-height:normal;font-family:Menlo,'DejaVu Sans Mono',consolas,'Courier New',monospace\">fulltitle: str\n",
       "</pre>\n"
      ],
      "text/plain": [
       "fulltitle: str\n"
      ]
     },
     "metadata": {},
     "output_type": "display_data"
    },
    {
     "data": {
      "text/html": [
       "<pre style=\"white-space:pre;overflow-x:auto;line-height:normal;font-family:Menlo,'DejaVu Sans Mono',consolas,'Courier New',monospace\">duration_string: str\n",
       "</pre>\n"
      ],
      "text/plain": [
       "duration_string: str\n"
      ]
     },
     "metadata": {},
     "output_type": "display_data"
    },
    {
     "data": {
      "text/html": [
       "<pre style=\"white-space:pre;overflow-x:auto;line-height:normal;font-family:Menlo,'DejaVu Sans Mono',consolas,'Courier New',monospace\">release_year: NoneType\n",
       "</pre>\n"
      ],
      "text/plain": [
       "release_year: NoneType\n"
      ]
     },
     "metadata": {},
     "output_type": "display_data"
    },
    {
     "data": {
      "text/html": [
       "<pre style=\"white-space:pre;overflow-x:auto;line-height:normal;font-family:Menlo,'DejaVu Sans Mono',consolas,'Courier New',monospace\">is_live: bool\n",
       "</pre>\n"
      ],
      "text/plain": [
       "is_live: bool\n"
      ]
     },
     "metadata": {},
     "output_type": "display_data"
    },
    {
     "data": {
      "text/html": [
       "<pre style=\"white-space:pre;overflow-x:auto;line-height:normal;font-family:Menlo,'DejaVu Sans Mono',consolas,'Courier New',monospace\">was_live: bool\n",
       "</pre>\n"
      ],
      "text/plain": [
       "was_live: bool\n"
      ]
     },
     "metadata": {},
     "output_type": "display_data"
    },
    {
     "data": {
      "text/html": [
       "<pre style=\"white-space:pre;overflow-x:auto;line-height:normal;font-family:Menlo,'DejaVu Sans Mono',consolas,'Courier New',monospace\">requested_subtitles: NoneType\n",
       "</pre>\n"
      ],
      "text/plain": [
       "requested_subtitles: NoneType\n"
      ]
     },
     "metadata": {},
     "output_type": "display_data"
    },
    {
     "data": {
      "text/html": [
       "<pre style=\"white-space:pre;overflow-x:auto;line-height:normal;font-family:Menlo,'DejaVu Sans Mono',consolas,'Courier New',monospace\">_has_drm: NoneType\n",
       "</pre>\n"
      ],
      "text/plain": [
       "_has_drm: NoneType\n"
      ]
     },
     "metadata": {},
     "output_type": "display_data"
    },
    {
     "data": {
      "text/html": [
       "<pre style=\"white-space:pre;overflow-x:auto;line-height:normal;font-family:Menlo,'DejaVu Sans Mono',consolas,'Courier New',monospace\">epoch: int\n",
       "</pre>\n"
      ],
      "text/plain": [
       "epoch: int\n"
      ]
     },
     "metadata": {},
     "output_type": "display_data"
    },
    {
     "data": {
      "text/html": [
       "<pre style=\"white-space:pre;overflow-x:auto;line-height:normal;font-family:Menlo,'DejaVu Sans Mono',consolas,'Courier New',monospace\">requested_downloads: list\n",
       "</pre>\n"
      ],
      "text/plain": [
       "requested_downloads: list\n"
      ]
     },
     "metadata": {},
     "output_type": "display_data"
    },
    {
     "data": {
      "text/html": [
       "<pre style=\"white-space:pre;overflow-x:auto;line-height:normal;font-family:Menlo,'DejaVu Sans Mono',consolas,'Courier New',monospace\">format_id: str\n",
       "</pre>\n"
      ],
      "text/plain": [
       "format_id: str\n"
      ]
     },
     "metadata": {},
     "output_type": "display_data"
    },
    {
     "data": {
      "text/html": [
       "<pre style=\"white-space:pre;overflow-x:auto;line-height:normal;font-family:Menlo,'DejaVu Sans Mono',consolas,'Courier New',monospace\">format_note: str\n",
       "</pre>\n"
      ],
      "text/plain": [
       "format_note: str\n"
      ]
     },
     "metadata": {},
     "output_type": "display_data"
    },
    {
     "data": {
      "text/html": [
       "<pre style=\"white-space:pre;overflow-x:auto;line-height:normal;font-family:Menlo,'DejaVu Sans Mono',consolas,'Courier New',monospace\">format_index: NoneType\n",
       "</pre>\n"
      ],
      "text/plain": [
       "format_index: NoneType\n"
      ]
     },
     "metadata": {},
     "output_type": "display_data"
    },
    {
     "data": {
      "text/html": [
       "<pre style=\"white-space:pre;overflow-x:auto;line-height:normal;font-family:Menlo,'DejaVu Sans Mono',consolas,'Courier New',monospace\">url: str\n",
       "</pre>\n"
      ],
      "text/plain": [
       "url: str\n"
      ]
     },
     "metadata": {},
     "output_type": "display_data"
    },
    {
     "data": {
      "text/html": [
       "<pre style=\"white-space:pre;overflow-x:auto;line-height:normal;font-family:Menlo,'DejaVu Sans Mono',consolas,'Courier New',monospace\">manifest_url: str\n",
       "</pre>\n"
      ],
      "text/plain": [
       "manifest_url: str\n"
      ]
     },
     "metadata": {},
     "output_type": "display_data"
    },
    {
     "data": {
      "text/html": [
       "<pre style=\"white-space:pre;overflow-x:auto;line-height:normal;font-family:Menlo,'DejaVu Sans Mono',consolas,'Courier New',monospace\">language: NoneType\n",
       "</pre>\n"
      ],
      "text/plain": [
       "language: NoneType\n"
      ]
     },
     "metadata": {},
     "output_type": "display_data"
    },
    {
     "data": {
      "text/html": [
       "<pre style=\"white-space:pre;overflow-x:auto;line-height:normal;font-family:Menlo,'DejaVu Sans Mono',consolas,'Courier New',monospace\">ext: str\n",
       "</pre>\n"
      ],
      "text/plain": [
       "ext: str\n"
      ]
     },
     "metadata": {},
     "output_type": "display_data"
    },
    {
     "data": {
      "text/html": [
       "<pre style=\"white-space:pre;overflow-x:auto;line-height:normal;font-family:Menlo,'DejaVu Sans Mono',consolas,'Courier New',monospace\">protocol: str\n",
       "</pre>\n"
      ],
      "text/plain": [
       "protocol: str\n"
      ]
     },
     "metadata": {},
     "output_type": "display_data"
    },
    {
     "data": {
      "text/html": [
       "<pre style=\"white-space:pre;overflow-x:auto;line-height:normal;font-family:Menlo,'DejaVu Sans Mono',consolas,'Courier New',monospace\">preference: NoneType\n",
       "</pre>\n"
      ],
      "text/plain": [
       "preference: NoneType\n"
      ]
     },
     "metadata": {},
     "output_type": "display_data"
    },
    {
     "data": {
      "text/html": [
       "<pre style=\"white-space:pre;overflow-x:auto;line-height:normal;font-family:Menlo,'DejaVu Sans Mono',consolas,'Courier New',monospace\">quality: int\n",
       "</pre>\n"
      ],
      "text/plain": [
       "quality: int\n"
      ]
     },
     "metadata": {},
     "output_type": "display_data"
    },
    {
     "data": {
      "text/html": [
       "<pre style=\"white-space:pre;overflow-x:auto;line-height:normal;font-family:Menlo,'DejaVu Sans Mono',consolas,'Courier New',monospace\">has_drm: bool\n",
       "</pre>\n"
      ],
      "text/plain": [
       "has_drm: bool\n"
      ]
     },
     "metadata": {},
     "output_type": "display_data"
    },
    {
     "data": {
      "text/html": [
       "<pre style=\"white-space:pre;overflow-x:auto;line-height:normal;font-family:Menlo,'DejaVu Sans Mono',consolas,'Courier New',monospace\">vcodec: str\n",
       "</pre>\n"
      ],
      "text/plain": [
       "vcodec: str\n"
      ]
     },
     "metadata": {},
     "output_type": "display_data"
    },
    {
     "data": {
      "text/html": [
       "<pre style=\"white-space:pre;overflow-x:auto;line-height:normal;font-family:Menlo,'DejaVu Sans Mono',consolas,'Courier New',monospace\">source_preference: int\n",
       "</pre>\n"
      ],
      "text/plain": [
       "source_preference: int\n"
      ]
     },
     "metadata": {},
     "output_type": "display_data"
    },
    {
     "data": {
      "text/html": [
       "<pre style=\"white-space:pre;overflow-x:auto;line-height:normal;font-family:Menlo,'DejaVu Sans Mono',consolas,'Courier New',monospace\">resolution: str\n",
       "</pre>\n"
      ],
      "text/plain": [
       "resolution: str\n"
      ]
     },
     "metadata": {},
     "output_type": "display_data"
    },
    {
     "data": {
      "text/html": [
       "<pre style=\"white-space:pre;overflow-x:auto;line-height:normal;font-family:Menlo,'DejaVu Sans Mono',consolas,'Courier New',monospace\">aspect_ratio: NoneType\n",
       "</pre>\n"
      ],
      "text/plain": [
       "aspect_ratio: NoneType\n"
      ]
     },
     "metadata": {},
     "output_type": "display_data"
    },
    {
     "data": {
      "text/html": [
       "<pre style=\"white-space:pre;overflow-x:auto;line-height:normal;font-family:Menlo,'DejaVu Sans Mono',consolas,'Courier New',monospace\">http_headers: HTTPHeaderDict\n",
       "</pre>\n"
      ],
      "text/plain": [
       "http_headers: HTTPHeaderDict\n"
      ]
     },
     "metadata": {},
     "output_type": "display_data"
    },
    {
     "data": {
      "text/html": [
       "<pre style=\"white-space:pre;overflow-x:auto;line-height:normal;font-family:Menlo,'DejaVu Sans Mono',consolas,'Courier New',monospace\">audio_ext: str\n",
       "</pre>\n"
      ],
      "text/plain": [
       "audio_ext: str\n"
      ]
     },
     "metadata": {},
     "output_type": "display_data"
    },
    {
     "data": {
      "text/html": [
       "<pre style=\"white-space:pre;overflow-x:auto;line-height:normal;font-family:Menlo,'DejaVu Sans Mono',consolas,'Courier New',monospace\">video_ext: str\n",
       "</pre>\n"
      ],
      "text/plain": [
       "video_ext: str\n"
      ]
     },
     "metadata": {},
     "output_type": "display_data"
    },
    {
     "data": {
      "text/html": [
       "<pre style=\"white-space:pre;overflow-x:auto;line-height:normal;font-family:Menlo,'DejaVu Sans Mono',consolas,'Courier New',monospace\">vbr: int\n",
       "</pre>\n"
      ],
      "text/plain": [
       "vbr: int\n"
      ]
     },
     "metadata": {},
     "output_type": "display_data"
    },
    {
     "data": {
      "text/html": [
       "<pre style=\"white-space:pre;overflow-x:auto;line-height:normal;font-family:Menlo,'DejaVu Sans Mono',consolas,'Courier New',monospace\">abr: NoneType\n",
       "</pre>\n"
      ],
      "text/plain": [
       "abr: NoneType\n"
      ]
     },
     "metadata": {},
     "output_type": "display_data"
    },
    {
     "data": {
      "text/html": [
       "<pre style=\"white-space:pre;overflow-x:auto;line-height:normal;font-family:Menlo,'DejaVu Sans Mono',consolas,'Courier New',monospace\">tbr: NoneType\n",
       "</pre>\n"
      ],
      "text/plain": [
       "tbr: NoneType\n"
      ]
     },
     "metadata": {},
     "output_type": "display_data"
    },
    {
     "data": {
      "text/html": [
       "<pre style=\"white-space:pre;overflow-x:auto;line-height:normal;font-family:Menlo,'DejaVu Sans Mono',consolas,'Courier New',monospace\">format: str\n",
       "</pre>\n"
      ],
      "text/plain": [
       "format: str\n"
      ]
     },
     "metadata": {},
     "output_type": "display_data"
    }
   ],
   "source": [
    "dd = info[\"entries\"][0]\n",
    "for k in dd.keys():\n",
    "    print(f\"{k}: {type(dd[k]).__name__}\")"
   ]
  }
 ],
 "metadata": {
  "kernelspec": {
   "display_name": "mlb",
   "language": "python",
   "name": "python3"
  },
  "language_info": {
   "codemirror_mode": {
    "name": "ipython",
    "version": 3
   },
   "file_extension": ".py",
   "mimetype": "text/x-python",
   "name": "python",
   "nbconvert_exporter": "python",
   "pygments_lexer": "ipython3",
   "version": "3.11.7"
  }
 },
 "nbformat": 4,
 "nbformat_minor": 2
}
